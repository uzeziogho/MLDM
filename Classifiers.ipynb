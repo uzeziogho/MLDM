{
  "nbformat": 4,
  "nbformat_minor": 0,
  "metadata": {
    "colab": {
      "provenance": [],
      "mount_file_id": "1He_dRdGmkVQOHFvG9gG-lY96k-LaGoFU",
      "authorship_tag": "ABX9TyM7H4STCC/GNET8yEDE9h1u",
      "include_colab_link": true
    },
    "kernelspec": {
      "name": "python3",
      "display_name": "Python 3"
    },
    "language_info": {
      "name": "python"
    }
  },
  "cells": [
    {
      "cell_type": "markdown",
      "metadata": {
        "id": "view-in-github",
        "colab_type": "text"
      },
      "source": [
        "<a href=\"https://colab.research.google.com/github/uzeziogho/MLDM/blob/Classification/Classifiers.ipynb\" target=\"_parent\"><img src=\"https://colab.research.google.com/assets/colab-badge.svg\" alt=\"Open In Colab\"/></a>"
      ]
    },
    {
      "cell_type": "code",
      "execution_count": null,
      "metadata": {
        "id": "zjxi_YULvNGv"
      },
      "outputs": [],
      "source": [
        "import pandas as pd\n",
        "import numpy as np\n",
        "import matplotlib.pyplot as plt\n",
        "from sklearn import preprocessing\n",
        "from sklearn.feature_selection import SelectKBest, f_regression\n",
        "from sklearn.model_selection import train_test_split\n",
        "from sklearn import metrics\n",
        "from sklearn.metrics import classification_report, confusion_matrix, accuracy_score, f1_score\n",
        "from sklearn.preprocessing import LabelEncoder\n",
        "from sklearn.preprocessing import StandardScaler\n",
        "from pylab import *"
      ]
    },
    {
      "cell_type": "code",
      "source": [
        "import seaborn as sns\n",
        "\n",
        "from collections import Counter"
      ],
      "metadata": {
        "id": "T6Fq9biYyo_M"
      },
      "execution_count": null,
      "outputs": []
    },
    {
      "cell_type": "code",
      "source": [
        "class1= pd.read_csv('/content/Maternal Health Risk Data Set.csv')\n",
        "class1.head()"
      ],
      "metadata": {
        "colab": {
          "base_uri": "https://localhost:8080/",
          "height": 206
        },
        "id": "O4kmV9Dc699d",
        "outputId": "7f033232-bceb-4286-cfd0-364445db4d9e"
      },
      "execution_count": null,
      "outputs": [
        {
          "output_type": "execute_result",
          "data": {
            "text/plain": [
              "   Age  SystolicBP  DiastolicBP    BS  BodyTemp  HeartRate  RiskLevel\n",
              "0   25         130           80  15.0      98.0         86  high risk\n",
              "1   35         140           90  13.0      98.0         70  high risk\n",
              "2   29          90           70   8.0     100.0         80  high risk\n",
              "3   30         140           85   7.0      98.0         70  high risk\n",
              "4   35         120           60   6.1      98.0         76   low risk"
            ],
            "text/html": [
              "\n",
              "  <div id=\"df-093c4ad1-cda6-45c5-8766-ee9b9fc0602a\">\n",
              "    <div class=\"colab-df-container\">\n",
              "      <div>\n",
              "<style scoped>\n",
              "    .dataframe tbody tr th:only-of-type {\n",
              "        vertical-align: middle;\n",
              "    }\n",
              "\n",
              "    .dataframe tbody tr th {\n",
              "        vertical-align: top;\n",
              "    }\n",
              "\n",
              "    .dataframe thead th {\n",
              "        text-align: right;\n",
              "    }\n",
              "</style>\n",
              "<table border=\"1\" class=\"dataframe\">\n",
              "  <thead>\n",
              "    <tr style=\"text-align: right;\">\n",
              "      <th></th>\n",
              "      <th>Age</th>\n",
              "      <th>SystolicBP</th>\n",
              "      <th>DiastolicBP</th>\n",
              "      <th>BS</th>\n",
              "      <th>BodyTemp</th>\n",
              "      <th>HeartRate</th>\n",
              "      <th>RiskLevel</th>\n",
              "    </tr>\n",
              "  </thead>\n",
              "  <tbody>\n",
              "    <tr>\n",
              "      <th>0</th>\n",
              "      <td>25</td>\n",
              "      <td>130</td>\n",
              "      <td>80</td>\n",
              "      <td>15.0</td>\n",
              "      <td>98.0</td>\n",
              "      <td>86</td>\n",
              "      <td>high risk</td>\n",
              "    </tr>\n",
              "    <tr>\n",
              "      <th>1</th>\n",
              "      <td>35</td>\n",
              "      <td>140</td>\n",
              "      <td>90</td>\n",
              "      <td>13.0</td>\n",
              "      <td>98.0</td>\n",
              "      <td>70</td>\n",
              "      <td>high risk</td>\n",
              "    </tr>\n",
              "    <tr>\n",
              "      <th>2</th>\n",
              "      <td>29</td>\n",
              "      <td>90</td>\n",
              "      <td>70</td>\n",
              "      <td>8.0</td>\n",
              "      <td>100.0</td>\n",
              "      <td>80</td>\n",
              "      <td>high risk</td>\n",
              "    </tr>\n",
              "    <tr>\n",
              "      <th>3</th>\n",
              "      <td>30</td>\n",
              "      <td>140</td>\n",
              "      <td>85</td>\n",
              "      <td>7.0</td>\n",
              "      <td>98.0</td>\n",
              "      <td>70</td>\n",
              "      <td>high risk</td>\n",
              "    </tr>\n",
              "    <tr>\n",
              "      <th>4</th>\n",
              "      <td>35</td>\n",
              "      <td>120</td>\n",
              "      <td>60</td>\n",
              "      <td>6.1</td>\n",
              "      <td>98.0</td>\n",
              "      <td>76</td>\n",
              "      <td>low risk</td>\n",
              "    </tr>\n",
              "  </tbody>\n",
              "</table>\n",
              "</div>\n",
              "      <button class=\"colab-df-convert\" onclick=\"convertToInteractive('df-093c4ad1-cda6-45c5-8766-ee9b9fc0602a')\"\n",
              "              title=\"Convert this dataframe to an interactive table.\"\n",
              "              style=\"display:none;\">\n",
              "        \n",
              "  <svg xmlns=\"http://www.w3.org/2000/svg\" height=\"24px\"viewBox=\"0 0 24 24\"\n",
              "       width=\"24px\">\n",
              "    <path d=\"M0 0h24v24H0V0z\" fill=\"none\"/>\n",
              "    <path d=\"M18.56 5.44l.94 2.06.94-2.06 2.06-.94-2.06-.94-.94-2.06-.94 2.06-2.06.94zm-11 1L8.5 8.5l.94-2.06 2.06-.94-2.06-.94L8.5 2.5l-.94 2.06-2.06.94zm10 10l.94 2.06.94-2.06 2.06-.94-2.06-.94-.94-2.06-.94 2.06-2.06.94z\"/><path d=\"M17.41 7.96l-1.37-1.37c-.4-.4-.92-.59-1.43-.59-.52 0-1.04.2-1.43.59L10.3 9.45l-7.72 7.72c-.78.78-.78 2.05 0 2.83L4 21.41c.39.39.9.59 1.41.59.51 0 1.02-.2 1.41-.59l7.78-7.78 2.81-2.81c.8-.78.8-2.07 0-2.86zM5.41 20L4 18.59l7.72-7.72 1.47 1.35L5.41 20z\"/>\n",
              "  </svg>\n",
              "      </button>\n",
              "      \n",
              "  <style>\n",
              "    .colab-df-container {\n",
              "      display:flex;\n",
              "      flex-wrap:wrap;\n",
              "      gap: 12px;\n",
              "    }\n",
              "\n",
              "    .colab-df-convert {\n",
              "      background-color: #E8F0FE;\n",
              "      border: none;\n",
              "      border-radius: 50%;\n",
              "      cursor: pointer;\n",
              "      display: none;\n",
              "      fill: #1967D2;\n",
              "      height: 32px;\n",
              "      padding: 0 0 0 0;\n",
              "      width: 32px;\n",
              "    }\n",
              "\n",
              "    .colab-df-convert:hover {\n",
              "      background-color: #E2EBFA;\n",
              "      box-shadow: 0px 1px 2px rgba(60, 64, 67, 0.3), 0px 1px 3px 1px rgba(60, 64, 67, 0.15);\n",
              "      fill: #174EA6;\n",
              "    }\n",
              "\n",
              "    [theme=dark] .colab-df-convert {\n",
              "      background-color: #3B4455;\n",
              "      fill: #D2E3FC;\n",
              "    }\n",
              "\n",
              "    [theme=dark] .colab-df-convert:hover {\n",
              "      background-color: #434B5C;\n",
              "      box-shadow: 0px 1px 3px 1px rgba(0, 0, 0, 0.15);\n",
              "      filter: drop-shadow(0px 1px 2px rgba(0, 0, 0, 0.3));\n",
              "      fill: #FFFFFF;\n",
              "    }\n",
              "  </style>\n",
              "\n",
              "      <script>\n",
              "        const buttonEl =\n",
              "          document.querySelector('#df-093c4ad1-cda6-45c5-8766-ee9b9fc0602a button.colab-df-convert');\n",
              "        buttonEl.style.display =\n",
              "          google.colab.kernel.accessAllowed ? 'block' : 'none';\n",
              "\n",
              "        async function convertToInteractive(key) {\n",
              "          const element = document.querySelector('#df-093c4ad1-cda6-45c5-8766-ee9b9fc0602a');\n",
              "          const dataTable =\n",
              "            await google.colab.kernel.invokeFunction('convertToInteractive',\n",
              "                                                     [key], {});\n",
              "          if (!dataTable) return;\n",
              "\n",
              "          const docLinkHtml = 'Like what you see? Visit the ' +\n",
              "            '<a target=\"_blank\" href=https://colab.research.google.com/notebooks/data_table.ipynb>data table notebook</a>'\n",
              "            + ' to learn more about interactive tables.';\n",
              "          element.innerHTML = '';\n",
              "          dataTable['output_type'] = 'display_data';\n",
              "          await google.colab.output.renderOutput(dataTable, element);\n",
              "          const docLink = document.createElement('div');\n",
              "          docLink.innerHTML = docLinkHtml;\n",
              "          element.appendChild(docLink);\n",
              "        }\n",
              "      </script>\n",
              "    </div>\n",
              "  </div>\n",
              "  "
            ]
          },
          "metadata": {},
          "execution_count": 3
        }
      ]
    },
    {
      "cell_type": "code",
      "source": [
        "kf=class1.copy()\n",
        "class1.describe()"
      ],
      "metadata": {
        "colab": {
          "base_uri": "https://localhost:8080/",
          "height": 300
        },
        "id": "-L_069L97nAe",
        "outputId": "78285f28-71c6-4ece-86b2-ef616551d00a"
      },
      "execution_count": null,
      "outputs": [
        {
          "output_type": "execute_result",
          "data": {
            "text/plain": [
              "               Age   SystolicBP  DiastolicBP           BS     BodyTemp  \\\n",
              "count  1014.000000  1014.000000  1014.000000  1014.000000  1014.000000   \n",
              "mean     29.871795   113.198225    76.460552     8.725986    98.665089   \n",
              "std      13.474386    18.403913    13.885796     3.293532     1.371384   \n",
              "min      10.000000    70.000000    49.000000     6.000000    98.000000   \n",
              "25%      19.000000   100.000000    65.000000     6.900000    98.000000   \n",
              "50%      26.000000   120.000000    80.000000     7.500000    98.000000   \n",
              "75%      39.000000   120.000000    90.000000     8.000000    98.000000   \n",
              "max      70.000000   160.000000   100.000000    19.000000   103.000000   \n",
              "\n",
              "         HeartRate  \n",
              "count  1014.000000  \n",
              "mean     74.301775  \n",
              "std       8.088702  \n",
              "min       7.000000  \n",
              "25%      70.000000  \n",
              "50%      76.000000  \n",
              "75%      80.000000  \n",
              "max      90.000000  "
            ],
            "text/html": [
              "\n",
              "  <div id=\"df-e84ad240-4bc1-4806-9b17-be8271d39d82\">\n",
              "    <div class=\"colab-df-container\">\n",
              "      <div>\n",
              "<style scoped>\n",
              "    .dataframe tbody tr th:only-of-type {\n",
              "        vertical-align: middle;\n",
              "    }\n",
              "\n",
              "    .dataframe tbody tr th {\n",
              "        vertical-align: top;\n",
              "    }\n",
              "\n",
              "    .dataframe thead th {\n",
              "        text-align: right;\n",
              "    }\n",
              "</style>\n",
              "<table border=\"1\" class=\"dataframe\">\n",
              "  <thead>\n",
              "    <tr style=\"text-align: right;\">\n",
              "      <th></th>\n",
              "      <th>Age</th>\n",
              "      <th>SystolicBP</th>\n",
              "      <th>DiastolicBP</th>\n",
              "      <th>BS</th>\n",
              "      <th>BodyTemp</th>\n",
              "      <th>HeartRate</th>\n",
              "    </tr>\n",
              "  </thead>\n",
              "  <tbody>\n",
              "    <tr>\n",
              "      <th>count</th>\n",
              "      <td>1014.000000</td>\n",
              "      <td>1014.000000</td>\n",
              "      <td>1014.000000</td>\n",
              "      <td>1014.000000</td>\n",
              "      <td>1014.000000</td>\n",
              "      <td>1014.000000</td>\n",
              "    </tr>\n",
              "    <tr>\n",
              "      <th>mean</th>\n",
              "      <td>29.871795</td>\n",
              "      <td>113.198225</td>\n",
              "      <td>76.460552</td>\n",
              "      <td>8.725986</td>\n",
              "      <td>98.665089</td>\n",
              "      <td>74.301775</td>\n",
              "    </tr>\n",
              "    <tr>\n",
              "      <th>std</th>\n",
              "      <td>13.474386</td>\n",
              "      <td>18.403913</td>\n",
              "      <td>13.885796</td>\n",
              "      <td>3.293532</td>\n",
              "      <td>1.371384</td>\n",
              "      <td>8.088702</td>\n",
              "    </tr>\n",
              "    <tr>\n",
              "      <th>min</th>\n",
              "      <td>10.000000</td>\n",
              "      <td>70.000000</td>\n",
              "      <td>49.000000</td>\n",
              "      <td>6.000000</td>\n",
              "      <td>98.000000</td>\n",
              "      <td>7.000000</td>\n",
              "    </tr>\n",
              "    <tr>\n",
              "      <th>25%</th>\n",
              "      <td>19.000000</td>\n",
              "      <td>100.000000</td>\n",
              "      <td>65.000000</td>\n",
              "      <td>6.900000</td>\n",
              "      <td>98.000000</td>\n",
              "      <td>70.000000</td>\n",
              "    </tr>\n",
              "    <tr>\n",
              "      <th>50%</th>\n",
              "      <td>26.000000</td>\n",
              "      <td>120.000000</td>\n",
              "      <td>80.000000</td>\n",
              "      <td>7.500000</td>\n",
              "      <td>98.000000</td>\n",
              "      <td>76.000000</td>\n",
              "    </tr>\n",
              "    <tr>\n",
              "      <th>75%</th>\n",
              "      <td>39.000000</td>\n",
              "      <td>120.000000</td>\n",
              "      <td>90.000000</td>\n",
              "      <td>8.000000</td>\n",
              "      <td>98.000000</td>\n",
              "      <td>80.000000</td>\n",
              "    </tr>\n",
              "    <tr>\n",
              "      <th>max</th>\n",
              "      <td>70.000000</td>\n",
              "      <td>160.000000</td>\n",
              "      <td>100.000000</td>\n",
              "      <td>19.000000</td>\n",
              "      <td>103.000000</td>\n",
              "      <td>90.000000</td>\n",
              "    </tr>\n",
              "  </tbody>\n",
              "</table>\n",
              "</div>\n",
              "      <button class=\"colab-df-convert\" onclick=\"convertToInteractive('df-e84ad240-4bc1-4806-9b17-be8271d39d82')\"\n",
              "              title=\"Convert this dataframe to an interactive table.\"\n",
              "              style=\"display:none;\">\n",
              "        \n",
              "  <svg xmlns=\"http://www.w3.org/2000/svg\" height=\"24px\"viewBox=\"0 0 24 24\"\n",
              "       width=\"24px\">\n",
              "    <path d=\"M0 0h24v24H0V0z\" fill=\"none\"/>\n",
              "    <path d=\"M18.56 5.44l.94 2.06.94-2.06 2.06-.94-2.06-.94-.94-2.06-.94 2.06-2.06.94zm-11 1L8.5 8.5l.94-2.06 2.06-.94-2.06-.94L8.5 2.5l-.94 2.06-2.06.94zm10 10l.94 2.06.94-2.06 2.06-.94-2.06-.94-.94-2.06-.94 2.06-2.06.94z\"/><path d=\"M17.41 7.96l-1.37-1.37c-.4-.4-.92-.59-1.43-.59-.52 0-1.04.2-1.43.59L10.3 9.45l-7.72 7.72c-.78.78-.78 2.05 0 2.83L4 21.41c.39.39.9.59 1.41.59.51 0 1.02-.2 1.41-.59l7.78-7.78 2.81-2.81c.8-.78.8-2.07 0-2.86zM5.41 20L4 18.59l7.72-7.72 1.47 1.35L5.41 20z\"/>\n",
              "  </svg>\n",
              "      </button>\n",
              "      \n",
              "  <style>\n",
              "    .colab-df-container {\n",
              "      display:flex;\n",
              "      flex-wrap:wrap;\n",
              "      gap: 12px;\n",
              "    }\n",
              "\n",
              "    .colab-df-convert {\n",
              "      background-color: #E8F0FE;\n",
              "      border: none;\n",
              "      border-radius: 50%;\n",
              "      cursor: pointer;\n",
              "      display: none;\n",
              "      fill: #1967D2;\n",
              "      height: 32px;\n",
              "      padding: 0 0 0 0;\n",
              "      width: 32px;\n",
              "    }\n",
              "\n",
              "    .colab-df-convert:hover {\n",
              "      background-color: #E2EBFA;\n",
              "      box-shadow: 0px 1px 2px rgba(60, 64, 67, 0.3), 0px 1px 3px 1px rgba(60, 64, 67, 0.15);\n",
              "      fill: #174EA6;\n",
              "    }\n",
              "\n",
              "    [theme=dark] .colab-df-convert {\n",
              "      background-color: #3B4455;\n",
              "      fill: #D2E3FC;\n",
              "    }\n",
              "\n",
              "    [theme=dark] .colab-df-convert:hover {\n",
              "      background-color: #434B5C;\n",
              "      box-shadow: 0px 1px 3px 1px rgba(0, 0, 0, 0.15);\n",
              "      filter: drop-shadow(0px 1px 2px rgba(0, 0, 0, 0.3));\n",
              "      fill: #FFFFFF;\n",
              "    }\n",
              "  </style>\n",
              "\n",
              "      <script>\n",
              "        const buttonEl =\n",
              "          document.querySelector('#df-e84ad240-4bc1-4806-9b17-be8271d39d82 button.colab-df-convert');\n",
              "        buttonEl.style.display =\n",
              "          google.colab.kernel.accessAllowed ? 'block' : 'none';\n",
              "\n",
              "        async function convertToInteractive(key) {\n",
              "          const element = document.querySelector('#df-e84ad240-4bc1-4806-9b17-be8271d39d82');\n",
              "          const dataTable =\n",
              "            await google.colab.kernel.invokeFunction('convertToInteractive',\n",
              "                                                     [key], {});\n",
              "          if (!dataTable) return;\n",
              "\n",
              "          const docLinkHtml = 'Like what you see? Visit the ' +\n",
              "            '<a target=\"_blank\" href=https://colab.research.google.com/notebooks/data_table.ipynb>data table notebook</a>'\n",
              "            + ' to learn more about interactive tables.';\n",
              "          element.innerHTML = '';\n",
              "          dataTable['output_type'] = 'display_data';\n",
              "          await google.colab.output.renderOutput(dataTable, element);\n",
              "          const docLink = document.createElement('div');\n",
              "          docLink.innerHTML = docLinkHtml;\n",
              "          element.appendChild(docLink);\n",
              "        }\n",
              "      </script>\n",
              "    </div>\n",
              "  </div>\n",
              "  "
            ]
          },
          "metadata": {},
          "execution_count": 197
        }
      ]
    },
    {
      "cell_type": "code",
      "source": [
        "class1.hist(layout=(4,4), figsize=(20,10))"
      ],
      "metadata": {
        "colab": {
          "base_uri": "https://localhost:8080/",
          "height": 558
        },
        "id": "fbcJ-8J3W5pt",
        "outputId": "5687797f-0bf2-46a5-dd33-fc3e844dc825"
      },
      "execution_count": null,
      "outputs": [
        {
          "output_type": "execute_result",
          "data": {
            "text/plain": [
              "array([[<matplotlib.axes._subplots.AxesSubplot object at 0x7f7463b10410>,\n",
              "        <matplotlib.axes._subplots.AxesSubplot object at 0x7f7463b2aa10>,\n",
              "        <matplotlib.axes._subplots.AxesSubplot object at 0x7f7463b43b10>,\n",
              "        <matplotlib.axes._subplots.AxesSubplot object at 0x7f7463aff3d0>],\n",
              "       [<matplotlib.axes._subplots.AxesSubplot object at 0x7f7463ab08d0>,\n",
              "        <matplotlib.axes._subplots.AxesSubplot object at 0x7f7463a63dd0>,\n",
              "        <matplotlib.axes._subplots.AxesSubplot object at 0x7f7463a22390>,\n",
              "        <matplotlib.axes._subplots.AxesSubplot object at 0x7f74639d47d0>],\n",
              "       [<matplotlib.axes._subplots.AxesSubplot object at 0x7f74639d4810>,\n",
              "        <matplotlib.axes._subplots.AxesSubplot object at 0x7f7463987e10>,\n",
              "        <matplotlib.axes._subplots.AxesSubplot object at 0x7f7463979750>,\n",
              "        <matplotlib.axes._subplots.AxesSubplot object at 0x7f746392fc50>],\n",
              "       [<matplotlib.axes._subplots.AxesSubplot object at 0x7f74638f2190>,\n",
              "        <matplotlib.axes._subplots.AxesSubplot object at 0x7f74638a7690>,\n",
              "        <matplotlib.axes._subplots.AxesSubplot object at 0x7f746385eb90>,\n",
              "        <matplotlib.axes._subplots.AxesSubplot object at 0x7f74638220d0>]],\n",
              "      dtype=object)"
            ]
          },
          "metadata": {},
          "execution_count": 196
        },
        {
          "output_type": "display_data",
          "data": {
            "text/plain": [
              "<Figure size 1440x720 with 16 Axes>"
            ],
            "image/png": "[encoded data removed]"
          },
          "metadata": {
            "needs_background": "light"
          }
        }
      ]
    },
    {
      "cell_type": "code",
      "source": [
        "sns.countplot(class1['RiskLevel'])"
      ],
      "metadata": {
        "colab": {
          "base_uri": "https://localhost:8080/",
          "height": 351
        },
        "id": "O64ZGZmiVFRO",
        "outputId": "6cb32421-194c-4781-e394-f904c4b7141a"
      },
      "execution_count": null,
      "outputs": [
        {
          "output_type": "stream",
          "name": "stderr",
          "text": [
            "/usr/local/lib/python3.7/dist-packages/seaborn/_decorators.py:43: FutureWarning: Pass the following variable as a keyword arg: x. From version 0.12, the only valid positional argument will be `data`, and passing other arguments without an explicit keyword will result in an error or misinterpretation.\n",
            "  FutureWarning\n"
          ]
        },
        {
          "output_type": "execute_result",
          "data": {
            "text/plain": [
              "<matplotlib.axes._subplots.AxesSubplot at 0x7fb1fd756cd0>"
            ]
          },
          "metadata": {},
          "execution_count": 4
        },
        {
          "output_type": "display_data",
          "data": {
            "text/plain": [
              "<Figure size 432x288 with 1 Axes>"
            ],
            "image/png": "[encoded data removed]"
          },
          "metadata": {
            "needs_background": "light"
          }
        }
      ]
    },
    {
      "cell_type": "code",
      "source": [
        "class1['RiskLevel'].unique"
      ],
      "metadata": {
        "colab": {
          "base_uri": "https://localhost:8080/"
        },
        "id": "YG4_0K_titdq",
        "outputId": "e4f3ebc2-573f-4db6-b05a-6797757cf16e"
      },
      "execution_count": null,
      "outputs": [
        {
          "output_type": "execute_result",
          "data": {
            "text/plain": [
              "<bound method Series.unique of 0       high risk\n",
              "1       high risk\n",
              "2       high risk\n",
              "3       high risk\n",
              "4        low risk\n",
              "          ...    \n",
              "1009    high risk\n",
              "1010    high risk\n",
              "1011    high risk\n",
              "1012    high risk\n",
              "1013     mid risk\n",
              "Name: RiskLevel, Length: 1014, dtype: object>"
            ]
          },
          "metadata": {},
          "execution_count": 5
        }
      ]
    },
    {
      "cell_type": "code",
      "source": [
        "class1.corr(method='pearson')"
      ],
      "metadata": {
        "colab": {
          "base_uri": "https://localhost:8080/",
          "height": 238
        },
        "id": "Nx8qTKzc70N4",
        "outputId": "701f03c1-3668-42f8-a159-8d267e14c041"
      },
      "execution_count": null,
      "outputs": [
        {
          "output_type": "execute_result",
          "data": {
            "text/plain": [
              "                  Age  SystolicBP  DiastolicBP        BS  BodyTemp  HeartRate\n",
              "Age          1.000000    0.416045     0.398026  0.473284 -0.255323   0.079798\n",
              "SystolicBP   0.416045    1.000000     0.787006  0.425172 -0.286616  -0.023108\n",
              "DiastolicBP  0.398026    0.787006     1.000000  0.423824 -0.257538  -0.046151\n",
              "BS           0.473284    0.425172     0.423824  1.000000 -0.103493   0.142867\n",
              "BodyTemp    -0.255323   -0.286616    -0.257538 -0.103493  1.000000   0.098771\n",
              "HeartRate    0.079798   -0.023108    -0.046151  0.142867  0.098771   1.000000"
            ],
            "text/html": [
              "\n",
              "  <div id=\"df-713a106b-d450-400b-8a6d-a218585dc2f6\">\n",
              "    <div class=\"colab-df-container\">\n",
              "      <div>\n",
              "<style scoped>\n",
              "    .dataframe tbody tr th:only-of-type {\n",
              "        vertical-align: middle;\n",
              "    }\n",
              "\n",
              "    .dataframe tbody tr th {\n",
              "        vertical-align: top;\n",
              "    }\n",
              "\n",
              "    .dataframe thead th {\n",
              "        text-align: right;\n",
              "    }\n",
              "</style>\n",
              "<table border=\"1\" class=\"dataframe\">\n",
              "  <thead>\n",
              "    <tr style=\"text-align: right;\">\n",
              "      <th></th>\n",
              "      <th>Age</th>\n",
              "      <th>SystolicBP</th>\n",
              "      <th>DiastolicBP</th>\n",
              "      <th>BS</th>\n",
              "      <th>BodyTemp</th>\n",
              "      <th>HeartRate</th>\n",
              "    </tr>\n",
              "  </thead>\n",
              "  <tbody>\n",
              "    <tr>\n",
              "      <th>Age</th>\n",
              "      <td>1.000000</td>\n",
              "      <td>0.416045</td>\n",
              "      <td>0.398026</td>\n",
              "      <td>0.473284</td>\n",
              "      <td>-0.255323</td>\n",
              "      <td>0.079798</td>\n",
              "    </tr>\n",
              "    <tr>\n",
              "      <th>SystolicBP</th>\n",
              "      <td>0.416045</td>\n",
              "      <td>1.000000</td>\n",
              "      <td>0.787006</td>\n",
              "      <td>0.425172</td>\n",
              "      <td>-0.286616</td>\n",
              "      <td>-0.023108</td>\n",
              "    </tr>\n",
              "    <tr>\n",
              "      <th>DiastolicBP</th>\n",
              "      <td>0.398026</td>\n",
              "      <td>0.787006</td>\n",
              "      <td>1.000000</td>\n",
              "      <td>0.423824</td>\n",
              "      <td>-0.257538</td>\n",
              "      <td>-0.046151</td>\n",
              "    </tr>\n",
              "    <tr>\n",
              "      <th>BS</th>\n",
              "      <td>0.473284</td>\n",
              "      <td>0.425172</td>\n",
              "      <td>0.423824</td>\n",
              "      <td>1.000000</td>\n",
              "      <td>-0.103493</td>\n",
              "      <td>0.142867</td>\n",
              "    </tr>\n",
              "    <tr>\n",
              "      <th>BodyTemp</th>\n",
              "      <td>-0.255323</td>\n",
              "      <td>-0.286616</td>\n",
              "      <td>-0.257538</td>\n",
              "      <td>-0.103493</td>\n",
              "      <td>1.000000</td>\n",
              "      <td>0.098771</td>\n",
              "    </tr>\n",
              "    <tr>\n",
              "      <th>HeartRate</th>\n",
              "      <td>0.079798</td>\n",
              "      <td>-0.023108</td>\n",
              "      <td>-0.046151</td>\n",
              "      <td>0.142867</td>\n",
              "      <td>0.098771</td>\n",
              "      <td>1.000000</td>\n",
              "    </tr>\n",
              "  </tbody>\n",
              "</table>\n",
              "</div>\n",
              "      <button class=\"colab-df-convert\" onclick=\"convertToInteractive('df-713a106b-d450-400b-8a6d-a218585dc2f6')\"\n",
              "              title=\"Convert this dataframe to an interactive table.\"\n",
              "              style=\"display:none;\">\n",
              "        \n",
              "  <svg xmlns=\"http://www.w3.org/2000/svg\" height=\"24px\"viewBox=\"0 0 24 24\"\n",
              "       width=\"24px\">\n",
              "    <path d=\"M0 0h24v24H0V0z\" fill=\"none\"/>\n",
              "    <path d=\"M18.56 5.44l.94 2.06.94-2.06 2.06-.94-2.06-.94-.94-2.06-.94 2.06-2.06.94zm-11 1L8.5 8.5l.94-2.06 2.06-.94-2.06-.94L8.5 2.5l-.94 2.06-2.06.94zm10 10l.94 2.06.94-2.06 2.06-.94-2.06-.94-.94-2.06-.94 2.06-2.06.94z\"/><path d=\"M17.41 7.96l-1.37-1.37c-.4-.4-.92-.59-1.43-.59-.52 0-1.04.2-1.43.59L10.3 9.45l-7.72 7.72c-.78.78-.78 2.05 0 2.83L4 21.41c.39.39.9.59 1.41.59.51 0 1.02-.2 1.41-.59l7.78-7.78 2.81-2.81c.8-.78.8-2.07 0-2.86zM5.41 20L4 18.59l7.72-7.72 1.47 1.35L5.41 20z\"/>\n",
              "  </svg>\n",
              "      </button>\n",
              "      \n",
              "  <style>\n",
              "    .colab-df-container {\n",
              "      display:flex;\n",
              "      flex-wrap:wrap;\n",
              "      gap: 12px;\n",
              "    }\n",
              "\n",
              "    .colab-df-convert {\n",
              "      background-color: #E8F0FE;\n",
              "      border: none;\n",
              "      border-radius: 50%;\n",
              "      cursor: pointer;\n",
              "      display: none;\n",
              "      fill: #1967D2;\n",
              "      height: 32px;\n",
              "      padding: 0 0 0 0;\n",
              "      width: 32px;\n",
              "    }\n",
              "\n",
              "    .colab-df-convert:hover {\n",
              "      background-color: #E2EBFA;\n",
              "      box-shadow: 0px 1px 2px rgba(60, 64, 67, 0.3), 0px 1px 3px 1px rgba(60, 64, 67, 0.15);\n",
              "      fill: #174EA6;\n",
              "    }\n",
              "\n",
              "    [theme=dark] .colab-df-convert {\n",
              "      background-color: #3B4455;\n",
              "      fill: #D2E3FC;\n",
              "    }\n",
              "\n",
              "    [theme=dark] .colab-df-convert:hover {\n",
              "      background-color: #434B5C;\n",
              "      box-shadow: 0px 1px 3px 1px rgba(0, 0, 0, 0.15);\n",
              "      filter: drop-shadow(0px 1px 2px rgba(0, 0, 0, 0.3));\n",
              "      fill: #FFFFFF;\n",
              "    }\n",
              "  </style>\n",
              "\n",
              "      <script>\n",
              "        const buttonEl =\n",
              "          document.querySelector('#df-713a106b-d450-400b-8a6d-a218585dc2f6 button.colab-df-convert');\n",
              "        buttonEl.style.display =\n",
              "          google.colab.kernel.accessAllowed ? 'block' : 'none';\n",
              "\n",
              "        async function convertToInteractive(key) {\n",
              "          const element = document.querySelector('#df-713a106b-d450-400b-8a6d-a218585dc2f6');\n",
              "          const dataTable =\n",
              "            await google.colab.kernel.invokeFunction('convertToInteractive',\n",
              "                                                     [key], {});\n",
              "          if (!dataTable) return;\n",
              "\n",
              "          const docLinkHtml = 'Like what you see? Visit the ' +\n",
              "            '<a target=\"_blank\" href=https://colab.research.google.com/notebooks/data_table.ipynb>data table notebook</a>'\n",
              "            + ' to learn more about interactive tables.';\n",
              "          element.innerHTML = '';\n",
              "          dataTable['output_type'] = 'display_data';\n",
              "          await google.colab.output.renderOutput(dataTable, element);\n",
              "          const docLink = document.createElement('div');\n",
              "          docLink.innerHTML = docLinkHtml;\n",
              "          element.appendChild(docLink);\n",
              "        }\n",
              "      </script>\n",
              "    </div>\n",
              "  </div>\n",
              "  "
            ]
          },
          "metadata": {},
          "execution_count": 412
        }
      ]
    },
    {
      "cell_type": "code",
      "source": [
        "X = class1[['Age','SystolicBP','DiastolicBP','BodyTemp','BS','HeartRate']]\n",
        "y_Risk = class1[['RiskLevel']]"
      ],
      "metadata": {
        "id": "YFU8DwhSAbTw"
      },
      "execution_count": null,
      "outputs": []
    },
    {
      "cell_type": "code",
      "source": [
        "# creating instance of labelencoder\n",
        "labelencoder = LabelEncoder()\n",
        "# Assigning numerical values and storing in another column\n",
        "y = labelencoder.fit_transform(y_Risk.values.ravel())\n",
        "sns.countplot(y)"
      ],
      "metadata": {
        "colab": {
          "base_uri": "https://localhost:8080/",
          "height": 337
        },
        "id": "fm4sjLA_9qsu",
        "outputId": "c3475432-0759-4376-b5a4-f170f029e024"
      },
      "execution_count": null,
      "outputs": [
        {
          "output_type": "stream",
          "name": "stderr",
          "text": [
            "/usr/local/lib/python3.7/dist-packages/seaborn/_decorators.py:43: FutureWarning: Pass the following variable as a keyword arg: x. From version 0.12, the only valid positional argument will be `data`, and passing other arguments without an explicit keyword will result in an error or misinterpretation.\n",
            "  FutureWarning\n"
          ]
        },
        {
          "output_type": "execute_result",
          "data": {
            "text/plain": [
              "<matplotlib.axes._subplots.AxesSubplot at 0x7fb1fc4b46d0>"
            ]
          },
          "metadata": {},
          "execution_count": 8
        },
        {
          "output_type": "display_data",
          "data": {
            "text/plain": [
              "<Figure size 432x288 with 1 Axes>"
            ],
            "image/png": "[encoded data removed]"
          },
          "metadata": {
            "needs_background": "light"
          }
        }
      ]
    },
    {
      "cell_type": "code",
      "source": [
        "print(y_train.shape)\n",
        "print(X_train.shape)"
      ],
      "metadata": {
        "colab": {
          "base_uri": "https://localhost:8080/"
        },
        "id": "s3lncQTZ9mQQ",
        "outputId": "02f68873-777a-4e62-d544-beaf5f50206b"
      },
      "execution_count": null,
      "outputs": [
        {
          "output_type": "stream",
          "name": "stdout",
          "text": [
            "(811,)\n",
            "(811, 6)\n"
          ]
        }
      ]
    },
    {
      "cell_type": "code",
      "source": [
        "X_train, X_test, y_train, y_test = train_test_split(X, y, test_size = 0.2,random_state=42)"
      ],
      "metadata": {
        "id": "lJcRzjoQAa2H"
      },
      "execution_count": null,
      "outputs": []
    },
    {
      "cell_type": "code",
      "source": [
        "scaler = StandardScaler()\n",
        "scaler.fit(X_train)\n",
        "X_train = scaler.transform(X_train)\n",
        "X_test = scaler.transform(X_test)"
      ],
      "metadata": {
        "id": "4S7VTYi6HFNq"
      },
      "execution_count": null,
      "outputs": []
    },
    {
      "cell_type": "code",
      "source": [
        "from sklearn.tree import DecisionTreeClassifier\n",
        "from sklearn.naive_bayes import GaussianNB\n",
        "from sklearn.linear_model import LogisticRegression\n",
        "from sklearn.neighbors import KNeighborsClassifier\n",
        "from sklearn.svm import SVC\n",
        "from sklearn.neural_network import MLPClassifier"
      ],
      "metadata": {
        "id": "idUloczAHLNr"
      },
      "execution_count": null,
      "outputs": []
    },
    {
      "cell_type": "code",
      "source": [
        "# 1 Algorithm: Logistic Regression\n",
        "lr = LogisticRegression(solver='newton-cg', class_weight={0:1.229,1:0.845,2:1.04})\n",
        "lr.fit(X_train, y_train)\n",
        "pred_lr = lr.predict(X_test)\n",
        "print(y_test)\n",
        "print(pred_lr)\n",
        "print(metrics.accuracy_score(y_test, pred_lr)*100)\n",
        "print(confusion_matrix(y_test, pred_lr))\n",
        "print(classification_report(y_test, pred_lr))"
      ],
      "metadata": {
        "colab": {
          "base_uri": "https://localhost:8080/"
        },
        "id": "ny4wY0zQHK1P",
        "outputId": "47f77af5-8443-46af-f647-371e436436ab"
      },
      "execution_count": null,
      "outputs": [
        {
          "output_type": "stream",
          "name": "stdout",
          "text": [
            "[2 0 0 1 1 2 2 0 2 2 0 2 1 0 2 2 0 0 1 2 2 2 1 0 1 2 0 1 1 1 1 0 1 2 1 0 0\n",
            " 1 1 0 0 1 0 0 1 2 0 2 1 1 2 1 1 2 1 2 0 1 1 2 1 2 2 1 1 1 2 1 1 0 0 0 1 2\n",
            " 2 2 1 0 0 2 1 2 1 1 2 1 1 2 0 2 2 0 1 0 1 2 2 1 0 2 1 2 1 2 2 2 1 1 1 2 2\n",
            " 1 1 0 0 1 1 0 1 0 0 2 1 2 0 0 2 2 2 1 1 1 2 2 1 1 0 2 2 2 2 2 0 0 1 1 0 1\n",
            " 1 2 1 1 1 2 0 2 1 2 1 2 1 1 1 2 1 2 2 1 1 1 2 1 2 1 1 0 2 1 1 2 0 2 1 0 0\n",
            " 2 0 2 1 1 2 2 2 2 2 0 2 0 1 2 2 2 0]\n",
            "[2 0 0 1 0 0 2 0 2 2 0 1 2 2 2 1 0 1 1 2 1 0 1 0 1 2 0 1 1 1 2 0 1 1 2 0 0\n",
            " 1 1 0 0 0 0 2 1 1 0 2 1 1 1 1 1 1 1 0 0 1 1 0 1 1 1 1 1 0 0 1 1 2 2 0 2 2\n",
            " 2 0 1 0 0 2 1 1 1 1 1 1 2 0 0 1 0 0 1 0 1 1 2 1 0 1 1 0 2 1 1 1 1 0 1 2 0\n",
            " 2 1 0 0 1 1 0 1 0 0 1 1 1 2 0 1 1 1 1 1 1 2 2 2 1 0 1 1 2 0 0 0 0 1 1 0 1\n",
            " 1 1 1 1 1 2 0 2 1 1 1 0 1 1 1 2 1 2 0 1 1 2 0 2 1 1 1 0 2 1 1 2 0 1 1 0 0\n",
            " 1 0 1 1 2 2 1 0 1 1 1 1 0 1 1 1 1 0]\n",
            "63.05418719211823\n",
            "[[40  2  5]\n",
            " [ 4 65 11]\n",
            " [16 37 23]]\n",
            "              precision    recall  f1-score   support\n",
            "\n",
            "           0       0.67      0.85      0.75        47\n",
            "           1       0.62      0.81      0.71        80\n",
            "           2       0.59      0.30      0.40        76\n",
            "\n",
            "    accuracy                           0.63       203\n",
            "   macro avg       0.63      0.66      0.62       203\n",
            "weighted avg       0.62      0.63      0.60       203\n",
            "\n"
          ]
        }
      ]
    },
    {
      "cell_type": "code",
      "source": [
        "#2 Algorithm: KNeighborsClassifier\n",
        "from sklearn.neighbors import KNeighborsClassifier\n",
        "knn = KNeighborsClassifier()\n",
        "knn.fit(X_train, y_train)\n",
        "pred_knn = knn.predict(X_test)\n",
        "print(y_test)\n",
        "print(pred_knn)\n",
        "cm=metrics.confusion_matrix(y_test,pred_knn)\n",
        "#print('accuracy:%.2f\\n\\n'%(acc))\n",
        "print(metrics.accuracy_score(y_test, pred_knn)*100)\n",
        "print(confusion_matrix(y_test, pred_knn))\n",
        "print(classification_report(y_test, pred_knn))"
      ],
      "metadata": {
        "colab": {
          "base_uri": "https://localhost:8080/"
        },
        "id": "nHN0MpmlHGbS",
        "outputId": "08f5a4f4-aa9d-49f5-aecf-b51b4f3a6acb"
      },
      "execution_count": null,
      "outputs": [
        {
          "output_type": "stream",
          "name": "stdout",
          "text": [
            "[2 0 0 1 1 2 2 0 2 2 0 2 1 0 2 2 0 0 1 2 2 2 1 0 1 2 0 1 1 1 1 0 1 2 1 0 0\n",
            " 1 1 0 0 1 0 0 1 2 0 2 1 1 2 1 1 2 1 2 0 1 1 2 1 2 2 1 1 1 2 1 1 0 0 0 1 2\n",
            " 2 2 1 0 0 2 1 2 1 1 2 1 1 2 0 2 2 0 1 0 1 2 2 1 0 2 1 2 1 2 2 2 1 1 1 2 2\n",
            " 1 1 0 0 1 1 0 1 0 0 2 1 2 0 0 2 2 2 1 1 1 2 2 1 1 0 2 2 2 2 2 0 0 1 1 0 1\n",
            " 1 2 1 1 1 2 0 2 1 2 1 2 1 1 1 2 1 2 2 1 1 1 2 1 2 1 1 0 2 1 1 2 0 2 1 0 0\n",
            " 2 0 2 1 1 2 2 2 2 2 0 2 0 1 2 2 2 0]\n",
            "[2 0 0 2 0 2 0 2 2 0 0 1 1 1 2 1 0 1 1 2 1 2 2 2 1 2 0 2 1 1 0 0 1 1 1 0 0\n",
            " 2 1 0 0 2 2 0 1 2 0 2 1 1 1 1 2 1 1 2 0 1 1 2 1 1 1 2 2 0 2 0 1 0 0 0 0 2\n",
            " 2 0 1 2 0 1 1 1 1 1 1 1 1 2 0 1 1 0 1 0 1 1 2 1 0 1 1 2 1 1 1 2 1 2 1 2 2\n",
            " 2 1 0 0 1 1 0 1 0 2 1 1 1 1 0 1 1 2 1 1 1 2 1 1 1 0 1 1 2 0 1 0 0 1 1 0 2\n",
            " 2 1 1 1 1 2 0 2 1 2 1 0 1 1 2 2 1 2 0 1 1 1 2 2 1 2 1 0 2 1 1 1 0 1 2 0 0\n",
            " 1 0 1 1 1 2 1 0 2 1 1 2 0 1 2 2 1 0]\n",
            "65.02463054187191\n",
            "[[38  4  5]\n",
            " [ 5 59 16]\n",
            " [ 7 34 35]]\n",
            "              precision    recall  f1-score   support\n",
            "\n",
            "           0       0.76      0.81      0.78        47\n",
            "           1       0.61      0.74      0.67        80\n",
            "           2       0.62      0.46      0.53        76\n",
            "\n",
            "    accuracy                           0.65       203\n",
            "   macro avg       0.66      0.67      0.66       203\n",
            "weighted avg       0.65      0.65      0.64       203\n",
            "\n"
          ]
        }
      ]
    },
    {
      "cell_type": "code",
      "source": [
        "ax=sns.heatmap(cm,cmap='flare',annot=True,fmt='d')\n",
        "\n",
        "plt.xlabel(\"Predicted Class\",fontsize=12)\n",
        "plt.ylabel(\"True class,fontsize=12\")\n",
        "plt.title(\"Confusion Matrix\",fontsize=12)\n",
        "plt.show()"
      ],
      "metadata": {
        "colab": {
          "base_uri": "https://localhost:8080/",
          "height": 298
        },
        "id": "pfsww0NIsK3X",
        "outputId": "0aa0cdfc-9452-477a-9ef5-d4c26f506e1d"
      },
      "execution_count": null,
      "outputs": [
        {
          "output_type": "display_data",
          "data": {
            "text/plain": [
              "<Figure size 432x288 with 2 Axes>"
            ],
            "image/png": "[encoded data removed]"
          },
          "metadata": {
            "needs_background": "light"
          }
        }
      ]
    },
    {
      "cell_type": "code",
      "source": [
        "#3 Algorithm: Decision Tree\n",
        "from sklearn.tree import DecisionTreeClassifier\n",
        "classifier= DecisionTreeClassifier(criterion = 'entropy',random_state=42)\n",
        "classifier.fit(X_train,y_train)\n",
        "\n",
        "#predicting the test set results\n",
        "y_pred=classifier.predict(X_test)\n",
        "print(y_pred)\n",
        "print(y_test)"
      ],
      "metadata": {
        "colab": {
          "base_uri": "https://localhost:8080/"
        },
        "id": "kwz05eAYICLF",
        "outputId": "1bf417bf-c488-4730-b9b9-fe0e92e68461"
      },
      "execution_count": null,
      "outputs": [
        {
          "output_type": "stream",
          "name": "stdout",
          "text": [
            "[2 0 0 1 1 2 2 2 2 1 0 2 2 0 2 2 0 1 1 2 2 2 0 0 1 2 0 2 1 1 2 0 1 2 1 0 0\n",
            " 2 1 0 0 1 0 0 1 2 0 2 1 1 2 1 1 2 2 2 0 1 1 2 1 2 2 2 1 0 2 0 2 0 0 0 2 2\n",
            " 2 0 1 2 0 2 1 2 1 1 2 1 1 2 0 2 2 0 1 0 2 1 2 1 0 2 1 2 1 1 2 2 1 2 1 2 2\n",
            " 2 1 0 2 1 1 0 2 0 2 1 1 2 0 0 2 2 2 2 1 1 2 2 1 2 0 2 1 2 0 2 0 0 1 1 0 1\n",
            " 1 2 1 2 1 2 0 2 1 2 1 2 1 1 1 2 1 2 2 2 1 1 0 1 2 1 2 0 2 1 1 1 0 2 1 2 0\n",
            " 1 0 1 2 1 2 2 2 2 1 1 2 0 1 2 2 2 0]\n",
            "[2 0 0 1 1 2 2 0 2 2 0 2 1 0 2 2 0 0 1 2 2 2 1 0 1 2 0 1 1 1 1 0 1 2 1 0 0\n",
            " 1 1 0 0 1 0 0 1 2 0 2 1 1 2 1 1 2 1 2 0 1 1 2 1 2 2 1 1 1 2 1 1 0 0 0 1 2\n",
            " 2 2 1 0 0 2 1 2 1 1 2 1 1 2 0 2 2 0 1 0 1 2 2 1 0 2 1 2 1 2 2 2 1 1 1 2 2\n",
            " 1 1 0 0 1 1 0 1 0 0 2 1 2 0 0 2 2 2 1 1 1 2 2 1 1 0 2 2 2 2 2 0 0 1 1 0 1\n",
            " 1 2 1 1 1 2 0 2 1 2 1 2 1 1 1 2 1 2 2 1 1 1 2 1 2 1 1 0 2 1 1 2 0 2 1 0 0\n",
            " 2 0 2 1 1 2 2 2 2 2 0 2 0 1 2 2 2 0]\n"
          ]
        }
      ]
    },
    {
      "cell_type": "code",
      "source": [
        "cm=metrics.confusion_matrix(y_test,y_pred)\n",
        "#print('accuracy:%.2f\\n\\n'%(acc))\n",
        "print(metrics.accuracy_score(y_test, y_pred)*100)\n",
        "print(confusion_matrix(y_test, y_pred))\n",
        "print(classification_report(y_test, y_pred))"
      ],
      "metadata": {
        "colab": {
          "base_uri": "https://localhost:8080/"
        },
        "id": "_bk6HO9AxUZd",
        "outputId": "9c24dd19-558c-4252-b69a-516382b91fb5"
      },
      "execution_count": null,
      "outputs": [
        {
          "output_type": "stream",
          "name": "stdout",
          "text": [
            "80.29556650246306\n",
            "[[40  2  5]\n",
            " [ 3 59 18]\n",
            " [ 3  9 64]]\n",
            "              precision    recall  f1-score   support\n",
            "\n",
            "           0       0.87      0.85      0.86        47\n",
            "           1       0.84      0.74      0.79        80\n",
            "           2       0.74      0.84      0.79        76\n",
            "\n",
            "    accuracy                           0.80       203\n",
            "   macro avg       0.82      0.81      0.81       203\n",
            "weighted avg       0.81      0.80      0.80       203\n",
            "\n"
          ]
        }
      ]
    },
    {
      "cell_type": "code",
      "source": [
        "from sklearn import metrics\n",
        "acc=metrics.accuracy_score(y_test,y_pred)\n",
        "print('accuracy:%.2f\\n\\n'%(acc))\n",
        "cm=metrics.confusion_matrix(y_test,y_pred)\n",
        "print('Confusion Matrix:')\n",
        "print(cm,'\\n\\n')\n",
        "print('----------------------------------------------------------')\n",
        "result=metrics.classification_report(y_test,y_pred)\n",
        "print(result)"
      ],
      "metadata": {
        "colab": {
          "base_uri": "https://localhost:8080/"
        },
        "id": "Mgx6raSyxttc",
        "outputId": "ff229c89-061c-4cbc-fe5a-fc233f3d3f81"
      },
      "execution_count": null,
      "outputs": [
        {
          "output_type": "stream",
          "name": "stdout",
          "text": [
            "accuracy:0.80\n",
            "\n",
            "\n",
            "Confusion Matrix:\n",
            "[[40  2  5]\n",
            " [ 3 59 18]\n",
            " [ 3  9 64]] \n",
            "\n",
            "\n",
            "----------------------------------------------------------\n",
            "              precision    recall  f1-score   support\n",
            "\n",
            "           0       0.87      0.85      0.86        47\n",
            "           1       0.84      0.74      0.79        80\n",
            "           2       0.74      0.84      0.79        76\n",
            "\n",
            "    accuracy                           0.80       203\n",
            "   macro avg       0.82      0.81      0.81       203\n",
            "weighted avg       0.81      0.80      0.80       203\n",
            "\n"
          ]
        }
      ]
    },
    {
      "cell_type": "code",
      "source": [
        "ax=sns.heatmap(cm,cmap='flare',annot=True,fmt='d')\n",
        "\n",
        "plt.xlabel(\"Predicted Class\",fontsize=12)\n",
        "plt.ylabel(\"True class,fontsize=12\")\n",
        "plt.title(\"Confusion Matrix\",fontsize=12)\n",
        "plt.show()"
      ],
      "metadata": {
        "colab": {
          "base_uri": "https://localhost:8080/",
          "height": 298
        },
        "id": "DetqwQUyy_4d",
        "outputId": "665acce2-9ec8-4ae4-e871-4e5db1f0e8d1"
      },
      "execution_count": null,
      "outputs": [
        {
          "output_type": "display_data",
          "data": {
            "text/plain": [
              "<Figure size 432x288 with 2 Axes>"
            ],
            "image/png": "[encoded data removed]"
          },
          "metadata": {
            "needs_background": "light"
          }
        }
      ]
    },
    {
      "cell_type": "code",
      "source": [
        "import tensorflow as tf"
      ],
      "metadata": {
        "id": "7wClthRNGj38"
      },
      "execution_count": null,
      "outputs": []
    },
    {
      "cell_type": "code",
      "source": [
        "#Dependencies\n",
        "import keras\n",
        "from keras.models import Sequential\n",
        "from keras.layers import Dense\n",
        "\n",
        "X_train,X_test,y_train,y_test=train_test_split(X,y,test_size=0.2,stratify=y,random_state=99)\n",
        "scaler=StandardScaler()\n",
        "X_train=scaler.fit_transform(X_train)\n",
        "X_test=scaler.fit_transform(X_test)\n",
        "\n",
        "# Neural network\n",
        "model = tf.keras.models.Sequential()\n",
        "model.add(tf.keras.layers.Dense(8, input_shape=(6, ), activation='relu'))\n",
        "#model.add(tf.keras.layers.Dense(6, activation='relu'))\n",
        "model.add(tf.keras.layers.Dense(1, activation='sigmoid'))"
      ],
      "metadata": {
        "id": "VVVKjjIxzplV"
      },
      "execution_count": null,
      "outputs": []
    },
    {
      "cell_type": "code",
      "source": [
        "model.compile(loss='binary_crossentropy', optimizer='adam', metrics=['accuracy'])"
      ],
      "metadata": {
        "id": "QxDzsYQqzyik"
      },
      "execution_count": null,
      "outputs": []
    },
    {
      "cell_type": "code",
      "source": [
        "model.summary()"
      ],
      "metadata": {
        "colab": {
          "base_uri": "https://localhost:8080/"
        },
        "id": "NxACi2vrAIE_",
        "outputId": "be304ac6-baae-447b-d4a1-8f27888ac3ef"
      },
      "execution_count": null,
      "outputs": [
        {
          "output_type": "stream",
          "name": "stdout",
          "text": [
            "Model: \"sequential_8\"\n",
            "_________________________________________________________________\n",
            " Layer (type)                Output Shape              Param #   \n",
            "=================================================================\n",
            " dense_16 (Dense)            (None, 8)                 56        \n",
            "                                                                 \n",
            " dense_17 (Dense)            (None, 1)                 9         \n",
            "                                                                 \n",
            "=================================================================\n",
            "Total params: 65\n",
            "Trainable params: 65\n",
            "Non-trainable params: 0\n",
            "_________________________________________________________________\n"
          ]
        }
      ]
    },
    {
      "cell_type": "code",
      "source": [
        "0:1.229,1:0.845,2:1.04"
      ],
      "metadata": {
        "colab": {
          "base_uri": "https://localhost:8080/",
          "height": 130
        },
        "id": "1RlazsolkH98",
        "outputId": "b63a9d72-c50c-4798-c4c7-6274bf288537"
      },
      "execution_count": null,
      "outputs": [
        {
          "output_type": "error",
          "ename": "SyntaxError",
          "evalue": "ignored",
          "traceback": [
            "\u001b[0;36m  File \u001b[0;32m\"<ipython-input-57-99d2c39b96db>\"\u001b[0;36m, line \u001b[0;32m1\u001b[0m\n\u001b[0;31m    0:1.229,1:0.845,2:1.04\u001b[0m\n\u001b[0m           ^\u001b[0m\n\u001b[0;31mSyntaxError\u001b[0m\u001b[0;31m:\u001b[0m invalid syntax\n"
          ]
        }
      ]
    },
    {
      "cell_type": "code",
      "source": [
        "class_weights={0:1.229,1:0.845,2:1.04}\n",
        "history=model.fit(X_train,y_train,batch_size=8,epochs=50,class_weight=class_weights,verbose=2,validation_split=0.2)"
      ],
      "metadata": {
        "colab": {
          "base_uri": "https://localhost:8080/"
        },
        "id": "3EMCU3cQHZ0E",
        "outputId": "b0e09b0a-e9f4-484e-8d73-30fc25b31be9"
      },
      "execution_count": null,
      "outputs": [
        {
          "output_type": "stream",
          "name": "stdout",
          "text": [
            "Epoch 1/50\n",
            "81/81 - 1s - loss: 0.5865 - accuracy: 0.3549 - val_loss: 0.3606 - val_accuracy: 0.3865 - 905ms/epoch - 11ms/step\n",
            "Epoch 2/50\n",
            "81/81 - 0s - loss: 0.3105 - accuracy: 0.4537 - val_loss: 0.1026 - val_accuracy: 0.4294 - 183ms/epoch - 2ms/step\n",
            "Epoch 3/50\n",
            "81/81 - 0s - loss: 0.1065 - accuracy: 0.4985 - val_loss: -1.0123e-01 - val_accuracy: 0.4663 - 216ms/epoch - 3ms/step\n",
            "Epoch 4/50\n",
            "81/81 - 0s - loss: -6.3381e-02 - accuracy: 0.5231 - val_loss: -2.6733e-01 - val_accuracy: 0.5031 - 219ms/epoch - 3ms/step\n",
            "Epoch 5/50\n",
            "81/81 - 0s - loss: -2.1522e-01 - accuracy: 0.5231 - val_loss: -4.4127e-01 - val_accuracy: 0.5153 - 233ms/epoch - 3ms/step\n",
            "Epoch 6/50\n",
            "81/81 - 0s - loss: -3.5960e-01 - accuracy: 0.5278 - val_loss: -6.0159e-01 - val_accuracy: 0.5092 - 212ms/epoch - 3ms/step\n",
            "Epoch 7/50\n",
            "81/81 - 0s - loss: -5.0212e-01 - accuracy: 0.5247 - val_loss: -7.6943e-01 - val_accuracy: 0.5031 - 174ms/epoch - 2ms/step\n",
            "Epoch 8/50\n",
            "81/81 - 0s - loss: -6.4903e-01 - accuracy: 0.5247 - val_loss: -9.2788e-01 - val_accuracy: 0.5031 - 219ms/epoch - 3ms/step\n",
            "Epoch 9/50\n",
            "81/81 - 0s - loss: -7.9851e-01 - accuracy: 0.5262 - val_loss: -1.1002e+00 - val_accuracy: 0.4969 - 184ms/epoch - 2ms/step\n",
            "Epoch 10/50\n",
            "81/81 - 0s - loss: -9.5409e-01 - accuracy: 0.5278 - val_loss: -1.2906e+00 - val_accuracy: 0.4969 - 225ms/epoch - 3ms/step\n",
            "Epoch 11/50\n",
            "81/81 - 0s - loss: -1.1207e+00 - accuracy: 0.5278 - val_loss: -1.4713e+00 - val_accuracy: 0.4969 - 180ms/epoch - 2ms/step\n",
            "Epoch 12/50\n",
            "81/81 - 0s - loss: -1.2984e+00 - accuracy: 0.5293 - val_loss: -1.6758e+00 - val_accuracy: 0.4969 - 185ms/epoch - 2ms/step\n",
            "Epoch 13/50\n",
            "81/81 - 0s - loss: -1.4939e+00 - accuracy: 0.5340 - val_loss: -1.9060e+00 - val_accuracy: 0.4969 - 215ms/epoch - 3ms/step\n",
            "Epoch 14/50\n",
            "81/81 - 0s - loss: -1.7118e+00 - accuracy: 0.5355 - val_loss: -2.1669e+00 - val_accuracy: 0.4969 - 177ms/epoch - 2ms/step\n",
            "Epoch 15/50\n",
            "81/81 - 0s - loss: -1.9543e+00 - accuracy: 0.5355 - val_loss: -2.4295e+00 - val_accuracy: 0.4969 - 197ms/epoch - 2ms/step\n",
            "Epoch 16/50\n",
            "81/81 - 0s - loss: -2.2183e+00 - accuracy: 0.5401 - val_loss: -2.7489e+00 - val_accuracy: 0.4969 - 221ms/epoch - 3ms/step\n",
            "Epoch 17/50\n",
            "81/81 - 0s - loss: -2.5118e+00 - accuracy: 0.5432 - val_loss: -3.0855e+00 - val_accuracy: 0.4969 - 171ms/epoch - 2ms/step\n",
            "Epoch 18/50\n",
            "81/81 - 0s - loss: -2.8295e+00 - accuracy: 0.5355 - val_loss: -3.4542e+00 - val_accuracy: 0.4908 - 211ms/epoch - 3ms/step\n",
            "Epoch 19/50\n",
            "81/81 - 0s - loss: -3.1717e+00 - accuracy: 0.5278 - val_loss: -3.8379e+00 - val_accuracy: 0.4908 - 179ms/epoch - 2ms/step\n",
            "Epoch 20/50\n",
            "81/81 - 0s - loss: -3.5371e+00 - accuracy: 0.5278 - val_loss: -4.2617e+00 - val_accuracy: 0.4908 - 226ms/epoch - 3ms/step\n",
            "Epoch 21/50\n",
            "81/81 - 0s - loss: -3.9273e+00 - accuracy: 0.5293 - val_loss: -4.6813e+00 - val_accuracy: 0.4908 - 228ms/epoch - 3ms/step\n",
            "Epoch 22/50\n",
            "81/81 - 0s - loss: -4.3318e+00 - accuracy: 0.5386 - val_loss: -5.1624e+00 - val_accuracy: 0.5031 - 218ms/epoch - 3ms/step\n",
            "Epoch 23/50\n",
            "81/81 - 0s - loss: -4.7562e+00 - accuracy: 0.5340 - val_loss: -5.6437e+00 - val_accuracy: 0.5031 - 185ms/epoch - 2ms/step\n",
            "Epoch 24/50\n",
            "81/81 - 0s - loss: -5.1999e+00 - accuracy: 0.5355 - val_loss: -6.1263e+00 - val_accuracy: 0.5031 - 228ms/epoch - 3ms/step\n",
            "Epoch 25/50\n",
            "81/81 - 0s - loss: -5.6492e+00 - accuracy: 0.5386 - val_loss: -6.6630e+00 - val_accuracy: 0.5031 - 185ms/epoch - 2ms/step\n",
            "Epoch 26/50\n",
            "81/81 - 0s - loss: -6.1181e+00 - accuracy: 0.5386 - val_loss: -7.2189e+00 - val_accuracy: 0.5031 - 290ms/epoch - 4ms/step\n",
            "Epoch 27/50\n",
            "81/81 - 0s - loss: -6.6111e+00 - accuracy: 0.5386 - val_loss: -7.7068e+00 - val_accuracy: 0.5031 - 293ms/epoch - 4ms/step\n",
            "Epoch 28/50\n",
            "81/81 - 0s - loss: -7.1094e+00 - accuracy: 0.5417 - val_loss: -8.2938e+00 - val_accuracy: 0.5031 - 367ms/epoch - 5ms/step\n",
            "Epoch 29/50\n",
            "81/81 - 0s - loss: -7.6301e+00 - accuracy: 0.5401 - val_loss: -8.8772e+00 - val_accuracy: 0.5031 - 269ms/epoch - 3ms/step\n",
            "Epoch 30/50\n",
            "81/81 - 0s - loss: -8.1753e+00 - accuracy: 0.5401 - val_loss: -9.4840e+00 - val_accuracy: 0.5031 - 300ms/epoch - 4ms/step\n",
            "Epoch 31/50\n",
            "81/81 - 0s - loss: -8.7262e+00 - accuracy: 0.5401 - val_loss: -1.0112e+01 - val_accuracy: 0.5031 - 292ms/epoch - 4ms/step\n",
            "Epoch 32/50\n",
            "81/81 - 0s - loss: -9.2893e+00 - accuracy: 0.5417 - val_loss: -1.0748e+01 - val_accuracy: 0.5031 - 283ms/epoch - 3ms/step\n",
            "Epoch 33/50\n",
            "81/81 - 0s - loss: -9.8709e+00 - accuracy: 0.5386 - val_loss: -1.1440e+01 - val_accuracy: 0.5031 - 273ms/epoch - 3ms/step\n",
            "Epoch 34/50\n",
            "81/81 - 0s - loss: -1.0473e+01 - accuracy: 0.5386 - val_loss: -1.2102e+01 - val_accuracy: 0.5031 - 304ms/epoch - 4ms/step\n",
            "Epoch 35/50\n",
            "81/81 - 0s - loss: -1.1084e+01 - accuracy: 0.5386 - val_loss: -1.2781e+01 - val_accuracy: 0.5031 - 177ms/epoch - 2ms/step\n",
            "Epoch 36/50\n",
            "81/81 - 0s - loss: -1.1701e+01 - accuracy: 0.5386 - val_loss: -1.3528e+01 - val_accuracy: 0.5031 - 223ms/epoch - 3ms/step\n",
            "Epoch 37/50\n",
            "81/81 - 0s - loss: -1.2354e+01 - accuracy: 0.5386 - val_loss: -1.4270e+01 - val_accuracy: 0.5031 - 182ms/epoch - 2ms/step\n",
            "Epoch 38/50\n",
            "81/81 - 0s - loss: -1.3017e+01 - accuracy: 0.5386 - val_loss: -1.5016e+01 - val_accuracy: 0.5031 - 188ms/epoch - 2ms/step\n",
            "Epoch 39/50\n",
            "81/81 - 0s - loss: -1.3702e+01 - accuracy: 0.5386 - val_loss: -1.5785e+01 - val_accuracy: 0.5031 - 177ms/epoch - 2ms/step\n",
            "Epoch 40/50\n",
            "81/81 - 0s - loss: -1.4399e+01 - accuracy: 0.5386 - val_loss: -1.6627e+01 - val_accuracy: 0.5031 - 177ms/epoch - 2ms/step\n",
            "Epoch 41/50\n",
            "81/81 - 0s - loss: -1.5121e+01 - accuracy: 0.5386 - val_loss: -1.7457e+01 - val_accuracy: 0.5031 - 228ms/epoch - 3ms/step\n",
            "Epoch 42/50\n",
            "81/81 - 0s - loss: -1.5846e+01 - accuracy: 0.5386 - val_loss: -1.8314e+01 - val_accuracy: 0.5031 - 201ms/epoch - 2ms/step\n",
            "Epoch 43/50\n",
            "81/81 - 0s - loss: -1.6603e+01 - accuracy: 0.5386 - val_loss: -1.9138e+01 - val_accuracy: 0.5031 - 177ms/epoch - 2ms/step\n",
            "Epoch 44/50\n",
            "81/81 - 0s - loss: -1.7362e+01 - accuracy: 0.5386 - val_loss: -2.0024e+01 - val_accuracy: 0.5031 - 217ms/epoch - 3ms/step\n",
            "Epoch 45/50\n",
            "81/81 - 0s - loss: -1.8147e+01 - accuracy: 0.5386 - val_loss: -2.0946e+01 - val_accuracy: 0.5031 - 219ms/epoch - 3ms/step\n",
            "Epoch 46/50\n",
            "81/81 - 0s - loss: -1.8945e+01 - accuracy: 0.5370 - val_loss: -2.1861e+01 - val_accuracy: 0.5031 - 226ms/epoch - 3ms/step\n",
            "Epoch 47/50\n",
            "81/81 - 0s - loss: -1.9764e+01 - accuracy: 0.5370 - val_loss: -2.2760e+01 - val_accuracy: 0.5031 - 173ms/epoch - 2ms/step\n",
            "Epoch 48/50\n",
            "81/81 - 0s - loss: -2.0582e+01 - accuracy: 0.5370 - val_loss: -2.3733e+01 - val_accuracy: 0.4969 - 176ms/epoch - 2ms/step\n",
            "Epoch 49/50\n",
            "81/81 - 0s - loss: -2.1425e+01 - accuracy: 0.5370 - val_loss: -2.4695e+01 - val_accuracy: 0.4969 - 212ms/epoch - 3ms/step\n",
            "Epoch 50/50\n",
            "81/81 - 0s - loss: -2.2278e+01 - accuracy: 0.5370 - val_loss: -2.5664e+01 - val_accuracy: 0.4969 - 211ms/epoch - 3ms/step\n"
          ]
        }
      ]
    },
    {
      "cell_type": "code",
      "source": [
        "accuracy=history.history['accuracy']\n",
        "validation_accuracy=history.history['val_accuracy']\n",
        "\n",
        "plt.plot(accuracy,label='Training Set Accuracy')\n",
        "plt.plot(validation_accuracy,label='Validation Set Accuracy')\n",
        "plt.ylabel('Accuracy')\n",
        "plt.ylim([min(plt.ylim()),0.6])\n",
        "plt.title('Training and validation Accuracy Across Epochs')\n",
        "plt.legend()"
      ],
      "metadata": {
        "colab": {
          "base_uri": "https://localhost:8080/",
          "height": 298
        },
        "id": "yMPNH3H2IPlJ",
        "outputId": "7ab05e1f-6c71-4ef6-86af-f35e7307e69e"
      },
      "execution_count": null,
      "outputs": [
        {
          "output_type": "execute_result",
          "data": {
            "text/plain": [
              "<matplotlib.legend.Legend at 0x7fb1910c4c50>"
            ]
          },
          "metadata": {},
          "execution_count": 97
        },
        {
          "output_type": "display_data",
          "data": {
            "text/plain": [
              "<Figure size 432x288 with 1 Axes>"
            ],
            "image/png": "[encoded data removed]"
          },
          "metadata": {
            "needs_background": "light"
          }
        }
      ]
    },
    {
      "cell_type": "code",
      "source": [
        "loss=history.history['loss']\n",
        "validation_loss=history.history['val_loss']\n",
        "\n",
        "plt.plot(loss,label='Training Set Loss')\n",
        "plt.plot(validation_loss,label='Validation Set Loss')\n",
        "plt.ylabel('Loss')\n",
        "plt.ylim([min(plt.ylim()),1])\n",
        "plt.title('Training and Validation Accuracy Across Epochs')\n",
        "plt.legend()"
      ],
      "metadata": {
        "colab": {
          "base_uri": "https://localhost:8080/",
          "height": 298
        },
        "id": "n0CKUDW_ZIhh",
        "outputId": "9b4ce4eb-bcb7-4f8c-f963-8b8c0617153b"
      },
      "execution_count": null,
      "outputs": [
        {
          "output_type": "execute_result",
          "data": {
            "text/plain": [
              "<matplotlib.legend.Legend at 0x7fb19129b950>"
            ]
          },
          "metadata": {},
          "execution_count": 98
        },
        {
          "output_type": "display_data",
          "data": {
            "text/plain": [
              "<Figure size 432x288 with 1 Axes>"
            ],
            "image/png": "[encoded data removed]"
          },
          "metadata": {
            "needs_background": "light"
          }
        }
      ]
    },
    {
      "cell_type": "code",
      "source": [
        "y_pred=model.predict(X_test)\n",
        "y_pred=y_pred.argmax(axis=1)"
      ],
      "metadata": {
        "colab": {
          "base_uri": "https://localhost:8080/"
        },
        "id": "7CPtuOfeaxPd",
        "outputId": "0960a4de-721d-4001-e937-1dca2c484a42"
      },
      "execution_count": null,
      "outputs": [
        {
          "output_type": "stream",
          "name": "stdout",
          "text": [
            "7/7 [==============================] - 0s 2ms/step\n"
          ]
        }
      ]
    },
    {
      "cell_type": "code",
      "source": [
        "cm=metrics.confusion_matrix(y_test,y_pred)\n",
        "\n",
        "ax=sns.heatmap(cm,cmap='flare',annot=True,fmt='d')\n",
        "\n",
        "plt.xlabel(\"Predicted Class\",fontsize=12)\n",
        "plt.ylabel(\"True class,fontsize=12\")\n",
        "plt.title(\"Confusion Matrix\",fontsize=12)\n",
        "plt.show()"
      ],
      "metadata": {
        "colab": {
          "base_uri": "https://localhost:8080/",
          "height": 298
        },
        "id": "_aypsy84dM_8",
        "outputId": "cc844fd6-8432-42a8-af3a-3d268783f047"
      },
      "execution_count": null,
      "outputs": [
        {
          "output_type": "display_data",
          "data": {
            "text/plain": [
              "<Figure size 432x288 with 2 Axes>"
            ],
            "image/png": "[encoded data removed]"
          },
          "metadata": {
            "needs_background": "light"
          }
        }
      ]
    },
    {
      "cell_type": "code",
      "source": [
        "print(classification_report(y_test,y_pred))"
      ],
      "metadata": {
        "colab": {
          "base_uri": "https://localhost:8080/"
        },
        "id": "HpKihAqjeKMb",
        "outputId": "80b5179f-46c8-4bae-ec0a-e0a28651bc98"
      },
      "execution_count": null,
      "outputs": [
        {
          "output_type": "stream",
          "name": "stdout",
          "text": [
            "              precision    recall  f1-score   support\n",
            "\n",
            "           0       0.27      1.00      0.43        55\n",
            "           1       0.00      0.00      0.00        81\n",
            "           2       0.00      0.00      0.00        67\n",
            "\n",
            "    accuracy                           0.27       203\n",
            "   macro avg       0.09      0.33      0.14       203\n",
            "weighted avg       0.07      0.27      0.12       203\n",
            "\n"
          ]
        },
        {
          "output_type": "stream",
          "name": "stderr",
          "text": [
            "/usr/local/lib/python3.7/dist-packages/sklearn/metrics/_classification.py:1318: UndefinedMetricWarning: Precision and F-score are ill-defined and being set to 0.0 in labels with no predicted samples. Use `zero_division` parameter to control this behavior.\n",
            "  _warn_prf(average, modifier, msg_start, len(result))\n",
            "/usr/local/lib/python3.7/dist-packages/sklearn/metrics/_classification.py:1318: UndefinedMetricWarning: Precision and F-score are ill-defined and being set to 0.0 in labels with no predicted samples. Use `zero_division` parameter to control this behavior.\n",
            "  _warn_prf(average, modifier, msg_start, len(result))\n",
            "/usr/local/lib/python3.7/dist-packages/sklearn/metrics/_classification.py:1318: UndefinedMetricWarning: Precision and F-score are ill-defined and being set to 0.0 in labels with no predicted samples. Use `zero_division` parameter to control this behavior.\n",
            "  _warn_prf(average, modifier, msg_start, len(result))\n"
          ]
        }
      ]
    }
  ]
}