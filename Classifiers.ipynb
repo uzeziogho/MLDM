{
  "nbformat": 4,
  "nbformat_minor": 0,
  "metadata": {
    "colab": {
      "provenance": [],
      "mount_file_id": "1He_dRdGmkVQOHFvG9gG-lY96k-LaGoFU",
      "authorship_tag": "ABX9TyMDorIuNjTZrWOvU77CFFHm",
      "include_colab_link": true
    },
    "kernelspec": {
      "name": "python3",
      "display_name": "Python 3"
    },
    "language_info": {
      "name": "python"
    }
  },
  "cells": [
    {
      "cell_type": "markdown",
      "metadata": {
        "id": "view-in-github",
        "colab_type": "text"
      },
      "source": [
        "<a href=\"https://colab.research.google.com/github/uzeziogho/MLDM/blob/main/Classifiers.ipynb\" target=\"_parent\"><img src=\"https://colab.research.google.com/assets/colab-badge.svg\" alt=\"Open In Colab\"/></a>"
      ]
    },
    {
      "cell_type": "code",
      "execution_count": 1,
      "metadata": {
        "id": "zjxi_YULvNGv"
      },
      "outputs": [],
      "source": [
        "import pandas as pd\n",
        "import numpy as np\n",
        "import matplotlib.pyplot as plt\n",
        "from sklearn import preprocessing\n",
        "from sklearn.feature_selection import SelectKBest, f_regression\n",
        "from sklearn.model_selection import train_test_split\n",
        "from sklearn import metrics\n",
        "from sklearn.metrics import classification_report, confusion_matrix, accuracy_score, f1_score\n",
        "from sklearn.preprocessing import LabelEncoder\n",
        "from sklearn.preprocessing import StandardScaler\n",
        "from pylab import *"
      ]
    },
    {
      "cell_type": "code",
      "source": [
        "import seaborn as sns\n",
        "\n",
        "from collections import Counter"
      ],
      "metadata": {
        "id": "T6Fq9biYyo_M"
      },
      "execution_count": 2,
      "outputs": []
    },
    {
      "cell_type": "code",
      "source": [
        "class1= pd.read_csv('/content/heart_failure_clinical_records_dataset.csv')\n",
        "class1.head()"
      ],
      "metadata": {
        "colab": {
          "base_uri": "https://localhost:8080/",
          "height": 270
        },
        "id": "O4kmV9Dc699d",
        "outputId": "8bbcb9a9-ac6f-47a4-a781-90104f47d4e0"
      },
      "execution_count": 3,
      "outputs": [
        {
          "output_type": "execute_result",
          "data": {
            "text/plain": [
              "    age  anaemia  creatinine_phosphokinase  diabetes  ejection_fraction  \\\n",
              "0  75.0        0                       582         0                 20   \n",
              "1  55.0        0                      7861         0                 38   \n",
              "2  65.0        0                       146         0                 20   \n",
              "3  50.0        1                       111         0                 20   \n",
              "4  65.0        1                       160         1                 20   \n",
              "\n",
              "   high_blood_pressure  platelets  serum_creatinine  serum_sodium  sex  \\\n",
              "0                    1  265000.00               1.9           130    1   \n",
              "1                    0  263358.03               1.1           136    1   \n",
              "2                    0  162000.00               1.3           129    1   \n",
              "3                    0  210000.00               1.9           137    1   \n",
              "4                    0  327000.00               2.7           116    0   \n",
              "\n",
              "   smoking  time  DEATH_EVENT  \n",
              "0        0     4            1  \n",
              "1        0     6            1  \n",
              "2        1     7            1  \n",
              "3        0     7            1  \n",
              "4        0     8            1  "
            ],
            "text/html": [
              "\n",
              "  <div id=\"df-9b604091-fde6-4e68-ad0d-2727d9fd7db8\">\n",
              "    <div class=\"colab-df-container\">\n",
              "      <div>\n",
              "<style scoped>\n",
              "    .dataframe tbody tr th:only-of-type {\n",
              "        vertical-align: middle;\n",
              "    }\n",
              "\n",
              "    .dataframe tbody tr th {\n",
              "        vertical-align: top;\n",
              "    }\n",
              "\n",
              "    .dataframe thead th {\n",
              "        text-align: right;\n",
              "    }\n",
              "</style>\n",
              "<table border=\"1\" class=\"dataframe\">\n",
              "  <thead>\n",
              "    <tr style=\"text-align: right;\">\n",
              "      <th></th>\n",
              "      <th>age</th>\n",
              "      <th>anaemia</th>\n",
              "      <th>creatinine_phosphokinase</th>\n",
              "      <th>diabetes</th>\n",
              "      <th>ejection_fraction</th>\n",
              "      <th>high_blood_pressure</th>\n",
              "      <th>platelets</th>\n",
              "      <th>serum_creatinine</th>\n",
              "      <th>serum_sodium</th>\n",
              "      <th>sex</th>\n",
              "      <th>smoking</th>\n",
              "      <th>time</th>\n",
              "      <th>DEATH_EVENT</th>\n",
              "    </tr>\n",
              "  </thead>\n",
              "  <tbody>\n",
              "    <tr>\n",
              "      <th>0</th>\n",
              "      <td>75.0</td>\n",
              "      <td>0</td>\n",
              "      <td>582</td>\n",
              "      <td>0</td>\n",
              "      <td>20</td>\n",
              "      <td>1</td>\n",
              "      <td>265000.00</td>\n",
              "      <td>1.9</td>\n",
              "      <td>130</td>\n",
              "      <td>1</td>\n",
              "      <td>0</td>\n",
              "      <td>4</td>\n",
              "      <td>1</td>\n",
              "    </tr>\n",
              "    <tr>\n",
              "      <th>1</th>\n",
              "      <td>55.0</td>\n",
              "      <td>0</td>\n",
              "      <td>7861</td>\n",
              "      <td>0</td>\n",
              "      <td>38</td>\n",
              "      <td>0</td>\n",
              "      <td>263358.03</td>\n",
              "      <td>1.1</td>\n",
              "      <td>136</td>\n",
              "      <td>1</td>\n",
              "      <td>0</td>\n",
              "      <td>6</td>\n",
              "      <td>1</td>\n",
              "    </tr>\n",
              "    <tr>\n",
              "      <th>2</th>\n",
              "      <td>65.0</td>\n",
              "      <td>0</td>\n",
              "      <td>146</td>\n",
              "      <td>0</td>\n",
              "      <td>20</td>\n",
              "      <td>0</td>\n",
              "      <td>162000.00</td>\n",
              "      <td>1.3</td>\n",
              "      <td>129</td>\n",
              "      <td>1</td>\n",
              "      <td>1</td>\n",
              "      <td>7</td>\n",
              "      <td>1</td>\n",
              "    </tr>\n",
              "    <tr>\n",
              "      <th>3</th>\n",
              "      <td>50.0</td>\n",
              "      <td>1</td>\n",
              "      <td>111</td>\n",
              "      <td>0</td>\n",
              "      <td>20</td>\n",
              "      <td>0</td>\n",
              "      <td>210000.00</td>\n",
              "      <td>1.9</td>\n",
              "      <td>137</td>\n",
              "      <td>1</td>\n",
              "      <td>0</td>\n",
              "      <td>7</td>\n",
              "      <td>1</td>\n",
              "    </tr>\n",
              "    <tr>\n",
              "      <th>4</th>\n",
              "      <td>65.0</td>\n",
              "      <td>1</td>\n",
              "      <td>160</td>\n",
              "      <td>1</td>\n",
              "      <td>20</td>\n",
              "      <td>0</td>\n",
              "      <td>327000.00</td>\n",
              "      <td>2.7</td>\n",
              "      <td>116</td>\n",
              "      <td>0</td>\n",
              "      <td>0</td>\n",
              "      <td>8</td>\n",
              "      <td>1</td>\n",
              "    </tr>\n",
              "  </tbody>\n",
              "</table>\n",
              "</div>\n",
              "      <button class=\"colab-df-convert\" onclick=\"convertToInteractive('df-9b604091-fde6-4e68-ad0d-2727d9fd7db8')\"\n",
              "              title=\"Convert this dataframe to an interactive table.\"\n",
              "              style=\"display:none;\">\n",
              "        \n",
              "  <svg xmlns=\"http://www.w3.org/2000/svg\" height=\"24px\"viewBox=\"0 0 24 24\"\n",
              "       width=\"24px\">\n",
              "    <path d=\"M0 0h24v24H0V0z\" fill=\"none\"/>\n",
              "    <path d=\"M18.56 5.44l.94 2.06.94-2.06 2.06-.94-2.06-.94-.94-2.06-.94 2.06-2.06.94zm-11 1L8.5 8.5l.94-2.06 2.06-.94-2.06-.94L8.5 2.5l-.94 2.06-2.06.94zm10 10l.94 2.06.94-2.06 2.06-.94-2.06-.94-.94-2.06-.94 2.06-2.06.94z\"/><path d=\"M17.41 7.96l-1.37-1.37c-.4-.4-.92-.59-1.43-.59-.52 0-1.04.2-1.43.59L10.3 9.45l-7.72 7.72c-.78.78-.78 2.05 0 2.83L4 21.41c.39.39.9.59 1.41.59.51 0 1.02-.2 1.41-.59l7.78-7.78 2.81-2.81c.8-.78.8-2.07 0-2.86zM5.41 20L4 18.59l7.72-7.72 1.47 1.35L5.41 20z\"/>\n",
              "  </svg>\n",
              "      </button>\n",
              "      \n",
              "  <style>\n",
              "    .colab-df-container {\n",
              "      display:flex;\n",
              "      flex-wrap:wrap;\n",
              "      gap: 12px;\n",
              "    }\n",
              "\n",
              "    .colab-df-convert {\n",
              "      background-color: #E8F0FE;\n",
              "      border: none;\n",
              "      border-radius: 50%;\n",
              "      cursor: pointer;\n",
              "      display: none;\n",
              "      fill: #1967D2;\n",
              "      height: 32px;\n",
              "      padding: 0 0 0 0;\n",
              "      width: 32px;\n",
              "    }\n",
              "\n",
              "    .colab-df-convert:hover {\n",
              "      background-color: #E2EBFA;\n",
              "      box-shadow: 0px 1px 2px rgba(60, 64, 67, 0.3), 0px 1px 3px 1px rgba(60, 64, 67, 0.15);\n",
              "      fill: #174EA6;\n",
              "    }\n",
              "\n",
              "    [theme=dark] .colab-df-convert {\n",
              "      background-color: #3B4455;\n",
              "      fill: #D2E3FC;\n",
              "    }\n",
              "\n",
              "    [theme=dark] .colab-df-convert:hover {\n",
              "      background-color: #434B5C;\n",
              "      box-shadow: 0px 1px 3px 1px rgba(0, 0, 0, 0.15);\n",
              "      filter: drop-shadow(0px 1px 2px rgba(0, 0, 0, 0.3));\n",
              "      fill: #FFFFFF;\n",
              "    }\n",
              "  </style>\n",
              "\n",
              "      <script>\n",
              "        const buttonEl =\n",
              "          document.querySelector('#df-9b604091-fde6-4e68-ad0d-2727d9fd7db8 button.colab-df-convert');\n",
              "        buttonEl.style.display =\n",
              "          google.colab.kernel.accessAllowed ? 'block' : 'none';\n",
              "\n",
              "        async function convertToInteractive(key) {\n",
              "          const element = document.querySelector('#df-9b604091-fde6-4e68-ad0d-2727d9fd7db8');\n",
              "          const dataTable =\n",
              "            await google.colab.kernel.invokeFunction('convertToInteractive',\n",
              "                                                     [key], {});\n",
              "          if (!dataTable) return;\n",
              "\n",
              "          const docLinkHtml = 'Like what you see? Visit the ' +\n",
              "            '<a target=\"_blank\" href=https://colab.research.google.com/notebooks/data_table.ipynb>data table notebook</a>'\n",
              "            + ' to learn more about interactive tables.';\n",
              "          element.innerHTML = '';\n",
              "          dataTable['output_type'] = 'display_data';\n",
              "          await google.colab.output.renderOutput(dataTable, element);\n",
              "          const docLink = document.createElement('div');\n",
              "          docLink.innerHTML = docLinkHtml;\n",
              "          element.appendChild(docLink);\n",
              "        }\n",
              "      </script>\n",
              "    </div>\n",
              "  </div>\n",
              "  "
            ]
          },
          "metadata": {},
          "execution_count": 3
        }
      ]
    },
    {
      "cell_type": "code",
      "source": [
        "kf=class1.copy()\n",
        "class1.describe()"
      ],
      "metadata": {
        "colab": {
          "base_uri": "https://localhost:8080/",
          "height": 364
        },
        "id": "-L_069L97nAe",
        "outputId": "630bbb3b-4ba8-4ef2-ab1a-89683024c285"
      },
      "execution_count": 4,
      "outputs": [
        {
          "output_type": "execute_result",
          "data": {
            "text/plain": [
              "              age     anaemia  creatinine_phosphokinase    diabetes  \\\n",
              "count  299.000000  299.000000                299.000000  299.000000   \n",
              "mean    60.833893    0.431438                581.839465    0.418060   \n",
              "std     11.894809    0.496107                970.287881    0.494067   \n",
              "min     40.000000    0.000000                 23.000000    0.000000   \n",
              "25%     51.000000    0.000000                116.500000    0.000000   \n",
              "50%     60.000000    0.000000                250.000000    0.000000   \n",
              "75%     70.000000    1.000000                582.000000    1.000000   \n",
              "max     95.000000    1.000000               7861.000000    1.000000   \n",
              "\n",
              "       ejection_fraction  high_blood_pressure      platelets  \\\n",
              "count         299.000000           299.000000     299.000000   \n",
              "mean           38.083612             0.351171  263358.029264   \n",
              "std            11.834841             0.478136   97804.236869   \n",
              "min            14.000000             0.000000   25100.000000   \n",
              "25%            30.000000             0.000000  212500.000000   \n",
              "50%            38.000000             0.000000  262000.000000   \n",
              "75%            45.000000             1.000000  303500.000000   \n",
              "max            80.000000             1.000000  850000.000000   \n",
              "\n",
              "       serum_creatinine  serum_sodium         sex    smoking        time  \\\n",
              "count         299.00000    299.000000  299.000000  299.00000  299.000000   \n",
              "mean            1.39388    136.625418    0.648829    0.32107  130.260870   \n",
              "std             1.03451      4.412477    0.478136    0.46767   77.614208   \n",
              "min             0.50000    113.000000    0.000000    0.00000    4.000000   \n",
              "25%             0.90000    134.000000    0.000000    0.00000   73.000000   \n",
              "50%             1.10000    137.000000    1.000000    0.00000  115.000000   \n",
              "75%             1.40000    140.000000    1.000000    1.00000  203.000000   \n",
              "max             9.40000    148.000000    1.000000    1.00000  285.000000   \n",
              "\n",
              "       DEATH_EVENT  \n",
              "count    299.00000  \n",
              "mean       0.32107  \n",
              "std        0.46767  \n",
              "min        0.00000  \n",
              "25%        0.00000  \n",
              "50%        0.00000  \n",
              "75%        1.00000  \n",
              "max        1.00000  "
            ],
            "text/html": [
              "\n",
              "  <div id=\"df-4b9f4487-1c1d-40b1-853c-0bd60a57e9b3\">\n",
              "    <div class=\"colab-df-container\">\n",
              "      <div>\n",
              "<style scoped>\n",
              "    .dataframe tbody tr th:only-of-type {\n",
              "        vertical-align: middle;\n",
              "    }\n",
              "\n",
              "    .dataframe tbody tr th {\n",
              "        vertical-align: top;\n",
              "    }\n",
              "\n",
              "    .dataframe thead th {\n",
              "        text-align: right;\n",
              "    }\n",
              "</style>\n",
              "<table border=\"1\" class=\"dataframe\">\n",
              "  <thead>\n",
              "    <tr style=\"text-align: right;\">\n",
              "      <th></th>\n",
              "      <th>age</th>\n",
              "      <th>anaemia</th>\n",
              "      <th>creatinine_phosphokinase</th>\n",
              "      <th>diabetes</th>\n",
              "      <th>ejection_fraction</th>\n",
              "      <th>high_blood_pressure</th>\n",
              "      <th>platelets</th>\n",
              "      <th>serum_creatinine</th>\n",
              "      <th>serum_sodium</th>\n",
              "      <th>sex</th>\n",
              "      <th>smoking</th>\n",
              "      <th>time</th>\n",
              "      <th>DEATH_EVENT</th>\n",
              "    </tr>\n",
              "  </thead>\n",
              "  <tbody>\n",
              "    <tr>\n",
              "      <th>count</th>\n",
              "      <td>299.000000</td>\n",
              "      <td>299.000000</td>\n",
              "      <td>299.000000</td>\n",
              "      <td>299.000000</td>\n",
              "      <td>299.000000</td>\n",
              "      <td>299.000000</td>\n",
              "      <td>299.000000</td>\n",
              "      <td>299.00000</td>\n",
              "      <td>299.000000</td>\n",
              "      <td>299.000000</td>\n",
              "      <td>299.00000</td>\n",
              "      <td>299.000000</td>\n",
              "      <td>299.00000</td>\n",
              "    </tr>\n",
              "    <tr>\n",
              "      <th>mean</th>\n",
              "      <td>60.833893</td>\n",
              "      <td>0.431438</td>\n",
              "      <td>581.839465</td>\n",
              "      <td>0.418060</td>\n",
              "      <td>38.083612</td>\n",
              "      <td>0.351171</td>\n",
              "      <td>263358.029264</td>\n",
              "      <td>1.39388</td>\n",
              "      <td>136.625418</td>\n",
              "      <td>0.648829</td>\n",
              "      <td>0.32107</td>\n",
              "      <td>130.260870</td>\n",
              "      <td>0.32107</td>\n",
              "    </tr>\n",
              "    <tr>\n",
              "      <th>std</th>\n",
              "      <td>11.894809</td>\n",
              "      <td>0.496107</td>\n",
              "      <td>970.287881</td>\n",
              "      <td>0.494067</td>\n",
              "      <td>11.834841</td>\n",
              "      <td>0.478136</td>\n",
              "      <td>97804.236869</td>\n",
              "      <td>1.03451</td>\n",
              "      <td>4.412477</td>\n",
              "      <td>0.478136</td>\n",
              "      <td>0.46767</td>\n",
              "      <td>77.614208</td>\n",
              "      <td>0.46767</td>\n",
              "    </tr>\n",
              "    <tr>\n",
              "      <th>min</th>\n",
              "      <td>40.000000</td>\n",
              "      <td>0.000000</td>\n",
              "      <td>23.000000</td>\n",
              "      <td>0.000000</td>\n",
              "      <td>14.000000</td>\n",
              "      <td>0.000000</td>\n",
              "      <td>25100.000000</td>\n",
              "      <td>0.50000</td>\n",
              "      <td>113.000000</td>\n",
              "      <td>0.000000</td>\n",
              "      <td>0.00000</td>\n",
              "      <td>4.000000</td>\n",
              "      <td>0.00000</td>\n",
              "    </tr>\n",
              "    <tr>\n",
              "      <th>25%</th>\n",
              "      <td>51.000000</td>\n",
              "      <td>0.000000</td>\n",
              "      <td>116.500000</td>\n",
              "      <td>0.000000</td>\n",
              "      <td>30.000000</td>\n",
              "      <td>0.000000</td>\n",
              "      <td>212500.000000</td>\n",
              "      <td>0.90000</td>\n",
              "      <td>134.000000</td>\n",
              "      <td>0.000000</td>\n",
              "      <td>0.00000</td>\n",
              "      <td>73.000000</td>\n",
              "      <td>0.00000</td>\n",
              "    </tr>\n",
              "    <tr>\n",
              "      <th>50%</th>\n",
              "      <td>60.000000</td>\n",
              "      <td>0.000000</td>\n",
              "      <td>250.000000</td>\n",
              "      <td>0.000000</td>\n",
              "      <td>38.000000</td>\n",
              "      <td>0.000000</td>\n",
              "      <td>262000.000000</td>\n",
              "      <td>1.10000</td>\n",
              "      <td>137.000000</td>\n",
              "      <td>1.000000</td>\n",
              "      <td>0.00000</td>\n",
              "      <td>115.000000</td>\n",
              "      <td>0.00000</td>\n",
              "    </tr>\n",
              "    <tr>\n",
              "      <th>75%</th>\n",
              "      <td>70.000000</td>\n",
              "      <td>1.000000</td>\n",
              "      <td>582.000000</td>\n",
              "      <td>1.000000</td>\n",
              "      <td>45.000000</td>\n",
              "      <td>1.000000</td>\n",
              "      <td>303500.000000</td>\n",
              "      <td>1.40000</td>\n",
              "      <td>140.000000</td>\n",
              "      <td>1.000000</td>\n",
              "      <td>1.00000</td>\n",
              "      <td>203.000000</td>\n",
              "      <td>1.00000</td>\n",
              "    </tr>\n",
              "    <tr>\n",
              "      <th>max</th>\n",
              "      <td>95.000000</td>\n",
              "      <td>1.000000</td>\n",
              "      <td>7861.000000</td>\n",
              "      <td>1.000000</td>\n",
              "      <td>80.000000</td>\n",
              "      <td>1.000000</td>\n",
              "      <td>850000.000000</td>\n",
              "      <td>9.40000</td>\n",
              "      <td>148.000000</td>\n",
              "      <td>1.000000</td>\n",
              "      <td>1.00000</td>\n",
              "      <td>285.000000</td>\n",
              "      <td>1.00000</td>\n",
              "    </tr>\n",
              "  </tbody>\n",
              "</table>\n",
              "</div>\n",
              "      <button class=\"colab-df-convert\" onclick=\"convertToInteractive('df-4b9f4487-1c1d-40b1-853c-0bd60a57e9b3')\"\n",
              "              title=\"Convert this dataframe to an interactive table.\"\n",
              "              style=\"display:none;\">\n",
              "        \n",
              "  <svg xmlns=\"http://www.w3.org/2000/svg\" height=\"24px\"viewBox=\"0 0 24 24\"\n",
              "       width=\"24px\">\n",
              "    <path d=\"M0 0h24v24H0V0z\" fill=\"none\"/>\n",
              "    <path d=\"M18.56 5.44l.94 2.06.94-2.06 2.06-.94-2.06-.94-.94-2.06-.94 2.06-2.06.94zm-11 1L8.5 8.5l.94-2.06 2.06-.94-2.06-.94L8.5 2.5l-.94 2.06-2.06.94zm10 10l.94 2.06.94-2.06 2.06-.94-2.06-.94-.94-2.06-.94 2.06-2.06.94z\"/><path d=\"M17.41 7.96l-1.37-1.37c-.4-.4-.92-.59-1.43-.59-.52 0-1.04.2-1.43.59L10.3 9.45l-7.72 7.72c-.78.78-.78 2.05 0 2.83L4 21.41c.39.39.9.59 1.41.59.51 0 1.02-.2 1.41-.59l7.78-7.78 2.81-2.81c.8-.78.8-2.07 0-2.86zM5.41 20L4 18.59l7.72-7.72 1.47 1.35L5.41 20z\"/>\n",
              "  </svg>\n",
              "      </button>\n",
              "      \n",
              "  <style>\n",
              "    .colab-df-container {\n",
              "      display:flex;\n",
              "      flex-wrap:wrap;\n",
              "      gap: 12px;\n",
              "    }\n",
              "\n",
              "    .colab-df-convert {\n",
              "      background-color: #E8F0FE;\n",
              "      border: none;\n",
              "      border-radius: 50%;\n",
              "      cursor: pointer;\n",
              "      display: none;\n",
              "      fill: #1967D2;\n",
              "      height: 32px;\n",
              "      padding: 0 0 0 0;\n",
              "      width: 32px;\n",
              "    }\n",
              "\n",
              "    .colab-df-convert:hover {\n",
              "      background-color: #E2EBFA;\n",
              "      box-shadow: 0px 1px 2px rgba(60, 64, 67, 0.3), 0px 1px 3px 1px rgba(60, 64, 67, 0.15);\n",
              "      fill: #174EA6;\n",
              "    }\n",
              "\n",
              "    [theme=dark] .colab-df-convert {\n",
              "      background-color: #3B4455;\n",
              "      fill: #D2E3FC;\n",
              "    }\n",
              "\n",
              "    [theme=dark] .colab-df-convert:hover {\n",
              "      background-color: #434B5C;\n",
              "      box-shadow: 0px 1px 3px 1px rgba(0, 0, 0, 0.15);\n",
              "      filter: drop-shadow(0px 1px 2px rgba(0, 0, 0, 0.3));\n",
              "      fill: #FFFFFF;\n",
              "    }\n",
              "  </style>\n",
              "\n",
              "      <script>\n",
              "        const buttonEl =\n",
              "          document.querySelector('#df-4b9f4487-1c1d-40b1-853c-0bd60a57e9b3 button.colab-df-convert');\n",
              "        buttonEl.style.display =\n",
              "          google.colab.kernel.accessAllowed ? 'block' : 'none';\n",
              "\n",
              "        async function convertToInteractive(key) {\n",
              "          const element = document.querySelector('#df-4b9f4487-1c1d-40b1-853c-0bd60a57e9b3');\n",
              "          const dataTable =\n",
              "            await google.colab.kernel.invokeFunction('convertToInteractive',\n",
              "                                                     [key], {});\n",
              "          if (!dataTable) return;\n",
              "\n",
              "          const docLinkHtml = 'Like what you see? Visit the ' +\n",
              "            '<a target=\"_blank\" href=https://colab.research.google.com/notebooks/data_table.ipynb>data table notebook</a>'\n",
              "            + ' to learn more about interactive tables.';\n",
              "          element.innerHTML = '';\n",
              "          dataTable['output_type'] = 'display_data';\n",
              "          await google.colab.output.renderOutput(dataTable, element);\n",
              "          const docLink = document.createElement('div');\n",
              "          docLink.innerHTML = docLinkHtml;\n",
              "          element.appendChild(docLink);\n",
              "        }\n",
              "      </script>\n",
              "    </div>\n",
              "  </div>\n",
              "  "
            ]
          },
          "metadata": {},
          "execution_count": 4
        }
      ]
    },
    {
      "cell_type": "code",
      "source": [
        "class1.hist(layout=(4,4), figsize=(20,10))"
      ],
      "metadata": {
        "colab": {
          "base_uri": "https://localhost:8080/",
          "height": 793
        },
        "id": "fbcJ-8J3W5pt",
        "outputId": "6318b1e4-f775-449e-bc90-a162ea5c3beb"
      },
      "execution_count": 13,
      "outputs": [
        {
          "output_type": "execute_result",
          "data": {
            "text/plain": [
              "array([[<matplotlib.axes._subplots.AxesSubplot object at 0x7ff62c62da10>,\n",
              "        <matplotlib.axes._subplots.AxesSubplot object at 0x7ff62c655cd0>,\n",
              "        <matplotlib.axes._subplots.AxesSubplot object at 0x7ff62c61d150>,\n",
              "        <matplotlib.axes._subplots.AxesSubplot object at 0x7ff62c5d3650>],\n",
              "       [<matplotlib.axes._subplots.AxesSubplot object at 0x7ff62c589b50>,\n",
              "        <matplotlib.axes._subplots.AxesSubplot object at 0x7ff62c535b90>,\n",
              "        <matplotlib.axes._subplots.AxesSubplot object at 0x7ff62c503610>,\n",
              "        <matplotlib.axes._subplots.AxesSubplot object at 0x7ff62c4b9a50>],\n",
              "       [<matplotlib.axes._subplots.AxesSubplot object at 0x7ff62c4b9a90>,\n",
              "        <matplotlib.axes._subplots.AxesSubplot object at 0x7ff62c47d0d0>,\n",
              "        <matplotlib.axes._subplots.AxesSubplot object at 0x7ff62c3eb990>,\n",
              "        <matplotlib.axes._subplots.AxesSubplot object at 0x7ff62c3a1e90>],\n",
              "       [<matplotlib.axes._subplots.AxesSubplot object at 0x7ff62ca6ba90>,\n",
              "        <matplotlib.axes._subplots.AxesSubplot object at 0x7ff62dcc32d0>,\n",
              "        <matplotlib.axes._subplots.AxesSubplot object at 0x7ff62d9d34d0>,\n",
              "        <matplotlib.axes._subplots.AxesSubplot object at 0x7ff62c687490>]],\n",
              "      dtype=object)"
            ]
          },
          "metadata": {},
          "execution_count": 13
        },
        {
          "output_type": "display_data",
          "data": {
            "text/plain": [
              "<Figure size 1440x720 with 16 Axes>"
            ],
            "image/png": "[encoded data removed]"
          },
          "metadata": {
            "needs_background": "light"
          }
        }
      ]
    },
    {
      "cell_type": "code",
      "source": [
        "plt.title('Deaths from Heart Attacks based on Age')\n",
        "sns.histplot(class1.DEATH_EVENT)\n",
        "plt.show()"
      ],
      "metadata": {
        "colab": {
          "base_uri": "https://localhost:8080/",
          "height": 296
        },
        "id": "eWxI1Kq1F36t",
        "outputId": "7189b5aa-3ba2-4e3e-9f7a-fc5a32c17567"
      },
      "execution_count": 112,
      "outputs": [
        {
          "output_type": "display_data",
          "data": {
            "text/plain": [
              "<Figure size 432x288 with 1 Axes>"
            ],
            "image/png": "[encoded data removed]"
          },
          "metadata": {
            "needs_background": "light"
          }
        }
      ]
    },
    {
      "cell_type": "code",
      "source": [
        "sns.histplot(class1.age)\n",
        "plt.title('Age distribution')\n",
        "plt.show()"
      ],
      "metadata": {
        "colab": {
          "base_uri": "https://localhost:8080/",
          "height": 295
        },
        "id": "nutCqOLO7umm",
        "outputId": "54fe4729-61ca-4cc6-ff9c-1a70845404de"
      },
      "execution_count": 8,
      "outputs": [
        {
          "output_type": "display_data",
          "data": {
            "text/plain": [
              "<Figure size 432x288 with 1 Axes>"
            ],
            "image/png": "[encoded data removed]"
          },
          "metadata": {
            "needs_background": "light"
          }
        }
      ]
    },
    {
      "cell_type": "code",
      "source": [
        "plt.figure(figsize=(15,5))\n",
        "plt.title('Deaths from Heart Attacks based on Age')\n",
        "sns.histplot(x=\"age\",hue=\"DEATH_EVENT\",data=class1)\n",
        "plt.show()"
      ],
      "metadata": {
        "colab": {
          "base_uri": "https://localhost:8080/",
          "height": 350
        },
        "id": "Nx8qTKzc70N4",
        "outputId": "10560529-6b3c-4062-9a00-a8081268647c"
      },
      "execution_count": 9,
      "outputs": [
        {
          "output_type": "display_data",
          "data": {
            "text/plain": [
              "<Figure size 1080x360 with 1 Axes>"
            ],
            "image/png": "[encoded data removed]"
          },
          "metadata": {
            "needs_background": "light"
          }
        }
      ]
    },
    {
      "cell_type": "code",
      "source": [
        "X = class1.iloc[:,[7,4,0]].values\n",
        "y = class1.iloc[:,[12]]"
      ],
      "metadata": {
        "id": "YFU8DwhSAbTw"
      },
      "execution_count": 386,
      "outputs": []
    },
    {
      "cell_type": "code",
      "source": [
        "Counter(y.values.flatten())"
      ],
      "metadata": {
        "colab": {
          "base_uri": "https://localhost:8080/"
        },
        "id": "wdUWO8b54OtK",
        "outputId": "9be51d73-ad75-4c29-9e5d-33195f89b610"
      },
      "execution_count": 387,
      "outputs": [
        {
          "output_type": "execute_result",
          "data": {
            "text/plain": [
              "Counter({1: 96, 0: 203})"
            ]
          },
          "metadata": {},
          "execution_count": 387
        }
      ]
    },
    {
      "cell_type": "code",
      "source": [
        "# example of random oversampling to balance the class distribution\n",
        "from collections import Counter\n",
        "from sklearn.datasets import make_classification\n",
        "from imblearn.over_sampling import RandomOverSampler\n",
        "# define dataset\n",
        "X, y = make_classification(n_samples=203, weights=[0.5], flip_y=0)\n",
        "# summarize class distribution\n",
        "print(Counter(y))\n",
        "# define oversampling strategy\n",
        "oversample = RandomOverSampler(sampling_strategy='minority')\n",
        "# fit and apply the transform\n",
        "X, y = oversample.fit_resample(X, y)\n",
        "# summarize class distribution\n",
        "print(Counter(y))"
      ],
      "metadata": {
        "colab": {
          "base_uri": "https://localhost:8080/"
        },
        "id": "EsQrKNSe1DFw",
        "outputId": "ae1640e3-b848-4f87-e3e7-bc711b2519e1"
      },
      "execution_count": 407,
      "outputs": [
        {
          "output_type": "stream",
          "name": "stdout",
          "text": [
            "Counter({0: 102, 1: 101})\n",
            "Counter({1: 102, 0: 102})\n"
          ]
        }
      ]
    },
    {
      "cell_type": "code",
      "source": [
        "X_train, X_test, y_train, y_test = train_test_split(X, y, test_size = 0.2,random_state=99)"
      ],
      "metadata": {
        "id": "lJcRzjoQAa2H"
      },
      "execution_count": 400,
      "outputs": []
    },
    {
      "cell_type": "code",
      "source": [
        "#Check the shape of the training data\n",
        "print(y_train.shape)\n",
        "print(X_train.shape)\n",
        "print(y_test.shape)\n",
        "print(X_test.shape)"
      ],
      "metadata": {
        "colab": {
          "base_uri": "https://localhost:8080/"
        },
        "id": "YQ1U04MTXpDy",
        "outputId": "0cc87bd7-d691-45eb-9276-bf923475e93e"
      },
      "execution_count": 401,
      "outputs": [
        {
          "output_type": "stream",
          "name": "stdout",
          "text": [
            "(163,)\n",
            "(163, 20)\n",
            "(41,)\n",
            "(41, 20)\n"
          ]
        }
      ]
    },
    {
      "cell_type": "code",
      "source": [
        "from collections import Counter\n",
        "Counter(y_train.flatten())"
      ],
      "metadata": {
        "colab": {
          "base_uri": "https://localhost:8080/"
        },
        "id": "OqHU_mwmbdWE",
        "outputId": "31ec575d-d799-4679-d2eb-4ab723117b23"
      },
      "execution_count": 402,
      "outputs": [
        {
          "output_type": "execute_result",
          "data": {
            "text/plain": [
              "Counter({1: 87, 0: 76})"
            ]
          },
          "metadata": {},
          "execution_count": 402
        }
      ]
    },
    {
      "cell_type": "code",
      "source": [
        "scaler = StandardScaler()\n",
        "scaler.fit(X_train)\n",
        "X_train = scaler.transform(X_train)\n",
        "X_test = scaler.transform(X_test)"
      ],
      "metadata": {
        "id": "4S7VTYi6HFNq"
      },
      "execution_count": 403,
      "outputs": []
    },
    {
      "cell_type": "code",
      "source": [
        "from sklearn.tree import DecisionTreeClassifier\n",
        "from sklearn.naive_bayes import GaussianNB\n",
        "from sklearn.linear_model import LogisticRegression\n",
        "from sklearn.neighbors import KNeighborsClassifier\n",
        "from sklearn.svm import SVC\n",
        "from sklearn.neural_network import MLPClassifier"
      ],
      "metadata": {
        "id": "idUloczAHLNr"
      },
      "execution_count": 404,
      "outputs": []
    },
    {
      "cell_type": "code",
      "source": [
        "# 1 Algorithm: Logistic Regression\n",
        "lr = LogisticRegression()\n",
        "lr.fit(X_train, y_train)\n",
        "pred_lr = lr.predict(X_test)\n",
        "print(y_test)\n",
        "print(pred_lr)\n",
        "print(metrics.accuracy_score(y_test, pred_lr)*100)\n",
        "print(confusion_matrix(y_test, pred_lr))\n",
        "print(classification_report(y_test, pred_lr))"
      ],
      "metadata": {
        "colab": {
          "base_uri": "https://localhost:8080/"
        },
        "id": "ny4wY0zQHK1P",
        "outputId": "ee089b01-ae44-4780-9228-b223358e4209"
      },
      "execution_count": 405,
      "outputs": [
        {
          "output_type": "stream",
          "name": "stdout",
          "text": [
            "[0 0 0 0 0 1 0 1 0 0 1 1 0 0 0 0 0 1 1 1 1 0 1 0 0 1 0 0 0 1 0 0 0 0 0 1 0\n",
            " 1 1 1 0]\n",
            "[0 0 0 0 0 1 0 1 0 0 1 0 0 0 0 0 0 1 1 1 1 0 1 0 0 1 0 0 0 1 0 0 0 0 0 1 0\n",
            " 1 0 1 0]\n",
            "95.1219512195122\n",
            "[[26  0]\n",
            " [ 2 13]]\n",
            "              precision    recall  f1-score   support\n",
            "\n",
            "           0       0.93      1.00      0.96        26\n",
            "           1       1.00      0.87      0.93        15\n",
            "\n",
            "    accuracy                           0.95        41\n",
            "   macro avg       0.96      0.93      0.95        41\n",
            "weighted avg       0.95      0.95      0.95        41\n",
            "\n"
          ]
        }
      ]
    },
    {
      "cell_type": "code",
      "source": [
        "#2 Algorithm: KNeighborsClassifier\n",
        "from sklearn.neighbors import KNeighborsClassifier\n",
        "knn = KNeighborsClassifier(n_neighbors=5,metric='minkowski',p=2)\n",
        "knn.fit(X_train, y_train)\n",
        "pred_knn = knn.predict(X_test)\n",
        "print(y_test)\n",
        "print(pred_knn)\n",
        "cm=metrics.confusion_matrix(y_test,pred_knn)\n",
        "#print('accuracy:%.2f\\n\\n'%(acc))\n",
        "print(metrics.accuracy_score(y_test, pred_knn)*100)\n",
        "print(confusion_matrix(y_test, pred_knn))\n",
        "print(classification_report(y_test, pred_knn))"
      ],
      "metadata": {
        "colab": {
          "base_uri": "https://localhost:8080/"
        },
        "id": "nHN0MpmlHGbS",
        "outputId": "a8810557-f02d-418f-8827-15ca18653929"
      },
      "execution_count": 296,
      "outputs": [
        {
          "output_type": "stream",
          "name": "stdout",
          "text": [
            "[0 1 0 1 0 1 0 1 0 1 0 1 1 0 0 1 1 0 0 0 1 1 0 1 0 1 0 0 1 0 0 1 0 1 0 1 1\n",
            " 0 0 0 1 0 1 0 0 1 0 0 0 1 0 1 1 0 1 1 0 1 0 0 0 0 1 0 0 1 1 1 1 0 0 0 0 0\n",
            " 0 0 0 0 0 1 1]\n",
            "[0 1 0 1 0 1 0 1 0 1 0 1 1 0 0 1 1 0 0 0 1 1 0 1 0 1 0 0 1 0 0 1 0 1 0 1 1\n",
            " 0 0 0 1 0 1 0 0 1 0 0 0 1 0 1 1 0 1 1 0 1 0 0 0 0 1 0 0 1 1 1 1 0 0 0 0 1\n",
            " 0 0 0 0 0 1 1]\n",
            "98.76543209876543\n",
            "[[46  1]\n",
            " [ 0 34]]\n",
            "              precision    recall  f1-score   support\n",
            "\n",
            "           0       1.00      0.98      0.99        47\n",
            "           1       0.97      1.00      0.99        34\n",
            "\n",
            "    accuracy                           0.99        81\n",
            "   macro avg       0.99      0.99      0.99        81\n",
            "weighted avg       0.99      0.99      0.99        81\n",
            "\n"
          ]
        }
      ]
    },
    {
      "cell_type": "code",
      "source": [
        "ax=sns.heatmap(cm,cmap='flare',annot=True,fmt='d')\n",
        "\n",
        "plt.xlabel(\"Predicted Class\",fontsize=12)\n",
        "plt.ylabel(\"True class,fontsize=12\")\n",
        "plt.title(\"Confusion Matrix\",fontsize=12)\n",
        "plt.show()"
      ],
      "metadata": {
        "colab": {
          "base_uri": "https://localhost:8080/",
          "height": 298
        },
        "id": "pfsww0NIsK3X",
        "outputId": "b4393119-8988-4d02-cbd7-80dc2fe56e1f"
      },
      "execution_count": 297,
      "outputs": [
        {
          "output_type": "display_data",
          "data": {
            "text/plain": [
              "<Figure size 432x288 with 2 Axes>"
            ],
            "image/png": "[encoded data removed]"
          },
          "metadata": {
            "needs_background": "light"
          }
        }
      ]
    },
    {
      "cell_type": "code",
      "source": [
        "#3 Algorithm: Decision Tree\n",
        "from sklearn.tree import DecisionTreeClassifier\n",
        "classifier= DecisionTreeClassifier(criterion = 'entropy',random_state=42)\n",
        "classifier.fit(X_train,y_train)\n",
        "\n",
        "#predicting the test set results\n",
        "y_pred=classifier.predict(X_test)\n",
        "print(y_pred)"
      ],
      "metadata": {
        "colab": {
          "base_uri": "https://localhost:8080/"
        },
        "id": "kwz05eAYICLF",
        "outputId": "b985c535-159e-460f-bbec-0a82529094ee"
      },
      "execution_count": 299,
      "outputs": [
        {
          "output_type": "stream",
          "name": "stdout",
          "text": [
            "[0 1 0 1 0 1 0 1 0 1 0 1 1 0 0 1 1 0 0 0 1 1 0 1 0 1 0 0 1 0 0 1 0 1 0 1 1\n",
            " 0 0 0 1 0 1 0 0 1 0 0 0 1 0 1 1 0 1 1 0 1 0 0 0 0 1 0 0 1 1 1 1 0 0 0 0 0\n",
            " 0 0 0 0 0 1 1]\n"
          ]
        }
      ]
    },
    {
      "cell_type": "code",
      "source": [
        "print(y_test)\n",
        "cm=metrics.confusion_matrix(y_test,y_pred)\n",
        "#print('accuracy:%.2f\\n\\n'%(acc))\n",
        "print(metrics.accuracy_score(y_test, y_pred)*100)\n",
        "print(confusion_matrix(y_test, y_pred))\n",
        "print(classification_report(y_test, y_pred))"
      ],
      "metadata": {
        "colab": {
          "base_uri": "https://localhost:8080/"
        },
        "id": "_bk6HO9AxUZd",
        "outputId": "6b55a045-e9dd-400a-aef0-d39b3c237b88"
      },
      "execution_count": 300,
      "outputs": [
        {
          "output_type": "stream",
          "name": "stdout",
          "text": [
            "[0 1 0 1 0 1 0 1 0 1 0 1 1 0 0 1 1 0 0 0 1 1 0 1 0 1 0 0 1 0 0 1 0 1 0 1 1\n",
            " 0 0 0 1 0 1 0 0 1 0 0 0 1 0 1 1 0 1 1 0 1 0 0 0 0 1 0 0 1 1 1 1 0 0 0 0 0\n",
            " 0 0 0 0 0 1 1]\n",
            "100.0\n",
            "[[47  0]\n",
            " [ 0 34]]\n",
            "              precision    recall  f1-score   support\n",
            "\n",
            "           0       1.00      1.00      1.00        47\n",
            "           1       1.00      1.00      1.00        34\n",
            "\n",
            "    accuracy                           1.00        81\n",
            "   macro avg       1.00      1.00      1.00        81\n",
            "weighted avg       1.00      1.00      1.00        81\n",
            "\n"
          ]
        }
      ]
    },
    {
      "cell_type": "code",
      "source": [
        "from sklearn import metrics\n",
        "acc=metrics.accuracy_score(y_test,y_pred)\n",
        "print('accuracy:%.2f\\n\\n'%(acc))\n",
        "cm=metrics.confusion_matrix(y_test,y_pred)\n",
        "print('Confusion Matrix:')\n",
        "print(cm,'\\n\\n')\n",
        "print('----------------------------------------------------------')\n",
        "result=metrics.classification_report(y_test,y_pred)\n",
        "print(result)"
      ],
      "metadata": {
        "colab": {
          "base_uri": "https://localhost:8080/"
        },
        "id": "Mgx6raSyxttc",
        "outputId": "acdeff1a-c420-4c65-fb04-cf381d07c9df"
      },
      "execution_count": 301,
      "outputs": [
        {
          "output_type": "stream",
          "name": "stdout",
          "text": [
            "accuracy:1.00\n",
            "\n",
            "\n",
            "Confusion Matrix:\n",
            "[[47  0]\n",
            " [ 0 34]] \n",
            "\n",
            "\n",
            "----------------------------------------------------------\n",
            "              precision    recall  f1-score   support\n",
            "\n",
            "           0       1.00      1.00      1.00        47\n",
            "           1       1.00      1.00      1.00        34\n",
            "\n",
            "    accuracy                           1.00        81\n",
            "   macro avg       1.00      1.00      1.00        81\n",
            "weighted avg       1.00      1.00      1.00        81\n",
            "\n"
          ]
        }
      ]
    },
    {
      "cell_type": "code",
      "source": [
        "ax=sns.heatmap(cm,cmap='flare',annot=True,fmt='d')\n",
        "\n",
        "plt.xlabel(\"Predicted Class\",fontsize=12)\n",
        "plt.ylabel(\"True class,fontsize=12\")\n",
        "plt.title(\"Confusion Matrix\",fontsize=12)\n",
        "plt.show()"
      ],
      "metadata": {
        "colab": {
          "base_uri": "https://localhost:8080/",
          "height": 298
        },
        "id": "DetqwQUyy_4d",
        "outputId": "f011fbbb-6d3e-4d60-852e-9f5e08b732b0"
      },
      "execution_count": 302,
      "outputs": [
        {
          "output_type": "display_data",
          "data": {
            "text/plain": [
              "<Figure size 432x288 with 2 Axes>"
            ],
            "image/png": "[encoded data removed]"
          },
          "metadata": {
            "needs_background": "light"
          }
        }
      ]
    },
    {
      "cell_type": "code",
      "source": [
        "import tensorflow as tf"
      ],
      "metadata": {
        "id": "7wClthRNGj38"
      },
      "execution_count": 278,
      "outputs": []
    },
    {
      "cell_type": "code",
      "source": [
        "\n",
        "scaler=StandardScaler()\n",
        "X_train=scaler.fit_transform(X_train)\n",
        "X_test=scaler.transform(X_test)"
      ],
      "metadata": {
        "id": "5NHrM7v7Fom-"
      },
      "execution_count": 279,
      "outputs": []
    },
    {
      "cell_type": "code",
      "source": [
        "#Dependencies\n",
        "import keras\n",
        "from keras.models import Sequential\n",
        "from keras.layers import Dense\n",
        "# Neural network\n",
        "model = tf.keras.models.Sequential()\n",
        "model.add(tf.keras.layers.Dense(8, input_shape=(3,), activation='relu'))\n",
        "#model.add(tf.keras.layers.Dense(2, activation='relu'))\n",
        "model.add(tf.keras.layers.Dense(1, activation='sigmoid'))"
      ],
      "metadata": {
        "id": "VVVKjjIxzplV"
      },
      "execution_count": 281,
      "outputs": []
    },
    {
      "cell_type": "code",
      "source": [
        "model.compile(loss='binary_crossentropy', optimizer='adam', metrics=['accuracy'])"
      ],
      "metadata": {
        "id": "QxDzsYQqzyik"
      },
      "execution_count": 282,
      "outputs": []
    },
    {
      "cell_type": "code",
      "source": [
        "history = model.fit(X_train, y_train, epochs=50, batch_size=10)"
      ],
      "metadata": {
        "colab": {
          "base_uri": "https://localhost:8080/"
        },
        "id": "461c06O50HQx",
        "outputId": "1c10cb77-05ef-4da1-f29e-6b6caa12cca2"
      },
      "execution_count": 283,
      "outputs": [
        {
          "output_type": "stream",
          "name": "stdout",
          "text": [
            "Epoch 1/50\n",
            "24/24 [==============================] - 1s 4ms/step - loss: 0.7230 - accuracy: 0.6904\n",
            "Epoch 2/50\n",
            "24/24 [==============================] - 0s 3ms/step - loss: 0.7047 - accuracy: 0.6946\n",
            "Epoch 3/50\n",
            "24/24 [==============================] - 0s 3ms/step - loss: 0.6893 - accuracy: 0.6946\n",
            "Epoch 4/50\n",
            "24/24 [==============================] - 0s 4ms/step - loss: 0.6733 - accuracy: 0.6946\n",
            "Epoch 5/50\n",
            "24/24 [==============================] - 0s 3ms/step - loss: 0.6603 - accuracy: 0.6946\n",
            "Epoch 6/50\n",
            "24/24 [==============================] - 0s 3ms/step - loss: 0.6487 - accuracy: 0.6946\n",
            "Epoch 7/50\n",
            "24/24 [==============================] - 0s 3ms/step - loss: 0.6371 - accuracy: 0.6946\n",
            "Epoch 8/50\n",
            "24/24 [==============================] - 0s 3ms/step - loss: 0.6268 - accuracy: 0.6946\n",
            "Epoch 9/50\n",
            "24/24 [==============================] - 0s 3ms/step - loss: 0.6177 - accuracy: 0.6946\n",
            "Epoch 10/50\n",
            "24/24 [==============================] - 0s 3ms/step - loss: 0.6096 - accuracy: 0.6946\n",
            "Epoch 11/50\n",
            "24/24 [==============================] - 0s 3ms/step - loss: 0.6002 - accuracy: 0.6946\n",
            "Epoch 12/50\n",
            "24/24 [==============================] - 0s 3ms/step - loss: 0.5930 - accuracy: 0.6946\n",
            "Epoch 13/50\n",
            "24/24 [==============================] - 0s 3ms/step - loss: 0.5865 - accuracy: 0.6946\n",
            "Epoch 14/50\n",
            "24/24 [==============================] - 0s 3ms/step - loss: 0.5796 - accuracy: 0.6946\n",
            "Epoch 15/50\n",
            "24/24 [==============================] - 0s 3ms/step - loss: 0.5741 - accuracy: 0.6946\n",
            "Epoch 16/50\n",
            "24/24 [==============================] - 0s 5ms/step - loss: 0.5690 - accuracy: 0.6946\n",
            "Epoch 17/50\n",
            "24/24 [==============================] - 0s 4ms/step - loss: 0.5636 - accuracy: 0.6946\n",
            "Epoch 18/50\n",
            "24/24 [==============================] - 0s 3ms/step - loss: 0.5590 - accuracy: 0.6946\n",
            "Epoch 19/50\n",
            "24/24 [==============================] - 0s 3ms/step - loss: 0.5542 - accuracy: 0.6946\n",
            "Epoch 20/50\n",
            "24/24 [==============================] - 0s 3ms/step - loss: 0.5501 - accuracy: 0.6946\n",
            "Epoch 21/50\n",
            "24/24 [==============================] - 0s 3ms/step - loss: 0.5455 - accuracy: 0.6946\n",
            "Epoch 22/50\n",
            "24/24 [==============================] - 0s 3ms/step - loss: 0.5415 - accuracy: 0.6987\n",
            "Epoch 23/50\n",
            "24/24 [==============================] - 0s 4ms/step - loss: 0.5381 - accuracy: 0.6987\n",
            "Epoch 24/50\n",
            "24/24 [==============================] - 0s 3ms/step - loss: 0.5343 - accuracy: 0.6987\n",
            "Epoch 25/50\n",
            "24/24 [==============================] - 0s 3ms/step - loss: 0.5313 - accuracy: 0.6987\n",
            "Epoch 26/50\n",
            "24/24 [==============================] - 0s 3ms/step - loss: 0.5288 - accuracy: 0.7029\n",
            "Epoch 27/50\n",
            "24/24 [==============================] - 0s 3ms/step - loss: 0.5258 - accuracy: 0.7071\n",
            "Epoch 28/50\n",
            "24/24 [==============================] - 0s 3ms/step - loss: 0.5233 - accuracy: 0.7238\n",
            "Epoch 29/50\n",
            "24/24 [==============================] - 0s 3ms/step - loss: 0.5208 - accuracy: 0.7280\n",
            "Epoch 30/50\n",
            "24/24 [==============================] - 0s 3ms/step - loss: 0.5186 - accuracy: 0.7448\n",
            "Epoch 31/50\n",
            "24/24 [==============================] - 0s 2ms/step - loss: 0.5164 - accuracy: 0.7448\n",
            "Epoch 32/50\n",
            "24/24 [==============================] - 0s 2ms/step - loss: 0.5146 - accuracy: 0.7531\n",
            "Epoch 33/50\n",
            "24/24 [==============================] - 0s 3ms/step - loss: 0.5125 - accuracy: 0.7573\n",
            "Epoch 34/50\n",
            "24/24 [==============================] - 0s 3ms/step - loss: 0.5111 - accuracy: 0.7657\n",
            "Epoch 35/50\n",
            "24/24 [==============================] - 0s 2ms/step - loss: 0.5096 - accuracy: 0.7657\n",
            "Epoch 36/50\n",
            "24/24 [==============================] - 0s 2ms/step - loss: 0.5084 - accuracy: 0.7657\n",
            "Epoch 37/50\n",
            "24/24 [==============================] - 0s 3ms/step - loss: 0.5069 - accuracy: 0.7699\n",
            "Epoch 38/50\n",
            "24/24 [==============================] - 0s 3ms/step - loss: 0.5061 - accuracy: 0.7699\n",
            "Epoch 39/50\n",
            "24/24 [==============================] - 0s 3ms/step - loss: 0.5053 - accuracy: 0.7741\n",
            "Epoch 40/50\n",
            "24/24 [==============================] - 0s 3ms/step - loss: 0.5037 - accuracy: 0.7741\n",
            "Epoch 41/50\n",
            "24/24 [==============================] - 0s 4ms/step - loss: 0.5028 - accuracy: 0.7741\n",
            "Epoch 42/50\n",
            "24/24 [==============================] - 0s 3ms/step - loss: 0.5020 - accuracy: 0.7741\n",
            "Epoch 43/50\n",
            "24/24 [==============================] - 0s 3ms/step - loss: 0.5011 - accuracy: 0.7824\n",
            "Epoch 44/50\n",
            "24/24 [==============================] - 0s 3ms/step - loss: 0.5001 - accuracy: 0.7824\n",
            "Epoch 45/50\n",
            "24/24 [==============================] - 0s 3ms/step - loss: 0.4993 - accuracy: 0.7866\n",
            "Epoch 46/50\n",
            "24/24 [==============================] - 0s 3ms/step - loss: 0.4985 - accuracy: 0.7950\n",
            "Epoch 47/50\n",
            "24/24 [==============================] - 0s 4ms/step - loss: 0.4974 - accuracy: 0.7908\n",
            "Epoch 48/50\n",
            "24/24 [==============================] - 0s 3ms/step - loss: 0.4968 - accuracy: 0.7908\n",
            "Epoch 49/50\n",
            "24/24 [==============================] - 0s 3ms/step - loss: 0.4964 - accuracy: 0.7908\n",
            "Epoch 50/50\n",
            "24/24 [==============================] - 0s 2ms/step - loss: 0.4953 - accuracy: 0.7950\n"
          ]
        }
      ]
    },
    {
      "cell_type": "code",
      "source": [
        "model.summary()"
      ],
      "metadata": {
        "colab": {
          "base_uri": "https://localhost:8080/"
        },
        "id": "NxACi2vrAIE_",
        "outputId": "720390c0-0d87-4bb2-ad18-09dd9016a55c"
      },
      "execution_count": 284,
      "outputs": [
        {
          "output_type": "stream",
          "name": "stdout",
          "text": [
            "Model: \"sequential_3\"\n",
            "_________________________________________________________________\n",
            " Layer (type)                Output Shape              Param #   \n",
            "=================================================================\n",
            " dense_6 (Dense)             (None, 8)                 32        \n",
            "                                                                 \n",
            " dense_7 (Dense)             (None, 1)                 9         \n",
            "                                                                 \n",
            "=================================================================\n",
            "Total params: 41\n",
            "Trainable params: 41\n",
            "Non-trainable params: 0\n",
            "_________________________________________________________________\n"
          ]
        }
      ]
    },
    {
      "cell_type": "code",
      "source": [
        "class_weights={0:1,1:6,2:7}\n",
        "history=model.fit(X_train,y_train,batch_size=10,epochs=50,class_weight=class_weights,validation_split=0.3)"
      ],
      "metadata": {
        "colab": {
          "base_uri": "https://localhost:8080/"
        },
        "id": "3EMCU3cQHZ0E",
        "outputId": "3138fa58-a341-4e1f-828c-cff6346f9e19"
      },
      "execution_count": 285,
      "outputs": [
        {
          "output_type": "stream",
          "name": "stdout",
          "text": [
            "Epoch 1/50\n",
            "17/17 [==============================] - 0s 13ms/step - loss: 1.7344 - accuracy: 0.7844 - val_loss: 0.5079 - val_accuracy: 0.8056\n",
            "Epoch 2/50\n",
            "17/17 [==============================] - 0s 4ms/step - loss: 1.5726 - accuracy: 0.7365 - val_loss: 0.5071 - val_accuracy: 0.7917\n",
            "Epoch 3/50\n",
            "17/17 [==============================] - 0s 4ms/step - loss: 1.4560 - accuracy: 0.7365 - val_loss: 0.5163 - val_accuracy: 0.7778\n",
            "Epoch 4/50\n",
            "17/17 [==============================] - 0s 4ms/step - loss: 1.3694 - accuracy: 0.7066 - val_loss: 0.5257 - val_accuracy: 0.7778\n",
            "Epoch 5/50\n",
            "17/17 [==============================] - 0s 4ms/step - loss: 1.3178 - accuracy: 0.7006 - val_loss: 0.5352 - val_accuracy: 0.7778\n",
            "Epoch 6/50\n",
            "17/17 [==============================] - 0s 4ms/step - loss: 1.2831 - accuracy: 0.6886 - val_loss: 0.5465 - val_accuracy: 0.7361\n",
            "Epoch 7/50\n",
            "17/17 [==============================] - 0s 4ms/step - loss: 1.2553 - accuracy: 0.7006 - val_loss: 0.5572 - val_accuracy: 0.7222\n",
            "Epoch 8/50\n",
            "17/17 [==============================] - 0s 4ms/step - loss: 1.2298 - accuracy: 0.6886 - val_loss: 0.5652 - val_accuracy: 0.7222\n",
            "Epoch 9/50\n",
            "17/17 [==============================] - 0s 4ms/step - loss: 1.2121 - accuracy: 0.6886 - val_loss: 0.5689 - val_accuracy: 0.7222\n",
            "Epoch 10/50\n",
            "17/17 [==============================] - 0s 4ms/step - loss: 1.1989 - accuracy: 0.6826 - val_loss: 0.5747 - val_accuracy: 0.6944\n",
            "Epoch 11/50\n",
            "17/17 [==============================] - 0s 4ms/step - loss: 1.1850 - accuracy: 0.6647 - val_loss: 0.5805 - val_accuracy: 0.6944\n",
            "Epoch 12/50\n",
            "17/17 [==============================] - 0s 4ms/step - loss: 1.1734 - accuracy: 0.6647 - val_loss: 0.5833 - val_accuracy: 0.6944\n",
            "Epoch 13/50\n",
            "17/17 [==============================] - 0s 4ms/step - loss: 1.1652 - accuracy: 0.6587 - val_loss: 0.5889 - val_accuracy: 0.6667\n",
            "Epoch 14/50\n",
            "17/17 [==============================] - 0s 4ms/step - loss: 1.1567 - accuracy: 0.6647 - val_loss: 0.5875 - val_accuracy: 0.6667\n",
            "Epoch 15/50\n",
            "17/17 [==============================] - 0s 4ms/step - loss: 1.1502 - accuracy: 0.6647 - val_loss: 0.5920 - val_accuracy: 0.6667\n",
            "Epoch 16/50\n",
            "17/17 [==============================] - 0s 4ms/step - loss: 1.1432 - accuracy: 0.6527 - val_loss: 0.5955 - val_accuracy: 0.6528\n",
            "Epoch 17/50\n",
            "17/17 [==============================] - 0s 4ms/step - loss: 1.1369 - accuracy: 0.6467 - val_loss: 0.5977 - val_accuracy: 0.6528\n",
            "Epoch 18/50\n",
            "17/17 [==============================] - 0s 4ms/step - loss: 1.1333 - accuracy: 0.6467 - val_loss: 0.6009 - val_accuracy: 0.6528\n",
            "Epoch 19/50\n",
            "17/17 [==============================] - 0s 4ms/step - loss: 1.1295 - accuracy: 0.6467 - val_loss: 0.6020 - val_accuracy: 0.6528\n",
            "Epoch 20/50\n",
            "17/17 [==============================] - 0s 4ms/step - loss: 1.1245 - accuracy: 0.6467 - val_loss: 0.6023 - val_accuracy: 0.6389\n",
            "Epoch 21/50\n",
            "17/17 [==============================] - 0s 4ms/step - loss: 1.1228 - accuracy: 0.6407 - val_loss: 0.6026 - val_accuracy: 0.6250\n",
            "Epoch 22/50\n",
            "17/17 [==============================] - 0s 4ms/step - loss: 1.1180 - accuracy: 0.6407 - val_loss: 0.6060 - val_accuracy: 0.6250\n",
            "Epoch 23/50\n",
            "17/17 [==============================] - 0s 4ms/step - loss: 1.1154 - accuracy: 0.6407 - val_loss: 0.6081 - val_accuracy: 0.6389\n",
            "Epoch 24/50\n",
            "17/17 [==============================] - 0s 4ms/step - loss: 1.1139 - accuracy: 0.6467 - val_loss: 0.6044 - val_accuracy: 0.6528\n",
            "Epoch 25/50\n",
            "17/17 [==============================] - 0s 4ms/step - loss: 1.1095 - accuracy: 0.6467 - val_loss: 0.6065 - val_accuracy: 0.6389\n",
            "Epoch 26/50\n",
            "17/17 [==============================] - 0s 3ms/step - loss: 1.1081 - accuracy: 0.6467 - val_loss: 0.6057 - val_accuracy: 0.6389\n",
            "Epoch 27/50\n",
            "17/17 [==============================] - 0s 4ms/step - loss: 1.1045 - accuracy: 0.6467 - val_loss: 0.6075 - val_accuracy: 0.6389\n",
            "Epoch 28/50\n",
            "17/17 [==============================] - 0s 4ms/step - loss: 1.1021 - accuracy: 0.6467 - val_loss: 0.6085 - val_accuracy: 0.6389\n",
            "Epoch 29/50\n",
            "17/17 [==============================] - 0s 4ms/step - loss: 1.1006 - accuracy: 0.6467 - val_loss: 0.6104 - val_accuracy: 0.6250\n",
            "Epoch 30/50\n",
            "17/17 [==============================] - 0s 4ms/step - loss: 1.0976 - accuracy: 0.6467 - val_loss: 0.6079 - val_accuracy: 0.6250\n",
            "Epoch 31/50\n",
            "17/17 [==============================] - 0s 4ms/step - loss: 1.0964 - accuracy: 0.6527 - val_loss: 0.6062 - val_accuracy: 0.6389\n",
            "Epoch 32/50\n",
            "17/17 [==============================] - 0s 4ms/step - loss: 1.0930 - accuracy: 0.6527 - val_loss: 0.6093 - val_accuracy: 0.6250\n",
            "Epoch 33/50\n",
            "17/17 [==============================] - 0s 4ms/step - loss: 1.0914 - accuracy: 0.6587 - val_loss: 0.6082 - val_accuracy: 0.6250\n",
            "Epoch 34/50\n",
            "17/17 [==============================] - 0s 4ms/step - loss: 1.0904 - accuracy: 0.6587 - val_loss: 0.6087 - val_accuracy: 0.6389\n",
            "Epoch 35/50\n",
            "17/17 [==============================] - 0s 4ms/step - loss: 1.0879 - accuracy: 0.6647 - val_loss: 0.6077 - val_accuracy: 0.6389\n",
            "Epoch 36/50\n",
            "17/17 [==============================] - 0s 4ms/step - loss: 1.0858 - accuracy: 0.6647 - val_loss: 0.6090 - val_accuracy: 0.6389\n",
            "Epoch 37/50\n",
            "17/17 [==============================] - 0s 4ms/step - loss: 1.0859 - accuracy: 0.6647 - val_loss: 0.6100 - val_accuracy: 0.6389\n",
            "Epoch 38/50\n",
            "17/17 [==============================] - 0s 4ms/step - loss: 1.0831 - accuracy: 0.6647 - val_loss: 0.6084 - val_accuracy: 0.6389\n",
            "Epoch 39/50\n",
            "17/17 [==============================] - 0s 4ms/step - loss: 1.0816 - accuracy: 0.6647 - val_loss: 0.6072 - val_accuracy: 0.6389\n",
            "Epoch 40/50\n",
            "17/17 [==============================] - 0s 4ms/step - loss: 1.0798 - accuracy: 0.6647 - val_loss: 0.6082 - val_accuracy: 0.6389\n",
            "Epoch 41/50\n",
            "17/17 [==============================] - 0s 4ms/step - loss: 1.0790 - accuracy: 0.6647 - val_loss: 0.6116 - val_accuracy: 0.6389\n",
            "Epoch 42/50\n",
            "17/17 [==============================] - 0s 5ms/step - loss: 1.0773 - accuracy: 0.6647 - val_loss: 0.6125 - val_accuracy: 0.6389\n",
            "Epoch 43/50\n",
            "17/17 [==============================] - 0s 4ms/step - loss: 1.0762 - accuracy: 0.6647 - val_loss: 0.6132 - val_accuracy: 0.6389\n",
            "Epoch 44/50\n",
            "17/17 [==============================] - 0s 4ms/step - loss: 1.0748 - accuracy: 0.6647 - val_loss: 0.6113 - val_accuracy: 0.6528\n",
            "Epoch 45/50\n",
            "17/17 [==============================] - 0s 4ms/step - loss: 1.0730 - accuracy: 0.6707 - val_loss: 0.6093 - val_accuracy: 0.6528\n",
            "Epoch 46/50\n",
            "17/17 [==============================] - 0s 4ms/step - loss: 1.0720 - accuracy: 0.6707 - val_loss: 0.6101 - val_accuracy: 0.6528\n",
            "Epoch 47/50\n",
            "17/17 [==============================] - 0s 4ms/step - loss: 1.0706 - accuracy: 0.6707 - val_loss: 0.6092 - val_accuracy: 0.6528\n",
            "Epoch 48/50\n",
            "17/17 [==============================] - 0s 4ms/step - loss: 1.0694 - accuracy: 0.6707 - val_loss: 0.6113 - val_accuracy: 0.6528\n",
            "Epoch 49/50\n",
            "17/17 [==============================] - 0s 4ms/step - loss: 1.0685 - accuracy: 0.6647 - val_loss: 0.6087 - val_accuracy: 0.6528\n",
            "Epoch 50/50\n",
            "17/17 [==============================] - 0s 4ms/step - loss: 1.0670 - accuracy: 0.6707 - val_loss: 0.6105 - val_accuracy: 0.6528\n"
          ]
        }
      ]
    },
    {
      "cell_type": "code",
      "source": [
        "accuracy=history.history['accuracy']\n",
        "validation_accuracy=history.history['val_accuracy']\n",
        "\n",
        "plt.plot(accuracy,label='Training Set Accuracy')\n",
        "plt.plot(validation_accuracy,label='Validation Set Accuracy')\n",
        "plt.ylabel('Accuracy')\n",
        "plt.ylim([min(plt.ylim()),1])\n",
        "plt.title('Trainin and validation Accuracy Acros Epochs')\n",
        "plt.legend()"
      ],
      "metadata": {
        "colab": {
          "base_uri": "https://localhost:8080/",
          "height": 298
        },
        "id": "yMPNH3H2IPlJ",
        "outputId": "6a096d4b-0dd6-41f7-8c18-b95afcabadcc"
      },
      "execution_count": 286,
      "outputs": [
        {
          "output_type": "execute_result",
          "data": {
            "text/plain": [
              "<matplotlib.legend.Legend at 0x7ff5c6e03490>"
            ]
          },
          "metadata": {},
          "execution_count": 286
        },
        {
          "output_type": "display_data",
          "data": {
            "text/plain": [
              "<Figure size 432x288 with 1 Axes>"
            ],
            "image/png": "[encoded data removed]"
          },
          "metadata": {
            "needs_background": "light"
          }
        }
      ]
    },
    {
      "cell_type": "code",
      "source": [
        "history = model.fit(X_train, y_train,validation_data = (X_test,y_test), epochs=150, batch_size=10)"
      ],
      "metadata": {
        "colab": {
          "base_uri": "https://localhost:8080/"
        },
        "id": "CsAhu7C-DyBi",
        "outputId": "8d197a3f-0106-4944-c2c5-4e8062dab73f"
      },
      "execution_count": 27,
      "outputs": [
        {
          "output_type": "stream",
          "name": "stdout",
          "text": [
            "Epoch 1/150\n",
            "21/21 [==============================] - 0s 11ms/step - loss: 0.6754 - accuracy: 0.6699 - val_loss: 0.6527 - val_accuracy: 0.6778\n",
            "Epoch 2/150\n",
            "21/21 [==============================] - 0s 10ms/step - loss: 0.6486 - accuracy: 0.6842 - val_loss: 0.6313 - val_accuracy: 0.6889\n",
            "Epoch 3/150\n",
            "21/21 [==============================] - 0s 10ms/step - loss: 0.6210 - accuracy: 0.6890 - val_loss: 0.6115 - val_accuracy: 0.7000\n",
            "Epoch 4/150\n",
            "21/21 [==============================] - 0s 7ms/step - loss: 0.5960 - accuracy: 0.6890 - val_loss: 0.5954 - val_accuracy: 0.7000\n",
            "Epoch 5/150\n",
            "21/21 [==============================] - 0s 6ms/step - loss: 0.5756 - accuracy: 0.6890 - val_loss: 0.5812 - val_accuracy: 0.7111\n",
            "Epoch 6/150\n",
            "21/21 [==============================] - 0s 9ms/step - loss: 0.5578 - accuracy: 0.6986 - val_loss: 0.5694 - val_accuracy: 0.7111\n",
            "Epoch 7/150\n",
            "21/21 [==============================] - 0s 9ms/step - loss: 0.5425 - accuracy: 0.7177 - val_loss: 0.5593 - val_accuracy: 0.7333\n",
            "Epoch 8/150\n",
            "21/21 [==============================] - 0s 11ms/step - loss: 0.5294 - accuracy: 0.7273 - val_loss: 0.5507 - val_accuracy: 0.7333\n",
            "Epoch 9/150\n",
            "21/21 [==============================] - 0s 9ms/step - loss: 0.5180 - accuracy: 0.7321 - val_loss: 0.5431 - val_accuracy: 0.7333\n",
            "Epoch 10/150\n",
            "21/21 [==============================] - 0s 8ms/step - loss: 0.5081 - accuracy: 0.7512 - val_loss: 0.5368 - val_accuracy: 0.7111\n",
            "Epoch 11/150\n",
            "21/21 [==============================] - 0s 8ms/step - loss: 0.4998 - accuracy: 0.7512 - val_loss: 0.5314 - val_accuracy: 0.7556\n",
            "Epoch 12/150\n",
            "21/21 [==============================] - 0s 9ms/step - loss: 0.4923 - accuracy: 0.7895 - val_loss: 0.5271 - val_accuracy: 0.7667\n",
            "Epoch 13/150\n",
            "21/21 [==============================] - 0s 13ms/step - loss: 0.4859 - accuracy: 0.7990 - val_loss: 0.5228 - val_accuracy: 0.7667\n",
            "Epoch 14/150\n",
            "21/21 [==============================] - 0s 6ms/step - loss: 0.4801 - accuracy: 0.7990 - val_loss: 0.5194 - val_accuracy: 0.7778\n",
            "Epoch 15/150\n",
            "21/21 [==============================] - 0s 4ms/step - loss: 0.4753 - accuracy: 0.8038 - val_loss: 0.5160 - val_accuracy: 0.7667\n",
            "Epoch 16/150\n",
            "21/21 [==============================] - 0s 4ms/step - loss: 0.4707 - accuracy: 0.8182 - val_loss: 0.5132 - val_accuracy: 0.7778\n",
            "Epoch 17/150\n",
            "21/21 [==============================] - 0s 4ms/step - loss: 0.4668 - accuracy: 0.8230 - val_loss: 0.5111 - val_accuracy: 0.7778\n",
            "Epoch 18/150\n",
            "21/21 [==============================] - 0s 4ms/step - loss: 0.4636 - accuracy: 0.8278 - val_loss: 0.5091 - val_accuracy: 0.7778\n",
            "Epoch 19/150\n",
            "21/21 [==============================] - 0s 5ms/step - loss: 0.4602 - accuracy: 0.8325 - val_loss: 0.5074 - val_accuracy: 0.7889\n",
            "Epoch 20/150\n",
            "21/21 [==============================] - 0s 4ms/step - loss: 0.4578 - accuracy: 0.8373 - val_loss: 0.5054 - val_accuracy: 0.7889\n",
            "Epoch 21/150\n",
            "21/21 [==============================] - 0s 5ms/step - loss: 0.4547 - accuracy: 0.8373 - val_loss: 0.5044 - val_accuracy: 0.7889\n",
            "Epoch 22/150\n",
            "21/21 [==============================] - 0s 6ms/step - loss: 0.4526 - accuracy: 0.8278 - val_loss: 0.5033 - val_accuracy: 0.7889\n",
            "Epoch 23/150\n",
            "21/21 [==============================] - 0s 4ms/step - loss: 0.4508 - accuracy: 0.8230 - val_loss: 0.5021 - val_accuracy: 0.8000\n",
            "Epoch 24/150\n",
            "21/21 [==============================] - 0s 4ms/step - loss: 0.4489 - accuracy: 0.8278 - val_loss: 0.5010 - val_accuracy: 0.7889\n",
            "Epoch 25/150\n",
            "21/21 [==============================] - 0s 4ms/step - loss: 0.4469 - accuracy: 0.8278 - val_loss: 0.5003 - val_accuracy: 0.7889\n",
            "Epoch 26/150\n",
            "21/21 [==============================] - 0s 4ms/step - loss: 0.4456 - accuracy: 0.8373 - val_loss: 0.4996 - val_accuracy: 0.7889\n",
            "Epoch 27/150\n",
            "21/21 [==============================] - 0s 4ms/step - loss: 0.4439 - accuracy: 0.8373 - val_loss: 0.4989 - val_accuracy: 0.7889\n",
            "Epoch 28/150\n",
            "21/21 [==============================] - 0s 5ms/step - loss: 0.4428 - accuracy: 0.8421 - val_loss: 0.4980 - val_accuracy: 0.7889\n",
            "Epoch 29/150\n",
            "21/21 [==============================] - 0s 4ms/step - loss: 0.4413 - accuracy: 0.8421 - val_loss: 0.4976 - val_accuracy: 0.7889\n",
            "Epoch 30/150\n",
            "21/21 [==============================] - 0s 4ms/step - loss: 0.4402 - accuracy: 0.8421 - val_loss: 0.4972 - val_accuracy: 0.7889\n",
            "Epoch 31/150\n",
            "21/21 [==============================] - 0s 4ms/step - loss: 0.4392 - accuracy: 0.8421 - val_loss: 0.4966 - val_accuracy: 0.7889\n",
            "Epoch 32/150\n",
            "21/21 [==============================] - 0s 5ms/step - loss: 0.4381 - accuracy: 0.8421 - val_loss: 0.4964 - val_accuracy: 0.7778\n",
            "Epoch 33/150\n",
            "21/21 [==============================] - 0s 4ms/step - loss: 0.4372 - accuracy: 0.8421 - val_loss: 0.4961 - val_accuracy: 0.7778\n",
            "Epoch 34/150\n",
            "21/21 [==============================] - 0s 4ms/step - loss: 0.4363 - accuracy: 0.8373 - val_loss: 0.4959 - val_accuracy: 0.7889\n",
            "Epoch 35/150\n",
            "21/21 [==============================] - 0s 5ms/step - loss: 0.4356 - accuracy: 0.8373 - val_loss: 0.4954 - val_accuracy: 0.7889\n",
            "Epoch 36/150\n",
            "21/21 [==============================] - 0s 4ms/step - loss: 0.4347 - accuracy: 0.8373 - val_loss: 0.4953 - val_accuracy: 0.7889\n",
            "Epoch 37/150\n",
            "21/21 [==============================] - 0s 4ms/step - loss: 0.4339 - accuracy: 0.8373 - val_loss: 0.4949 - val_accuracy: 0.7889\n",
            "Epoch 38/150\n",
            "21/21 [==============================] - 0s 4ms/step - loss: 0.4334 - accuracy: 0.8373 - val_loss: 0.4949 - val_accuracy: 0.7778\n",
            "Epoch 39/150\n",
            "21/21 [==============================] - 0s 4ms/step - loss: 0.4329 - accuracy: 0.8373 - val_loss: 0.4945 - val_accuracy: 0.7778\n",
            "Epoch 40/150\n",
            "21/21 [==============================] - 0s 4ms/step - loss: 0.4321 - accuracy: 0.8373 - val_loss: 0.4944 - val_accuracy: 0.7778\n",
            "Epoch 41/150\n",
            "21/21 [==============================] - 0s 4ms/step - loss: 0.4315 - accuracy: 0.8373 - val_loss: 0.4945 - val_accuracy: 0.7778\n",
            "Epoch 42/150\n",
            "21/21 [==============================] - 0s 4ms/step - loss: 0.4312 - accuracy: 0.8373 - val_loss: 0.4942 - val_accuracy: 0.7778\n",
            "Epoch 43/150\n",
            "21/21 [==============================] - 0s 6ms/step - loss: 0.4306 - accuracy: 0.8373 - val_loss: 0.4943 - val_accuracy: 0.7778\n",
            "Epoch 44/150\n",
            "21/21 [==============================] - 0s 4ms/step - loss: 0.4299 - accuracy: 0.8421 - val_loss: 0.4942 - val_accuracy: 0.7778\n",
            "Epoch 45/150\n",
            "21/21 [==============================] - 0s 4ms/step - loss: 0.4295 - accuracy: 0.8421 - val_loss: 0.4942 - val_accuracy: 0.7778\n",
            "Epoch 46/150\n",
            "21/21 [==============================] - 0s 4ms/step - loss: 0.4291 - accuracy: 0.8421 - val_loss: 0.4940 - val_accuracy: 0.7778\n",
            "Epoch 47/150\n",
            "21/21 [==============================] - 0s 4ms/step - loss: 0.4288 - accuracy: 0.8421 - val_loss: 0.4942 - val_accuracy: 0.7778\n",
            "Epoch 48/150\n",
            "21/21 [==============================] - 0s 4ms/step - loss: 0.4283 - accuracy: 0.8421 - val_loss: 0.4940 - val_accuracy: 0.7778\n",
            "Epoch 49/150\n",
            "21/21 [==============================] - 0s 4ms/step - loss: 0.4280 - accuracy: 0.8421 - val_loss: 0.4939 - val_accuracy: 0.7889\n",
            "Epoch 50/150\n",
            "21/21 [==============================] - 0s 4ms/step - loss: 0.4276 - accuracy: 0.8421 - val_loss: 0.4937 - val_accuracy: 0.7778\n",
            "Epoch 51/150\n",
            "21/21 [==============================] - 0s 4ms/step - loss: 0.4271 - accuracy: 0.8421 - val_loss: 0.4938 - val_accuracy: 0.7889\n",
            "Epoch 52/150\n",
            "21/21 [==============================] - 0s 4ms/step - loss: 0.4269 - accuracy: 0.8421 - val_loss: 0.4938 - val_accuracy: 0.7889\n",
            "Epoch 53/150\n",
            "21/21 [==============================] - 0s 5ms/step - loss: 0.4266 - accuracy: 0.8421 - val_loss: 0.4937 - val_accuracy: 0.7889\n",
            "Epoch 54/150\n",
            "21/21 [==============================] - 0s 4ms/step - loss: 0.4263 - accuracy: 0.8421 - val_loss: 0.4938 - val_accuracy: 0.7889\n",
            "Epoch 55/150\n",
            "21/21 [==============================] - 0s 5ms/step - loss: 0.4260 - accuracy: 0.8421 - val_loss: 0.4938 - val_accuracy: 0.7889\n",
            "Epoch 56/150\n",
            "21/21 [==============================] - 0s 4ms/step - loss: 0.4257 - accuracy: 0.8421 - val_loss: 0.4938 - val_accuracy: 0.7889\n",
            "Epoch 57/150\n",
            "21/21 [==============================] - 0s 4ms/step - loss: 0.4255 - accuracy: 0.8421 - val_loss: 0.4935 - val_accuracy: 0.7889\n",
            "Epoch 58/150\n",
            "21/21 [==============================] - 0s 4ms/step - loss: 0.4252 - accuracy: 0.8421 - val_loss: 0.4938 - val_accuracy: 0.7889\n",
            "Epoch 59/150\n",
            "21/21 [==============================] - 0s 5ms/step - loss: 0.4248 - accuracy: 0.8421 - val_loss: 0.4935 - val_accuracy: 0.7889\n",
            "Epoch 60/150\n",
            "21/21 [==============================] - 0s 5ms/step - loss: 0.4246 - accuracy: 0.8421 - val_loss: 0.4934 - val_accuracy: 0.7889\n",
            "Epoch 61/150\n",
            "21/21 [==============================] - 0s 4ms/step - loss: 0.4247 - accuracy: 0.8421 - val_loss: 0.4938 - val_accuracy: 0.7889\n",
            "Epoch 62/150\n",
            "21/21 [==============================] - 0s 4ms/step - loss: 0.4244 - accuracy: 0.8421 - val_loss: 0.4940 - val_accuracy: 0.7889\n",
            "Epoch 63/150\n",
            "21/21 [==============================] - 0s 5ms/step - loss: 0.4239 - accuracy: 0.8421 - val_loss: 0.4937 - val_accuracy: 0.7889\n",
            "Epoch 64/150\n",
            "21/21 [==============================] - 0s 4ms/step - loss: 0.4237 - accuracy: 0.8421 - val_loss: 0.4936 - val_accuracy: 0.7889\n",
            "Epoch 65/150\n",
            "21/21 [==============================] - 0s 5ms/step - loss: 0.4233 - accuracy: 0.8421 - val_loss: 0.4935 - val_accuracy: 0.7889\n",
            "Epoch 66/150\n",
            "21/21 [==============================] - 0s 4ms/step - loss: 0.4232 - accuracy: 0.8421 - val_loss: 0.4940 - val_accuracy: 0.7889\n",
            "Epoch 67/150\n",
            "21/21 [==============================] - 0s 4ms/step - loss: 0.4238 - accuracy: 0.8421 - val_loss: 0.4932 - val_accuracy: 0.8000\n",
            "Epoch 68/150\n",
            "21/21 [==============================] - 0s 4ms/step - loss: 0.4228 - accuracy: 0.8421 - val_loss: 0.4937 - val_accuracy: 0.7889\n",
            "Epoch 69/150\n",
            "21/21 [==============================] - 0s 4ms/step - loss: 0.4227 - accuracy: 0.8421 - val_loss: 0.4938 - val_accuracy: 0.7889\n",
            "Epoch 70/150\n",
            "21/21 [==============================] - 0s 4ms/step - loss: 0.4223 - accuracy: 0.8469 - val_loss: 0.4937 - val_accuracy: 0.7889\n",
            "Epoch 71/150\n",
            "21/21 [==============================] - 0s 5ms/step - loss: 0.4223 - accuracy: 0.8421 - val_loss: 0.4936 - val_accuracy: 0.8000\n",
            "Epoch 72/150\n",
            "21/21 [==============================] - 0s 4ms/step - loss: 0.4221 - accuracy: 0.8469 - val_loss: 0.4938 - val_accuracy: 0.7889\n",
            "Epoch 73/150\n",
            "21/21 [==============================] - 0s 6ms/step - loss: 0.4219 - accuracy: 0.8469 - val_loss: 0.4937 - val_accuracy: 0.8000\n",
            "Epoch 74/150\n",
            "21/21 [==============================] - 0s 4ms/step - loss: 0.4216 - accuracy: 0.8469 - val_loss: 0.4942 - val_accuracy: 0.7889\n",
            "Epoch 75/150\n",
            "21/21 [==============================] - 0s 4ms/step - loss: 0.4215 - accuracy: 0.8469 - val_loss: 0.4938 - val_accuracy: 0.8000\n",
            "Epoch 76/150\n",
            "21/21 [==============================] - 0s 4ms/step - loss: 0.4213 - accuracy: 0.8469 - val_loss: 0.4939 - val_accuracy: 0.7889\n",
            "Epoch 77/150\n",
            "21/21 [==============================] - 0s 4ms/step - loss: 0.4211 - accuracy: 0.8469 - val_loss: 0.4943 - val_accuracy: 0.7889\n",
            "Epoch 78/150\n",
            "21/21 [==============================] - 0s 4ms/step - loss: 0.4209 - accuracy: 0.8469 - val_loss: 0.4939 - val_accuracy: 0.7889\n",
            "Epoch 79/150\n",
            "21/21 [==============================] - 0s 4ms/step - loss: 0.4208 - accuracy: 0.8469 - val_loss: 0.4938 - val_accuracy: 0.8000\n",
            "Epoch 80/150\n",
            "21/21 [==============================] - 0s 4ms/step - loss: 0.4206 - accuracy: 0.8469 - val_loss: 0.4938 - val_accuracy: 0.8000\n",
            "Epoch 81/150\n",
            "21/21 [==============================] - 0s 4ms/step - loss: 0.4205 - accuracy: 0.8469 - val_loss: 0.4942 - val_accuracy: 0.8000\n",
            "Epoch 82/150\n",
            "21/21 [==============================] - 0s 4ms/step - loss: 0.4202 - accuracy: 0.8469 - val_loss: 0.4942 - val_accuracy: 0.7889\n",
            "Epoch 83/150\n",
            "21/21 [==============================] - 0s 4ms/step - loss: 0.4201 - accuracy: 0.8469 - val_loss: 0.4945 - val_accuracy: 0.7889\n",
            "Epoch 84/150\n",
            "21/21 [==============================] - 0s 5ms/step - loss: 0.4201 - accuracy: 0.8421 - val_loss: 0.4940 - val_accuracy: 0.7889\n",
            "Epoch 85/150\n",
            "21/21 [==============================] - 0s 4ms/step - loss: 0.4198 - accuracy: 0.8469 - val_loss: 0.4941 - val_accuracy: 0.8000\n",
            "Epoch 86/150\n",
            "21/21 [==============================] - 0s 4ms/step - loss: 0.4198 - accuracy: 0.8469 - val_loss: 0.4940 - val_accuracy: 0.8000\n",
            "Epoch 87/150\n",
            "21/21 [==============================] - 0s 4ms/step - loss: 0.4194 - accuracy: 0.8469 - val_loss: 0.4944 - val_accuracy: 0.8000\n",
            "Epoch 88/150\n",
            "21/21 [==============================] - 0s 4ms/step - loss: 0.4192 - accuracy: 0.8517 - val_loss: 0.4944 - val_accuracy: 0.8000\n",
            "Epoch 89/150\n",
            "21/21 [==============================] - 0s 4ms/step - loss: 0.4191 - accuracy: 0.8517 - val_loss: 0.4942 - val_accuracy: 0.8000\n",
            "Epoch 90/150\n",
            "21/21 [==============================] - 0s 4ms/step - loss: 0.4190 - accuracy: 0.8517 - val_loss: 0.4944 - val_accuracy: 0.7889\n",
            "Epoch 91/150\n",
            "21/21 [==============================] - 0s 4ms/step - loss: 0.4194 - accuracy: 0.8469 - val_loss: 0.4938 - val_accuracy: 0.8000\n",
            "Epoch 92/150\n",
            "21/21 [==============================] - 0s 4ms/step - loss: 0.4186 - accuracy: 0.8469 - val_loss: 0.4945 - val_accuracy: 0.8000\n",
            "Epoch 93/150\n",
            "21/21 [==============================] - 0s 4ms/step - loss: 0.4190 - accuracy: 0.8469 - val_loss: 0.4947 - val_accuracy: 0.7889\n",
            "Epoch 94/150\n",
            "21/21 [==============================] - 0s 4ms/step - loss: 0.4184 - accuracy: 0.8517 - val_loss: 0.4945 - val_accuracy: 0.8000\n",
            "Epoch 95/150\n",
            "21/21 [==============================] - 0s 4ms/step - loss: 0.4183 - accuracy: 0.8517 - val_loss: 0.4949 - val_accuracy: 0.8000\n",
            "Epoch 96/150\n",
            "21/21 [==============================] - 0s 4ms/step - loss: 0.4180 - accuracy: 0.8517 - val_loss: 0.4948 - val_accuracy: 0.8000\n",
            "Epoch 97/150\n",
            "21/21 [==============================] - 0s 4ms/step - loss: 0.4182 - accuracy: 0.8517 - val_loss: 0.4945 - val_accuracy: 0.8000\n",
            "Epoch 98/150\n",
            "21/21 [==============================] - 0s 4ms/step - loss: 0.4181 - accuracy: 0.8469 - val_loss: 0.4946 - val_accuracy: 0.8000\n",
            "Epoch 99/150\n",
            "21/21 [==============================] - 0s 4ms/step - loss: 0.4180 - accuracy: 0.8469 - val_loss: 0.4950 - val_accuracy: 0.7889\n",
            "Epoch 100/150\n",
            "21/21 [==============================] - 0s 4ms/step - loss: 0.4177 - accuracy: 0.8517 - val_loss: 0.4945 - val_accuracy: 0.8000\n",
            "Epoch 101/150\n",
            "21/21 [==============================] - 0s 4ms/step - loss: 0.4175 - accuracy: 0.8469 - val_loss: 0.4946 - val_accuracy: 0.8000\n",
            "Epoch 102/150\n",
            "21/21 [==============================] - 0s 4ms/step - loss: 0.4173 - accuracy: 0.8469 - val_loss: 0.4945 - val_accuracy: 0.8000\n",
            "Epoch 103/150\n",
            "21/21 [==============================] - 0s 4ms/step - loss: 0.4173 - accuracy: 0.8469 - val_loss: 0.4946 - val_accuracy: 0.8000\n",
            "Epoch 104/150\n",
            "21/21 [==============================] - 0s 4ms/step - loss: 0.4171 - accuracy: 0.8517 - val_loss: 0.4949 - val_accuracy: 0.8000\n",
            "Epoch 105/150\n",
            "21/21 [==============================] - 0s 5ms/step - loss: 0.4170 - accuracy: 0.8517 - val_loss: 0.4948 - val_accuracy: 0.8000\n",
            "Epoch 106/150\n",
            "21/21 [==============================] - 0s 5ms/step - loss: 0.4168 - accuracy: 0.8469 - val_loss: 0.4947 - val_accuracy: 0.8000\n",
            "Epoch 107/150\n",
            "21/21 [==============================] - 0s 4ms/step - loss: 0.4170 - accuracy: 0.8469 - val_loss: 0.4944 - val_accuracy: 0.8000\n",
            "Epoch 108/150\n",
            "21/21 [==============================] - 0s 4ms/step - loss: 0.4170 - accuracy: 0.8469 - val_loss: 0.4954 - val_accuracy: 0.8000\n",
            "Epoch 109/150\n",
            "21/21 [==============================] - 0s 4ms/step - loss: 0.4169 - accuracy: 0.8469 - val_loss: 0.4948 - val_accuracy: 0.8000\n",
            "Epoch 110/150\n",
            "21/21 [==============================] - 0s 4ms/step - loss: 0.4167 - accuracy: 0.8469 - val_loss: 0.4947 - val_accuracy: 0.8000\n",
            "Epoch 111/150\n",
            "21/21 [==============================] - 0s 4ms/step - loss: 0.4166 - accuracy: 0.8469 - val_loss: 0.4953 - val_accuracy: 0.7889\n",
            "Epoch 112/150\n",
            "21/21 [==============================] - 0s 4ms/step - loss: 0.4163 - accuracy: 0.8469 - val_loss: 0.4946 - val_accuracy: 0.8000\n",
            "Epoch 113/150\n",
            "21/21 [==============================] - 0s 4ms/step - loss: 0.4162 - accuracy: 0.8469 - val_loss: 0.4949 - val_accuracy: 0.8000\n",
            "Epoch 114/150\n",
            "21/21 [==============================] - 0s 4ms/step - loss: 0.4164 - accuracy: 0.8469 - val_loss: 0.4953 - val_accuracy: 0.7889\n",
            "Epoch 115/150\n",
            "21/21 [==============================] - 0s 4ms/step - loss: 0.4164 - accuracy: 0.8469 - val_loss: 0.4945 - val_accuracy: 0.8000\n",
            "Epoch 116/150\n",
            "21/21 [==============================] - 0s 6ms/step - loss: 0.4160 - accuracy: 0.8469 - val_loss: 0.4947 - val_accuracy: 0.8000\n",
            "Epoch 117/150\n",
            "21/21 [==============================] - 0s 4ms/step - loss: 0.4163 - accuracy: 0.8469 - val_loss: 0.4945 - val_accuracy: 0.8000\n",
            "Epoch 118/150\n",
            "21/21 [==============================] - 0s 4ms/step - loss: 0.4156 - accuracy: 0.8469 - val_loss: 0.4948 - val_accuracy: 0.8000\n",
            "Epoch 119/150\n",
            "21/21 [==============================] - 0s 4ms/step - loss: 0.4156 - accuracy: 0.8469 - val_loss: 0.4950 - val_accuracy: 0.8000\n",
            "Epoch 120/150\n",
            "21/21 [==============================] - 0s 4ms/step - loss: 0.4156 - accuracy: 0.8469 - val_loss: 0.4951 - val_accuracy: 0.8000\n",
            "Epoch 121/150\n",
            "21/21 [==============================] - 0s 4ms/step - loss: 0.4154 - accuracy: 0.8469 - val_loss: 0.4951 - val_accuracy: 0.8000\n",
            "Epoch 122/150\n",
            "21/21 [==============================] - 0s 4ms/step - loss: 0.4153 - accuracy: 0.8469 - val_loss: 0.4953 - val_accuracy: 0.8000\n",
            "Epoch 123/150\n",
            "21/21 [==============================] - 0s 4ms/step - loss: 0.4154 - accuracy: 0.8469 - val_loss: 0.4947 - val_accuracy: 0.8000\n",
            "Epoch 124/150\n",
            "21/21 [==============================] - 0s 4ms/step - loss: 0.4152 - accuracy: 0.8469 - val_loss: 0.4948 - val_accuracy: 0.8000\n",
            "Epoch 125/150\n",
            "21/21 [==============================] - 0s 4ms/step - loss: 0.4152 - accuracy: 0.8469 - val_loss: 0.4950 - val_accuracy: 0.8000\n",
            "Epoch 126/150\n",
            "21/21 [==============================] - 0s 4ms/step - loss: 0.4153 - accuracy: 0.8469 - val_loss: 0.4947 - val_accuracy: 0.8000\n",
            "Epoch 127/150\n",
            "21/21 [==============================] - 0s 5ms/step - loss: 0.4151 - accuracy: 0.8469 - val_loss: 0.4950 - val_accuracy: 0.8000\n",
            "Epoch 128/150\n",
            "21/21 [==============================] - 0s 4ms/step - loss: 0.4148 - accuracy: 0.8469 - val_loss: 0.4946 - val_accuracy: 0.8000\n",
            "Epoch 129/150\n",
            "21/21 [==============================] - 0s 3ms/step - loss: 0.4150 - accuracy: 0.8469 - val_loss: 0.4946 - val_accuracy: 0.8000\n",
            "Epoch 130/150\n",
            "21/21 [==============================] - 0s 4ms/step - loss: 0.4147 - accuracy: 0.8469 - val_loss: 0.4946 - val_accuracy: 0.8000\n",
            "Epoch 131/150\n",
            "21/21 [==============================] - 0s 4ms/step - loss: 0.4146 - accuracy: 0.8469 - val_loss: 0.4948 - val_accuracy: 0.8000\n",
            "Epoch 132/150\n",
            "21/21 [==============================] - 0s 4ms/step - loss: 0.4145 - accuracy: 0.8469 - val_loss: 0.4948 - val_accuracy: 0.8000\n",
            "Epoch 133/150\n",
            "21/21 [==============================] - 0s 4ms/step - loss: 0.4143 - accuracy: 0.8469 - val_loss: 0.4946 - val_accuracy: 0.8000\n",
            "Epoch 134/150\n",
            "21/21 [==============================] - 0s 4ms/step - loss: 0.4142 - accuracy: 0.8469 - val_loss: 0.4946 - val_accuracy: 0.8000\n",
            "Epoch 135/150\n",
            "21/21 [==============================] - 0s 5ms/step - loss: 0.4143 - accuracy: 0.8469 - val_loss: 0.4952 - val_accuracy: 0.7889\n",
            "Epoch 136/150\n",
            "21/21 [==============================] - 0s 4ms/step - loss: 0.4142 - accuracy: 0.8469 - val_loss: 0.4943 - val_accuracy: 0.8000\n",
            "Epoch 137/150\n",
            "21/21 [==============================] - 0s 4ms/step - loss: 0.4140 - accuracy: 0.8469 - val_loss: 0.4946 - val_accuracy: 0.8000\n",
            "Epoch 138/150\n",
            "21/21 [==============================] - 0s 4ms/step - loss: 0.4140 - accuracy: 0.8469 - val_loss: 0.4946 - val_accuracy: 0.8000\n",
            "Epoch 139/150\n",
            "21/21 [==============================] - 0s 4ms/step - loss: 0.4138 - accuracy: 0.8469 - val_loss: 0.4946 - val_accuracy: 0.8000\n",
            "Epoch 140/150\n",
            "21/21 [==============================] - 0s 4ms/step - loss: 0.4137 - accuracy: 0.8469 - val_loss: 0.4944 - val_accuracy: 0.8000\n",
            "Epoch 141/150\n",
            "21/21 [==============================] - 0s 4ms/step - loss: 0.4136 - accuracy: 0.8469 - val_loss: 0.4942 - val_accuracy: 0.8111\n",
            "Epoch 142/150\n",
            "21/21 [==============================] - 0s 4ms/step - loss: 0.4136 - accuracy: 0.8469 - val_loss: 0.4944 - val_accuracy: 0.8000\n",
            "Epoch 143/150\n",
            "21/21 [==============================] - 0s 4ms/step - loss: 0.4135 - accuracy: 0.8469 - val_loss: 0.4941 - val_accuracy: 0.8111\n",
            "Epoch 144/150\n",
            "21/21 [==============================] - 0s 4ms/step - loss: 0.4134 - accuracy: 0.8469 - val_loss: 0.4941 - val_accuracy: 0.8111\n",
            "Epoch 145/150\n",
            "21/21 [==============================] - 0s 4ms/step - loss: 0.4132 - accuracy: 0.8469 - val_loss: 0.4944 - val_accuracy: 0.7889\n",
            "Epoch 146/150\n",
            "21/21 [==============================] - 0s 4ms/step - loss: 0.4131 - accuracy: 0.8469 - val_loss: 0.4945 - val_accuracy: 0.7889\n",
            "Epoch 147/150\n",
            "21/21 [==============================] - 0s 4ms/step - loss: 0.4131 - accuracy: 0.8469 - val_loss: 0.4940 - val_accuracy: 0.8111\n",
            "Epoch 148/150\n",
            "21/21 [==============================] - 0s 4ms/step - loss: 0.4135 - accuracy: 0.8469 - val_loss: 0.4945 - val_accuracy: 0.8000\n",
            "Epoch 149/150\n",
            "21/21 [==============================] - 0s 5ms/step - loss: 0.4129 - accuracy: 0.8469 - val_loss: 0.4942 - val_accuracy: 0.8111\n",
            "Epoch 150/150\n",
            "21/21 [==============================] - 0s 4ms/step - loss: 0.4132 - accuracy: 0.8469 - val_loss: 0.4940 - val_accuracy: 0.8111\n"
          ]
        }
      ]
    },
    {
      "cell_type": "code",
      "source": [],
      "metadata": {
        "id": "lOBP4qkDE4wk"
      },
      "execution_count": 27,
      "outputs": []
    },
    {
      "cell_type": "code",
      "source": [
        "from sklearn.metrics import accuracy_score\n",
        "a = accuracy_score(y_pred,y_test)\n",
        "print('Accuracy is:', a*100)"
      ],
      "metadata": {
        "colab": {
          "base_uri": "https://localhost:8080/"
        },
        "id": "YEHX0Iz9ESJ8",
        "outputId": "e05429b1-9f7c-4d76-8818-f479ca9f7f72"
      },
      "execution_count": 28,
      "outputs": [
        {
          "output_type": "stream",
          "name": "stdout",
          "text": [
            "Accuracy is: 55.55555555555556\n"
          ]
        }
      ]
    },
    {
      "cell_type": "code",
      "source": [
        "import matplotlib.pyplot as plt\n",
        "plt.plot(history.history['acc'])\n",
        "plt.plot(history.history['val_acc'])\n",
        "plt.title('Model accuracy')\n",
        "plt.ylabel('Accuracy')\n",
        "plt.xlabel('Epoch')\n",
        "plt.legend(['Train', 'Test'], loc='upper left')\n",
        "plt.show()"
      ],
      "metadata": {
        "colab": {
          "base_uri": "https://localhost:8080/",
          "height": 235
        },
        "id": "aF-lVG8Z-i28",
        "outputId": "2075609d-a35a-48be-e9ca-5c05c4bac65b"
      },
      "execution_count": 29,
      "outputs": [
        {
          "output_type": "error",
          "ename": "KeyError",
          "evalue": "ignored",
          "traceback": [
            "\u001b[0;31m---------------------------------------------------------------------------\u001b[0m",
            "\u001b[0;31mKeyError\u001b[0m                                  Traceback (most recent call last)",
            "\u001b[0;32m<ipython-input-29-534a50a6ca6c>\u001b[0m in \u001b[0;36m<module>\u001b[0;34m\u001b[0m\n\u001b[1;32m      1\u001b[0m \u001b[0;32mimport\u001b[0m \u001b[0mmatplotlib\u001b[0m\u001b[0;34m.\u001b[0m\u001b[0mpyplot\u001b[0m \u001b[0;32mas\u001b[0m \u001b[0mplt\u001b[0m\u001b[0;34m\u001b[0m\u001b[0;34m\u001b[0m\u001b[0m\n\u001b[0;32m----> 2\u001b[0;31m \u001b[0mplt\u001b[0m\u001b[0;34m.\u001b[0m\u001b[0mplot\u001b[0m\u001b[0;34m(\u001b[0m\u001b[0mhistory\u001b[0m\u001b[0;34m.\u001b[0m\u001b[0mhistory\u001b[0m\u001b[0;34m[\u001b[0m\u001b[0;34m'acc'\u001b[0m\u001b[0;34m]\u001b[0m\u001b[0;34m)\u001b[0m\u001b[0;34m\u001b[0m\u001b[0;34m\u001b[0m\u001b[0m\n\u001b[0m\u001b[1;32m      3\u001b[0m \u001b[0mplt\u001b[0m\u001b[0;34m.\u001b[0m\u001b[0mplot\u001b[0m\u001b[0;34m(\u001b[0m\u001b[0mhistory\u001b[0m\u001b[0;34m.\u001b[0m\u001b[0mhistory\u001b[0m\u001b[0;34m[\u001b[0m\u001b[0;34m'val_acc'\u001b[0m\u001b[0;34m]\u001b[0m\u001b[0;34m)\u001b[0m\u001b[0;34m\u001b[0m\u001b[0;34m\u001b[0m\u001b[0m\n\u001b[1;32m      4\u001b[0m \u001b[0mplt\u001b[0m\u001b[0;34m.\u001b[0m\u001b[0mtitle\u001b[0m\u001b[0;34m(\u001b[0m\u001b[0;34m'Model accuracy'\u001b[0m\u001b[0;34m)\u001b[0m\u001b[0;34m\u001b[0m\u001b[0;34m\u001b[0m\u001b[0m\n\u001b[1;32m      5\u001b[0m \u001b[0mplt\u001b[0m\u001b[0;34m.\u001b[0m\u001b[0mylabel\u001b[0m\u001b[0;34m(\u001b[0m\u001b[0;34m'Accuracy'\u001b[0m\u001b[0;34m)\u001b[0m\u001b[0;34m\u001b[0m\u001b[0;34m\u001b[0m\u001b[0m\n",
            "\u001b[0;31mKeyError\u001b[0m: 'acc'"
          ]
        }
      ]
    },
    {
      "cell_type": "code",
      "source": [
        "#3 Algorithm: Neural Networks\n",
        "nn = MLPClassifier(hidden_layer_sizes =(200, 200, 200), activation = 'relu', max_iter = 500)\n",
        "nn.fit(X_train, y_train)\n",
        "pred_nn = nn.predict(X_test)\n",
        "print(y_test)\n",
        "print(pred_nn)\n",
        "print(metrics.accuracy_score(y_test, pred_nn)*100)\n",
        "print(confusion_matrix(y_test, pred_nn))\n",
        "print(classification_report(y_test, pred_nn))"
      ],
      "metadata": {
        "id": "uI74M1XfIQ3B"
      },
      "execution_count": null,
      "outputs": []
    },
    {
      "cell_type": "code",
      "source": [],
      "metadata": {
        "id": "DlIyoE6aHGL-"
      },
      "execution_count": null,
      "outputs": []
    },
    {
      "cell_type": "code",
      "source": [],
      "metadata": {
        "id": "pEyOjHptHFrc"
      },
      "execution_count": null,
      "outputs": []
    }
  ]
}