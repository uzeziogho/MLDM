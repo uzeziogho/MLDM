{
  "nbformat": 4,
  "nbformat_minor": 0,
  "metadata": {
    "colab": {
      "provenance": [],
      "mount_file_id": "1He_dRdGmkVQOHFvG9gG-lY96k-LaGoFU",
      "authorship_tag": "ABX9TyO8dqjXmFCDdGu1ENocHOny",
      "include_colab_link": true
    },
    "kernelspec": {
      "name": "python3",
      "display_name": "Python 3"
    },
    "language_info": {
      "name": "python"
    }
  },
  "cells": [
    {
      "cell_type": "markdown",
      "metadata": {
        "id": "view-in-github",
        "colab_type": "text"
      },
      "source": [
        "<a href=\"https://colab.research.google.com/github/uzeziogho/MLDM/blob/main/Classifiers.ipynb\" target=\"_parent\"><img src=\"https://colab.research.google.com/assets/colab-badge.svg\" alt=\"Open In Colab\"/></a>"
      ]
    },
    {
      "cell_type": "code",
      "execution_count": null,
      "metadata": {
        "id": "zjxi_YULvNGv"
      },
      "outputs": [],
      "source": [
        "#Import libraries\n",
        "import pandas as pd\n",
        "import numpy as np\n",
        "import matplotlib.pyplot as plt\n",
        "from sklearn import preprocessing\n",
        "from sklearn.feature_selection import SelectKBest, f_regression\n",
        "from sklearn.model_selection import train_test_split\n",
        "from sklearn import metrics\n",
        "from sklearn.metrics import classification_report, confusion_matrix, accuracy_score, f1_score\n",
        "from sklearn.preprocessing import LabelEncoder\n",
        "from sklearn.preprocessing import StandardScaler\n",
        "from pylab import *"
      ]
    },
    {
      "cell_type": "code",
      "source": [
        "import seaborn as sns\n",
        "\n",
        "from collections import Counter"
      ],
      "metadata": {
        "id": "T6Fq9biYyo_M"
      },
      "execution_count": null,
      "outputs": []
    },
    {
      "cell_type": "code",
      "source": [
        "#Import dataset\n",
        "class1= pd.read_csv('/content/Maternal Health Risk Data Set.csv')\n",
        "class1.head()"
      ],
      "metadata": {
        "colab": {
          "base_uri": "https://localhost:8080/",
          "height": 206
        },
        "id": "O4kmV9Dc699d",
        "outputId": "4bc3845e-978a-4a9e-f831-652aa971b412"
      },
      "execution_count": null,
      "outputs": [
        {
          "output_type": "execute_result",
          "data": {
            "text/plain": [
              "   Age  SystolicBP  DiastolicBP    BS  BodyTemp  HeartRate  RiskLevel\n",
              "0   25         130           80  15.0      98.0         86  high risk\n",
              "1   35         140           90  13.0      98.0         70  high risk\n",
              "2   29          90           70   8.0     100.0         80  high risk\n",
              "3   30         140           85   7.0      98.0         70  high risk\n",
              "4   35         120           60   6.1      98.0         76   low risk"
            ],
            "text/html": [
              "\n",
              "  <div id=\"df-b890fe5e-65f3-4e64-aa26-9426da438cc0\">\n",
              "    <div class=\"colab-df-container\">\n",
              "      <div>\n",
              "<style scoped>\n",
              "    .dataframe tbody tr th:only-of-type {\n",
              "        vertical-align: middle;\n",
              "    }\n",
              "\n",
              "    .dataframe tbody tr th {\n",
              "        vertical-align: top;\n",
              "    }\n",
              "\n",
              "    .dataframe thead th {\n",
              "        text-align: right;\n",
              "    }\n",
              "</style>\n",
              "<table border=\"1\" class=\"dataframe\">\n",
              "  <thead>\n",
              "    <tr style=\"text-align: right;\">\n",
              "      <th></th>\n",
              "      <th>Age</th>\n",
              "      <th>SystolicBP</th>\n",
              "      <th>DiastolicBP</th>\n",
              "      <th>BS</th>\n",
              "      <th>BodyTemp</th>\n",
              "      <th>HeartRate</th>\n",
              "      <th>RiskLevel</th>\n",
              "    </tr>\n",
              "  </thead>\n",
              "  <tbody>\n",
              "    <tr>\n",
              "      <th>0</th>\n",
              "      <td>25</td>\n",
              "      <td>130</td>\n",
              "      <td>80</td>\n",
              "      <td>15.0</td>\n",
              "      <td>98.0</td>\n",
              "      <td>86</td>\n",
              "      <td>high risk</td>\n",
              "    </tr>\n",
              "    <tr>\n",
              "      <th>1</th>\n",
              "      <td>35</td>\n",
              "      <td>140</td>\n",
              "      <td>90</td>\n",
              "      <td>13.0</td>\n",
              "      <td>98.0</td>\n",
              "      <td>70</td>\n",
              "      <td>high risk</td>\n",
              "    </tr>\n",
              "    <tr>\n",
              "      <th>2</th>\n",
              "      <td>29</td>\n",
              "      <td>90</td>\n",
              "      <td>70</td>\n",
              "      <td>8.0</td>\n",
              "      <td>100.0</td>\n",
              "      <td>80</td>\n",
              "      <td>high risk</td>\n",
              "    </tr>\n",
              "    <tr>\n",
              "      <th>3</th>\n",
              "      <td>30</td>\n",
              "      <td>140</td>\n",
              "      <td>85</td>\n",
              "      <td>7.0</td>\n",
              "      <td>98.0</td>\n",
              "      <td>70</td>\n",
              "      <td>high risk</td>\n",
              "    </tr>\n",
              "    <tr>\n",
              "      <th>4</th>\n",
              "      <td>35</td>\n",
              "      <td>120</td>\n",
              "      <td>60</td>\n",
              "      <td>6.1</td>\n",
              "      <td>98.0</td>\n",
              "      <td>76</td>\n",
              "      <td>low risk</td>\n",
              "    </tr>\n",
              "  </tbody>\n",
              "</table>\n",
              "</div>\n",
              "      <button class=\"colab-df-convert\" onclick=\"convertToInteractive('df-b890fe5e-65f3-4e64-aa26-9426da438cc0')\"\n",
              "              title=\"Convert this dataframe to an interactive table.\"\n",
              "              style=\"display:none;\">\n",
              "        \n",
              "  <svg xmlns=\"http://www.w3.org/2000/svg\" height=\"24px\"viewBox=\"0 0 24 24\"\n",
              "       width=\"24px\">\n",
              "    <path d=\"M0 0h24v24H0V0z\" fill=\"none\"/>\n",
              "    <path d=\"M18.56 5.44l.94 2.06.94-2.06 2.06-.94-2.06-.94-.94-2.06-.94 2.06-2.06.94zm-11 1L8.5 8.5l.94-2.06 2.06-.94-2.06-.94L8.5 2.5l-.94 2.06-2.06.94zm10 10l.94 2.06.94-2.06 2.06-.94-2.06-.94-.94-2.06-.94 2.06-2.06.94z\"/><path d=\"M17.41 7.96l-1.37-1.37c-.4-.4-.92-.59-1.43-.59-.52 0-1.04.2-1.43.59L10.3 9.45l-7.72 7.72c-.78.78-.78 2.05 0 2.83L4 21.41c.39.39.9.59 1.41.59.51 0 1.02-.2 1.41-.59l7.78-7.78 2.81-2.81c.8-.78.8-2.07 0-2.86zM5.41 20L4 18.59l7.72-7.72 1.47 1.35L5.41 20z\"/>\n",
              "  </svg>\n",
              "      </button>\n",
              "      \n",
              "  <style>\n",
              "    .colab-df-container {\n",
              "      display:flex;\n",
              "      flex-wrap:wrap;\n",
              "      gap: 12px;\n",
              "    }\n",
              "\n",
              "    .colab-df-convert {\n",
              "      background-color: #E8F0FE;\n",
              "      border: none;\n",
              "      border-radius: 50%;\n",
              "      cursor: pointer;\n",
              "      display: none;\n",
              "      fill: #1967D2;\n",
              "      height: 32px;\n",
              "      padding: 0 0 0 0;\n",
              "      width: 32px;\n",
              "    }\n",
              "\n",
              "    .colab-df-convert:hover {\n",
              "      background-color: #E2EBFA;\n",
              "      box-shadow: 0px 1px 2px rgba(60, 64, 67, 0.3), 0px 1px 3px 1px rgba(60, 64, 67, 0.15);\n",
              "      fill: #174EA6;\n",
              "    }\n",
              "\n",
              "    [theme=dark] .colab-df-convert {\n",
              "      background-color: #3B4455;\n",
              "      fill: #D2E3FC;\n",
              "    }\n",
              "\n",
              "    [theme=dark] .colab-df-convert:hover {\n",
              "      background-color: #434B5C;\n",
              "      box-shadow: 0px 1px 3px 1px rgba(0, 0, 0, 0.15);\n",
              "      filter: drop-shadow(0px 1px 2px rgba(0, 0, 0, 0.3));\n",
              "      fill: #FFFFFF;\n",
              "    }\n",
              "  </style>\n",
              "\n",
              "      <script>\n",
              "        const buttonEl =\n",
              "          document.querySelector('#df-b890fe5e-65f3-4e64-aa26-9426da438cc0 button.colab-df-convert');\n",
              "        buttonEl.style.display =\n",
              "          google.colab.kernel.accessAllowed ? 'block' : 'none';\n",
              "\n",
              "        async function convertToInteractive(key) {\n",
              "          const element = document.querySelector('#df-b890fe5e-65f3-4e64-aa26-9426da438cc0');\n",
              "          const dataTable =\n",
              "            await google.colab.kernel.invokeFunction('convertToInteractive',\n",
              "                                                     [key], {});\n",
              "          if (!dataTable) return;\n",
              "\n",
              "          const docLinkHtml = 'Like what you see? Visit the ' +\n",
              "            '<a target=\"_blank\" href=https://colab.research.google.com/notebooks/data_table.ipynb>data table notebook</a>'\n",
              "            + ' to learn more about interactive tables.';\n",
              "          element.innerHTML = '';\n",
              "          dataTable['output_type'] = 'display_data';\n",
              "          await google.colab.output.renderOutput(dataTable, element);\n",
              "          const docLink = document.createElement('div');\n",
              "          docLink.innerHTML = docLinkHtml;\n",
              "          element.appendChild(docLink);\n",
              "        }\n",
              "      </script>\n",
              "    </div>\n",
              "  </div>\n",
              "  "
            ]
          },
          "metadata": {},
          "execution_count": 284
        }
      ]
    },
    {
      "cell_type": "code",
      "source": [
        "#Descriptive analysis of the dataset\n",
        "kf=class1.copy()\n",
        "class1.describe()"
      ],
      "metadata": {
        "colab": {
          "base_uri": "https://localhost:8080/",
          "height": 300
        },
        "id": "-L_069L97nAe",
        "outputId": "9796de34-c8ae-4cee-a5e4-6e9340642a2b"
      },
      "execution_count": null,
      "outputs": [
        {
          "output_type": "execute_result",
          "data": {
            "text/plain": [
              "               Age   SystolicBP  DiastolicBP           BS     BodyTemp  \\\n",
              "count  1014.000000  1014.000000  1014.000000  1014.000000  1014.000000   \n",
              "mean     29.871795   113.198225    76.460552     8.725986    98.665089   \n",
              "std      13.474386    18.403913    13.885796     3.293532     1.371384   \n",
              "min      10.000000    70.000000    49.000000     6.000000    98.000000   \n",
              "25%      19.000000   100.000000    65.000000     6.900000    98.000000   \n",
              "50%      26.000000   120.000000    80.000000     7.500000    98.000000   \n",
              "75%      39.000000   120.000000    90.000000     8.000000    98.000000   \n",
              "max      70.000000   160.000000   100.000000    19.000000   103.000000   \n",
              "\n",
              "         HeartRate  \n",
              "count  1014.000000  \n",
              "mean     74.301775  \n",
              "std       8.088702  \n",
              "min       7.000000  \n",
              "25%      70.000000  \n",
              "50%      76.000000  \n",
              "75%      80.000000  \n",
              "max      90.000000  "
            ],
            "text/html": [
              "\n",
              "  <div id=\"df-0b4d6848-10f7-40b8-8717-98fb8896f022\">\n",
              "    <div class=\"colab-df-container\">\n",
              "      <div>\n",
              "<style scoped>\n",
              "    .dataframe tbody tr th:only-of-type {\n",
              "        vertical-align: middle;\n",
              "    }\n",
              "\n",
              "    .dataframe tbody tr th {\n",
              "        vertical-align: top;\n",
              "    }\n",
              "\n",
              "    .dataframe thead th {\n",
              "        text-align: right;\n",
              "    }\n",
              "</style>\n",
              "<table border=\"1\" class=\"dataframe\">\n",
              "  <thead>\n",
              "    <tr style=\"text-align: right;\">\n",
              "      <th></th>\n",
              "      <th>Age</th>\n",
              "      <th>SystolicBP</th>\n",
              "      <th>DiastolicBP</th>\n",
              "      <th>BS</th>\n",
              "      <th>BodyTemp</th>\n",
              "      <th>HeartRate</th>\n",
              "    </tr>\n",
              "  </thead>\n",
              "  <tbody>\n",
              "    <tr>\n",
              "      <th>count</th>\n",
              "      <td>1014.000000</td>\n",
              "      <td>1014.000000</td>\n",
              "      <td>1014.000000</td>\n",
              "      <td>1014.000000</td>\n",
              "      <td>1014.000000</td>\n",
              "      <td>1014.000000</td>\n",
              "    </tr>\n",
              "    <tr>\n",
              "      <th>mean</th>\n",
              "      <td>29.871795</td>\n",
              "      <td>113.198225</td>\n",
              "      <td>76.460552</td>\n",
              "      <td>8.725986</td>\n",
              "      <td>98.665089</td>\n",
              "      <td>74.301775</td>\n",
              "    </tr>\n",
              "    <tr>\n",
              "      <th>std</th>\n",
              "      <td>13.474386</td>\n",
              "      <td>18.403913</td>\n",
              "      <td>13.885796</td>\n",
              "      <td>3.293532</td>\n",
              "      <td>1.371384</td>\n",
              "      <td>8.088702</td>\n",
              "    </tr>\n",
              "    <tr>\n",
              "      <th>min</th>\n",
              "      <td>10.000000</td>\n",
              "      <td>70.000000</td>\n",
              "      <td>49.000000</td>\n",
              "      <td>6.000000</td>\n",
              "      <td>98.000000</td>\n",
              "      <td>7.000000</td>\n",
              "    </tr>\n",
              "    <tr>\n",
              "      <th>25%</th>\n",
              "      <td>19.000000</td>\n",
              "      <td>100.000000</td>\n",
              "      <td>65.000000</td>\n",
              "      <td>6.900000</td>\n",
              "      <td>98.000000</td>\n",
              "      <td>70.000000</td>\n",
              "    </tr>\n",
              "    <tr>\n",
              "      <th>50%</th>\n",
              "      <td>26.000000</td>\n",
              "      <td>120.000000</td>\n",
              "      <td>80.000000</td>\n",
              "      <td>7.500000</td>\n",
              "      <td>98.000000</td>\n",
              "      <td>76.000000</td>\n",
              "    </tr>\n",
              "    <tr>\n",
              "      <th>75%</th>\n",
              "      <td>39.000000</td>\n",
              "      <td>120.000000</td>\n",
              "      <td>90.000000</td>\n",
              "      <td>8.000000</td>\n",
              "      <td>98.000000</td>\n",
              "      <td>80.000000</td>\n",
              "    </tr>\n",
              "    <tr>\n",
              "      <th>max</th>\n",
              "      <td>70.000000</td>\n",
              "      <td>160.000000</td>\n",
              "      <td>100.000000</td>\n",
              "      <td>19.000000</td>\n",
              "      <td>103.000000</td>\n",
              "      <td>90.000000</td>\n",
              "    </tr>\n",
              "  </tbody>\n",
              "</table>\n",
              "</div>\n",
              "      <button class=\"colab-df-convert\" onclick=\"convertToInteractive('df-0b4d6848-10f7-40b8-8717-98fb8896f022')\"\n",
              "              title=\"Convert this dataframe to an interactive table.\"\n",
              "              style=\"display:none;\">\n",
              "        \n",
              "  <svg xmlns=\"http://www.w3.org/2000/svg\" height=\"24px\"viewBox=\"0 0 24 24\"\n",
              "       width=\"24px\">\n",
              "    <path d=\"M0 0h24v24H0V0z\" fill=\"none\"/>\n",
              "    <path d=\"M18.56 5.44l.94 2.06.94-2.06 2.06-.94-2.06-.94-.94-2.06-.94 2.06-2.06.94zm-11 1L8.5 8.5l.94-2.06 2.06-.94-2.06-.94L8.5 2.5l-.94 2.06-2.06.94zm10 10l.94 2.06.94-2.06 2.06-.94-2.06-.94-.94-2.06-.94 2.06-2.06.94z\"/><path d=\"M17.41 7.96l-1.37-1.37c-.4-.4-.92-.59-1.43-.59-.52 0-1.04.2-1.43.59L10.3 9.45l-7.72 7.72c-.78.78-.78 2.05 0 2.83L4 21.41c.39.39.9.59 1.41.59.51 0 1.02-.2 1.41-.59l7.78-7.78 2.81-2.81c.8-.78.8-2.07 0-2.86zM5.41 20L4 18.59l7.72-7.72 1.47 1.35L5.41 20z\"/>\n",
              "  </svg>\n",
              "      </button>\n",
              "      \n",
              "  <style>\n",
              "    .colab-df-container {\n",
              "      display:flex;\n",
              "      flex-wrap:wrap;\n",
              "      gap: 12px;\n",
              "    }\n",
              "\n",
              "    .colab-df-convert {\n",
              "      background-color: #E8F0FE;\n",
              "      border: none;\n",
              "      border-radius: 50%;\n",
              "      cursor: pointer;\n",
              "      display: none;\n",
              "      fill: #1967D2;\n",
              "      height: 32px;\n",
              "      padding: 0 0 0 0;\n",
              "      width: 32px;\n",
              "    }\n",
              "\n",
              "    .colab-df-convert:hover {\n",
              "      background-color: #E2EBFA;\n",
              "      box-shadow: 0px 1px 2px rgba(60, 64, 67, 0.3), 0px 1px 3px 1px rgba(60, 64, 67, 0.15);\n",
              "      fill: #174EA6;\n",
              "    }\n",
              "\n",
              "    [theme=dark] .colab-df-convert {\n",
              "      background-color: #3B4455;\n",
              "      fill: #D2E3FC;\n",
              "    }\n",
              "\n",
              "    [theme=dark] .colab-df-convert:hover {\n",
              "      background-color: #434B5C;\n",
              "      box-shadow: 0px 1px 3px 1px rgba(0, 0, 0, 0.15);\n",
              "      filter: drop-shadow(0px 1px 2px rgba(0, 0, 0, 0.3));\n",
              "      fill: #FFFFFF;\n",
              "    }\n",
              "  </style>\n",
              "\n",
              "      <script>\n",
              "        const buttonEl =\n",
              "          document.querySelector('#df-0b4d6848-10f7-40b8-8717-98fb8896f022 button.colab-df-convert');\n",
              "        buttonEl.style.display =\n",
              "          google.colab.kernel.accessAllowed ? 'block' : 'none';\n",
              "\n",
              "        async function convertToInteractive(key) {\n",
              "          const element = document.querySelector('#df-0b4d6848-10f7-40b8-8717-98fb8896f022');\n",
              "          const dataTable =\n",
              "            await google.colab.kernel.invokeFunction('convertToInteractive',\n",
              "                                                     [key], {});\n",
              "          if (!dataTable) return;\n",
              "\n",
              "          const docLinkHtml = 'Like what you see? Visit the ' +\n",
              "            '<a target=\"_blank\" href=https://colab.research.google.com/notebooks/data_table.ipynb>data table notebook</a>'\n",
              "            + ' to learn more about interactive tables.';\n",
              "          element.innerHTML = '';\n",
              "          dataTable['output_type'] = 'display_data';\n",
              "          await google.colab.output.renderOutput(dataTable, element);\n",
              "          const docLink = document.createElement('div');\n",
              "          docLink.innerHTML = docLinkHtml;\n",
              "          element.appendChild(docLink);\n",
              "        }\n",
              "      </script>\n",
              "    </div>\n",
              "  </div>\n",
              "  "
            ]
          },
          "metadata": {},
          "execution_count": 285
        }
      ]
    },
    {
      "cell_type": "code",
      "source": [
        "#Plot all variables\n",
        "class1.hist(layout=(4,4), figsize=(20,10))"
      ],
      "metadata": {
        "colab": {
          "base_uri": "https://localhost:8080/",
          "height": 614
        },
        "id": "fbcJ-8J3W5pt",
        "outputId": "df81afbd-4b84-464c-e193-beb46068f3d9"
      },
      "execution_count": null,
      "outputs": [
        {
          "output_type": "execute_result",
          "data": {
            "text/plain": [
              "array([[<matplotlib.axes._subplots.AxesSubplot object at 0x7fc1480a1520>,\n",
              "        <matplotlib.axes._subplots.AxesSubplot object at 0x7fc148065a30>,\n",
              "        <matplotlib.axes._subplots.AxesSubplot object at 0x7fc148042910>,\n",
              "        <matplotlib.axes._subplots.AxesSubplot object at 0x7fc147d07d00>],\n",
              "       [<matplotlib.axes._subplots.AxesSubplot object at 0x7fc14c063e20>,\n",
              "        <matplotlib.axes._subplots.AxesSubplot object at 0x7fc148284df0>,\n",
              "        <matplotlib.axes._subplots.AxesSubplot object at 0x7fc14be59dc0>,\n",
              "        <matplotlib.axes._subplots.AxesSubplot object at 0x7fc14be599d0>],\n",
              "       [<matplotlib.axes._subplots.AxesSubplot object at 0x7fc14bd5f220>,\n",
              "        <matplotlib.axes._subplots.AxesSubplot object at 0x7fc14bd6d3a0>,\n",
              "        <matplotlib.axes._subplots.AxesSubplot object at 0x7fc14bc1e730>,\n",
              "        <matplotlib.axes._subplots.AxesSubplot object at 0x7fc14bb6c940>],\n",
              "       [<matplotlib.axes._subplots.AxesSubplot object at 0x7fc14b93fa90>,\n",
              "        <matplotlib.axes._subplots.AxesSubplot object at 0x7fc1482e4940>,\n",
              "        <matplotlib.axes._subplots.AxesSubplot object at 0x7fc1481789d0>,\n",
              "        <matplotlib.axes._subplots.AxesSubplot object at 0x7fc148084b80>]],\n",
              "      dtype=object)"
            ]
          },
          "metadata": {},
          "execution_count": 286
        },
        {
          "output_type": "display_data",
          "data": {
            "text/plain": [
              "<Figure size 1440x720 with 16 Axes>"
            ],
            "image/png": "[encoded data removed]"
          },
          "metadata": {
            "needs_background": "light"
          }
        }
      ]
    },
    {
      "cell_type": "code",
      "source": [
        "#Plot an histogram to visualise the balance of the outcomes\n",
        "sns.countplot(class1['RiskLevel'])"
      ],
      "metadata": {
        "colab": {
          "base_uri": "https://localhost:8080/",
          "height": 351
        },
        "id": "O64ZGZmiVFRO",
        "outputId": "68bbe6cc-3ea0-4fd4-8d36-7a9ae7e4fda7"
      },
      "execution_count": null,
      "outputs": [
        {
          "output_type": "stream",
          "name": "stderr",
          "text": [
            "/usr/local/lib/python3.8/dist-packages/seaborn/_decorators.py:36: FutureWarning: Pass the following variable as a keyword arg: x. From version 0.12, the only valid positional argument will be `data`, and passing other arguments without an explicit keyword will result in an error or misinterpretation.\n",
            "  warnings.warn(\n"
          ]
        },
        {
          "output_type": "execute_result",
          "data": {
            "text/plain": [
              "<matplotlib.axes._subplots.AxesSubplot at 0x7fc14b8fea90>"
            ]
          },
          "metadata": {},
          "execution_count": 287
        },
        {
          "output_type": "display_data",
          "data": {
            "text/plain": [
              "<Figure size 432x288 with 1 Axes>"
            ],
            "image/png": "[encoded data removed]"
          },
          "metadata": {
            "needs_background": "light"
          }
        }
      ]
    },
    {
      "cell_type": "code",
      "source": [
        "class1['RiskLevel'].unique"
      ],
      "metadata": {
        "colab": {
          "base_uri": "https://localhost:8080/"
        },
        "id": "YG4_0K_titdq",
        "outputId": "e7417f1d-2fbe-488f-ccf0-efc88d1263e7"
      },
      "execution_count": null,
      "outputs": [
        {
          "output_type": "execute_result",
          "data": {
            "text/plain": [
              "<bound method Series.unique of 0       high risk\n",
              "1       high risk\n",
              "2       high risk\n",
              "3       high risk\n",
              "4        low risk\n",
              "          ...    \n",
              "1009    high risk\n",
              "1010    high risk\n",
              "1011    high risk\n",
              "1012    high risk\n",
              "1013     mid risk\n",
              "Name: RiskLevel, Length: 1014, dtype: object>"
            ]
          },
          "metadata": {},
          "execution_count": 92
        }
      ]
    },
    {
      "cell_type": "code",
      "source": [
        "#Perform correlation between the variables\n",
        "class1.corr(method='pearson')"
      ],
      "metadata": {
        "colab": {
          "base_uri": "https://localhost:8080/",
          "height": 269
        },
        "id": "Nx8qTKzc70N4",
        "outputId": "21be923b-b0d1-4e00-ad88-c43b0ea4940a"
      },
      "execution_count": null,
      "outputs": [
        {
          "output_type": "execute_result",
          "data": {
            "text/plain": [
              "                  Age  SystolicBP  DiastolicBP        BS  BodyTemp  HeartRate  \\\n",
              "Age          1.000000    0.416045     0.398026  0.473284 -0.255323   0.079798   \n",
              "SystolicBP   0.416045    1.000000     0.787006  0.425172 -0.286616  -0.023108   \n",
              "DiastolicBP  0.398026    0.787006     1.000000  0.423824 -0.257538  -0.046151   \n",
              "BS           0.473284    0.425172     0.423824  1.000000 -0.103493   0.142867   \n",
              "BodyTemp    -0.255323   -0.286616    -0.257538 -0.103493  1.000000   0.098771   \n",
              "HeartRate    0.079798   -0.023108    -0.046151  0.142867  0.098771   1.000000   \n",
              "RiskLevel    0.267225    0.396473     0.346649  0.569942  0.163984   0.194312   \n",
              "\n",
              "             RiskLevel  \n",
              "Age           0.267225  \n",
              "SystolicBP    0.396473  \n",
              "DiastolicBP   0.346649  \n",
              "BS            0.569942  \n",
              "BodyTemp      0.163984  \n",
              "HeartRate     0.194312  \n",
              "RiskLevel     1.000000  "
            ],
            "text/html": [
              "\n",
              "  <div id=\"df-ffedc881-0a61-4d7f-8a41-406a935ba701\">\n",
              "    <div class=\"colab-df-container\">\n",
              "      <div>\n",
              "<style scoped>\n",
              "    .dataframe tbody tr th:only-of-type {\n",
              "        vertical-align: middle;\n",
              "    }\n",
              "\n",
              "    .dataframe tbody tr th {\n",
              "        vertical-align: top;\n",
              "    }\n",
              "\n",
              "    .dataframe thead th {\n",
              "        text-align: right;\n",
              "    }\n",
              "</style>\n",
              "<table border=\"1\" class=\"dataframe\">\n",
              "  <thead>\n",
              "    <tr style=\"text-align: right;\">\n",
              "      <th></th>\n",
              "      <th>Age</th>\n",
              "      <th>SystolicBP</th>\n",
              "      <th>DiastolicBP</th>\n",
              "      <th>BS</th>\n",
              "      <th>BodyTemp</th>\n",
              "      <th>HeartRate</th>\n",
              "      <th>RiskLevel</th>\n",
              "    </tr>\n",
              "  </thead>\n",
              "  <tbody>\n",
              "    <tr>\n",
              "      <th>Age</th>\n",
              "      <td>1.000000</td>\n",
              "      <td>0.416045</td>\n",
              "      <td>0.398026</td>\n",
              "      <td>0.473284</td>\n",
              "      <td>-0.255323</td>\n",
              "      <td>0.079798</td>\n",
              "      <td>0.267225</td>\n",
              "    </tr>\n",
              "    <tr>\n",
              "      <th>SystolicBP</th>\n",
              "      <td>0.416045</td>\n",
              "      <td>1.000000</td>\n",
              "      <td>0.787006</td>\n",
              "      <td>0.425172</td>\n",
              "      <td>-0.286616</td>\n",
              "      <td>-0.023108</td>\n",
              "      <td>0.396473</td>\n",
              "    </tr>\n",
              "    <tr>\n",
              "      <th>DiastolicBP</th>\n",
              "      <td>0.398026</td>\n",
              "      <td>0.787006</td>\n",
              "      <td>1.000000</td>\n",
              "      <td>0.423824</td>\n",
              "      <td>-0.257538</td>\n",
              "      <td>-0.046151</td>\n",
              "      <td>0.346649</td>\n",
              "    </tr>\n",
              "    <tr>\n",
              "      <th>BS</th>\n",
              "      <td>0.473284</td>\n",
              "      <td>0.425172</td>\n",
              "      <td>0.423824</td>\n",
              "      <td>1.000000</td>\n",
              "      <td>-0.103493</td>\n",
              "      <td>0.142867</td>\n",
              "      <td>0.569942</td>\n",
              "    </tr>\n",
              "    <tr>\n",
              "      <th>BodyTemp</th>\n",
              "      <td>-0.255323</td>\n",
              "      <td>-0.286616</td>\n",
              "      <td>-0.257538</td>\n",
              "      <td>-0.103493</td>\n",
              "      <td>1.000000</td>\n",
              "      <td>0.098771</td>\n",
              "      <td>0.163984</td>\n",
              "    </tr>\n",
              "    <tr>\n",
              "      <th>HeartRate</th>\n",
              "      <td>0.079798</td>\n",
              "      <td>-0.023108</td>\n",
              "      <td>-0.046151</td>\n",
              "      <td>0.142867</td>\n",
              "      <td>0.098771</td>\n",
              "      <td>1.000000</td>\n",
              "      <td>0.194312</td>\n",
              "    </tr>\n",
              "    <tr>\n",
              "      <th>RiskLevel</th>\n",
              "      <td>0.267225</td>\n",
              "      <td>0.396473</td>\n",
              "      <td>0.346649</td>\n",
              "      <td>0.569942</td>\n",
              "      <td>0.163984</td>\n",
              "      <td>0.194312</td>\n",
              "      <td>1.000000</td>\n",
              "    </tr>\n",
              "  </tbody>\n",
              "</table>\n",
              "</div>\n",
              "      <button class=\"colab-df-convert\" onclick=\"convertToInteractive('df-ffedc881-0a61-4d7f-8a41-406a935ba701')\"\n",
              "              title=\"Convert this dataframe to an interactive table.\"\n",
              "              style=\"display:none;\">\n",
              "        \n",
              "  <svg xmlns=\"http://www.w3.org/2000/svg\" height=\"24px\"viewBox=\"0 0 24 24\"\n",
              "       width=\"24px\">\n",
              "    <path d=\"M0 0h24v24H0V0z\" fill=\"none\"/>\n",
              "    <path d=\"M18.56 5.44l.94 2.06.94-2.06 2.06-.94-2.06-.94-.94-2.06-.94 2.06-2.06.94zm-11 1L8.5 8.5l.94-2.06 2.06-.94-2.06-.94L8.5 2.5l-.94 2.06-2.06.94zm10 10l.94 2.06.94-2.06 2.06-.94-2.06-.94-.94-2.06-.94 2.06-2.06.94z\"/><path d=\"M17.41 7.96l-1.37-1.37c-.4-.4-.92-.59-1.43-.59-.52 0-1.04.2-1.43.59L10.3 9.45l-7.72 7.72c-.78.78-.78 2.05 0 2.83L4 21.41c.39.39.9.59 1.41.59.51 0 1.02-.2 1.41-.59l7.78-7.78 2.81-2.81c.8-.78.8-2.07 0-2.86zM5.41 20L4 18.59l7.72-7.72 1.47 1.35L5.41 20z\"/>\n",
              "  </svg>\n",
              "      </button>\n",
              "      \n",
              "  <style>\n",
              "    .colab-df-container {\n",
              "      display:flex;\n",
              "      flex-wrap:wrap;\n",
              "      gap: 12px;\n",
              "    }\n",
              "\n",
              "    .colab-df-convert {\n",
              "      background-color: #E8F0FE;\n",
              "      border: none;\n",
              "      border-radius: 50%;\n",
              "      cursor: pointer;\n",
              "      display: none;\n",
              "      fill: #1967D2;\n",
              "      height: 32px;\n",
              "      padding: 0 0 0 0;\n",
              "      width: 32px;\n",
              "    }\n",
              "\n",
              "    .colab-df-convert:hover {\n",
              "      background-color: #E2EBFA;\n",
              "      box-shadow: 0px 1px 2px rgba(60, 64, 67, 0.3), 0px 1px 3px 1px rgba(60, 64, 67, 0.15);\n",
              "      fill: #174EA6;\n",
              "    }\n",
              "\n",
              "    [theme=dark] .colab-df-convert {\n",
              "      background-color: #3B4455;\n",
              "      fill: #D2E3FC;\n",
              "    }\n",
              "\n",
              "    [theme=dark] .colab-df-convert:hover {\n",
              "      background-color: #434B5C;\n",
              "      box-shadow: 0px 1px 3px 1px rgba(0, 0, 0, 0.15);\n",
              "      filter: drop-shadow(0px 1px 2px rgba(0, 0, 0, 0.3));\n",
              "      fill: #FFFFFF;\n",
              "    }\n",
              "  </style>\n",
              "\n",
              "      <script>\n",
              "        const buttonEl =\n",
              "          document.querySelector('#df-ffedc881-0a61-4d7f-8a41-406a935ba701 button.colab-df-convert');\n",
              "        buttonEl.style.display =\n",
              "          google.colab.kernel.accessAllowed ? 'block' : 'none';\n",
              "\n",
              "        async function convertToInteractive(key) {\n",
              "          const element = document.querySelector('#df-ffedc881-0a61-4d7f-8a41-406a935ba701');\n",
              "          const dataTable =\n",
              "            await google.colab.kernel.invokeFunction('convertToInteractive',\n",
              "                                                     [key], {});\n",
              "          if (!dataTable) return;\n",
              "\n",
              "          const docLinkHtml = 'Like what you see? Visit the ' +\n",
              "            '<a target=\"_blank\" href=https://colab.research.google.com/notebooks/data_table.ipynb>data table notebook</a>'\n",
              "            + ' to learn more about interactive tables.';\n",
              "          element.innerHTML = '';\n",
              "          dataTable['output_type'] = 'display_data';\n",
              "          await google.colab.output.renderOutput(dataTable, element);\n",
              "          const docLink = document.createElement('div');\n",
              "          docLink.innerHTML = docLinkHtml;\n",
              "          element.appendChild(docLink);\n",
              "        }\n",
              "      </script>\n",
              "    </div>\n",
              "  </div>\n",
              "  "
            ]
          },
          "metadata": {},
          "execution_count": 269
        }
      ]
    },
    {
      "cell_type": "code",
      "source": [
        "#Create dependent and independent vaariables\n",
        "X = class1[['Age','SystolicBP','DiastolicBP','BodyTemp','BS','HeartRate']]\n",
        "y = class1[['RiskLevel']]"
      ],
      "metadata": {
        "id": "YFU8DwhSAbTw"
      },
      "execution_count": null,
      "outputs": []
    },
    {
      "cell_type": "code",
      "source": [
        "# creating instance of labelencoder\n",
        "#labelencoder = LabelEncoder()\n",
        "# Assigning numerical values and storing in another column\n",
        "#y = labelencoder.fit_transform(y_Risk.values.ravel())\n",
        "sns.countplot(class1.RiskLevel)"
      ],
      "metadata": {
        "colab": {
          "base_uri": "https://localhost:8080/",
          "height": 351
        },
        "id": "fm4sjLA_9qsu",
        "outputId": "472fea48-5d16-4f75-f360-450b9d5054c2"
      },
      "execution_count": null,
      "outputs": [
        {
          "output_type": "stream",
          "name": "stderr",
          "text": [
            "/usr/local/lib/python3.8/dist-packages/seaborn/_decorators.py:36: FutureWarning: Pass the following variable as a keyword arg: x. From version 0.12, the only valid positional argument will be `data`, and passing other arguments without an explicit keyword will result in an error or misinterpretation.\n",
            "  warnings.warn(\n"
          ]
        },
        {
          "output_type": "execute_result",
          "data": {
            "text/plain": [
              "<matplotlib.axes._subplots.AxesSubplot at 0x7fc1480cb370>"
            ]
          },
          "metadata": {},
          "execution_count": 278
        },
        {
          "output_type": "display_data",
          "data": {
            "text/plain": [
              "<Figure size 432x288 with 1 Axes>"
            ],
            "image/png": "[encoded data removed]"
          },
          "metadata": {
            "needs_background": "light"
          }
        }
      ]
    },
    {
      "cell_type": "code",
      "source": [
        "#split into training and test data\n",
        "X_train, X_test, y_train, y_test = train_test_split(X, y, test_size = 0.2,random_state=42)"
      ],
      "metadata": {
        "id": "lJcRzjoQAa2H"
      },
      "execution_count": null,
      "outputs": []
    },
    {
      "cell_type": "code",
      "source": [
        "#Standardize and tranform the training and test independent data\n",
        "scaler = StandardScaler()\n",
        "scaler.fit(X_train)\n",
        "X_train = scaler.transform(X_train)\n",
        "X_test = scaler.transform(X_test)"
      ],
      "metadata": {
        "id": "4S7VTYi6HFNq"
      },
      "execution_count": null,
      "outputs": []
    },
    {
      "cell_type": "code",
      "source": [
        "from sklearn.tree import DecisionTreeClassifier"
      ],
      "metadata": {
        "id": "idUloczAHLNr"
      },
      "execution_count": null,
      "outputs": []
    },
    {
      "cell_type": "code",
      "source": [
        "# Algorithm: Decision Tree\n",
        "from sklearn.tree import DecisionTreeClassifier\n",
        "classifier= DecisionTreeClassifier(criterion = 'gini',random_state=42)\n",
        "classifier.fit(X_train,y_train)\n",
        "\n",
        "#predicting the test set results\n",
        "y_pred=classifier.predict(X_test)\n",
        "print(y_pred)\n",
        "print(y_test)"
      ],
      "metadata": {
        "colab": {
          "base_uri": "https://localhost:8080/"
        },
        "id": "kwz05eAYICLF",
        "outputId": "9e578375-a0d8-4b9a-aee1-08dd3a21a334"
      },
      "execution_count": null,
      "outputs": [
        {
          "output_type": "stream",
          "name": "stdout",
          "text": [
            "[2. 3. 3. 1. 1. 2. 2. 2. 2. 1. 3. 2. 2. 3. 2. 2. 3. 1. 1. 2. 2. 2. 3. 3.\n",
            " 3. 2. 3. 1. 1. 1. 2. 3. 1. 2. 1. 3. 3. 1. 1. 3. 3. 1. 3. 3. 1. 2. 3. 2.\n",
            " 1. 1. 2. 1. 1. 2. 2. 2. 3. 1. 1. 2. 1. 2. 2. 1. 1. 3. 2. 3. 2. 3. 3. 3.\n",
            " 2. 2. 2. 3. 3. 2. 3. 2. 1. 2. 1. 1. 2. 1. 1. 2. 3. 2. 2. 3. 1. 3. 2. 1.\n",
            " 2. 1. 3. 2. 1. 2. 1. 1. 2. 2. 1. 2. 1. 2. 2. 2. 1. 3. 2. 1. 1. 3. 1. 3.\n",
            " 2. 1. 1. 2. 3. 3. 2. 2. 2. 1. 1. 1. 2. 2. 1. 1. 3. 2. 1. 2. 3. 2. 3. 3.\n",
            " 1. 1. 3. 1. 1. 2. 1. 2. 1. 2. 3. 2. 1. 2. 1. 2. 1. 1. 1. 2. 1. 2. 2. 2.\n",
            " 1. 1. 3. 1. 2. 1. 2. 3. 2. 1. 1. 1. 3. 2. 1. 2. 3. 1. 3. 1. 2. 1. 2. 2.\n",
            " 2. 2. 1. 2. 2. 3. 1. 2. 2. 2. 3.]\n",
            "     RiskLevel\n",
            "752        2.0\n",
            "519        3.0\n",
            "210        3.0\n",
            "611        1.0\n",
            "914        1.0\n",
            "..         ...\n",
            "370        1.0\n",
            "381        2.0\n",
            "780        2.0\n",
            "760        2.0\n",
            "682        3.0\n",
            "\n",
            "[203 rows x 1 columns]\n"
          ]
        }
      ]
    },
    {
      "cell_type": "code",
      "source": [
        "cm=metrics.confusion_matrix(y_test,y_pred)\n",
        "#print('accuracy:%.2f\\n\\n'%(acc))\n",
        "print(metrics.accuracy_score(y_test, y_pred)*100)\n",
        "print(confusion_matrix(y_test, y_pred))\n",
        "print(classification_report(y_test, y_pred))"
      ],
      "metadata": {
        "colab": {
          "base_uri": "https://localhost:8080/"
        },
        "id": "_bk6HO9AxUZd",
        "outputId": "f6347071-11ba-402c-8fdc-88f8cc2697fd"
      },
      "execution_count": null,
      "outputs": [
        {
          "output_type": "stream",
          "name": "stdout",
          "text": [
            "82.26600985221675\n",
            "[[63 12  5]\n",
            " [ 9 64  3]\n",
            " [ 1  6 40]]\n",
            "              precision    recall  f1-score   support\n",
            "\n",
            "         1.0       0.86      0.79      0.82        80\n",
            "         2.0       0.78      0.84      0.81        76\n",
            "         3.0       0.83      0.85      0.84        47\n",
            "\n",
            "    accuracy                           0.82       203\n",
            "   macro avg       0.83      0.83      0.83       203\n",
            "weighted avg       0.83      0.82      0.82       203\n",
            "\n"
          ]
        }
      ]
    },
    {
      "cell_type": "code",
      "source": [
        "ax=sns.heatmap(cm,cmap='flare',annot=True,fmt='d')\n",
        "\n",
        "plt.xlabel(\"Predicted Class\",fontsize=12)\n",
        "plt.ylabel(\"True class,fontsize=12\")\n",
        "plt.title(\"Confusion Matrix\",fontsize=12)\n",
        "plt.show()"
      ],
      "metadata": {
        "colab": {
          "base_uri": "https://localhost:8080/",
          "height": 298
        },
        "id": "349DYL0RL_nL",
        "outputId": "2611df06-fecb-4de9-cd11-59b9443982be"
      },
      "execution_count": null,
      "outputs": [
        {
          "output_type": "display_data",
          "data": {
            "text/plain": [
              "<Figure size 432x288 with 2 Axes>"
            ],
            "image/png": "[encoded data removed]"
          },
          "metadata": {
            "needs_background": "light"
          }
        }
      ]
    },
    {
      "cell_type": "markdown",
      "source": [
        "ax=sns.heatmap(cm,cmap='flare',annot=True,fmt='d')\n",
        "\n",
        "plt.xlabel(\"Predicted Class\",fontsize=12)\n",
        "plt.ylabel(\"True class,fontsize=12\")\n",
        "plt.title(\"Confusion Matrix\",fontsize=12)\n",
        "plt.show()"
      ],
      "metadata": {
        "id": "DetqwQUyy_4d"
      }
    },
    {
      "cell_type": "code",
      "source": [
        "import tensorflow as tf"
      ],
      "metadata": {
        "id": "7wClthRNGj38"
      },
      "execution_count": null,
      "outputs": []
    },
    {
      "cell_type": "code",
      "source": [
        "#Dependencies\n",
        "import keras\n",
        "from keras.models import Sequential\n",
        "from keras.layers import Dense\n",
        "\n",
        "# creating instance of labelencoder\n",
        "class1['RiskLevel'].replace({\"high risk\": \"3\", \"mid risk\": \"2\", \"low risk\" : \"1\"}, inplace=True)\n",
        "class1['RiskLevel']=class1['RiskLevel'].astype(float)\n",
        "\n",
        "X = class1.drop(\"RiskLevel\", axis=1)\n",
        "y = class1.RiskLevel\n",
        "\n",
        "#Create train and test data for the model\n",
        "X_train,X_test,y_train,y_test=train_test_split(X,y,test_size=0.2,stratify=y,random_state=99)\n",
        "scaler=StandardScaler()\n",
        "X_train=scaler.fit_transform(X_train)\n",
        "X_test=scaler.fit_transform(X_test)\n",
        "\n",
        "# Use the AdamW optimizer with a learning rate of 0.001\n",
        "optimizer = tf.keras.optimizers.Adam(learning_rate=0.001)\n",
        "\n",
        "# Neural network\n",
        "model = tf.keras.models.Sequential()\n",
        "model.add(tf.keras.layers.Dense(8, input_shape=(6, ), activation='relu'))\n",
        "#model.add(tf.keras.layers.Dense(16, activation='relu'))\n",
        "\n",
        "# add a dropout layer with a rate of 0.5\n",
        "model.add(tf.keras.layers.Dropout(0.5))\n",
        "\n",
        "# add a batch normalization layer\n",
        "model.add(tf.keras.layers.BatchNormalization())\n",
        "model.add(tf.keras.layers.Dense(1, activation='sigmoid'))\n",
        "model.compile(loss='binary_crossentropy', optimizer=optimizer, metrics=['accuracy'])"
      ],
      "metadata": {
        "id": "VVVKjjIxzplV"
      },
      "execution_count": null,
      "outputs": []
    },
    {
      "cell_type": "code",
      "source": [
        "model.summary()"
      ],
      "metadata": {
        "colab": {
          "base_uri": "https://localhost:8080/"
        },
        "id": "NxACi2vrAIE_",
        "outputId": "9984f466-fe3a-4f34-f944-d4ba04761bda"
      },
      "execution_count": null,
      "outputs": [
        {
          "output_type": "stream",
          "name": "stdout",
          "text": [
            "Model: \"sequential_34\"\n",
            "_________________________________________________________________\n",
            " Layer (type)                Output Shape              Param #   \n",
            "=================================================================\n",
            " dense_81 (Dense)            (None, 8)                 56        \n",
            "                                                                 \n",
            " dropout_6 (Dropout)         (None, 8)                 0         \n",
            "                                                                 \n",
            " batch_normalization_6 (Batc  (None, 8)                32        \n",
            " hNormalization)                                                 \n",
            "                                                                 \n",
            " dense_82 (Dense)            (None, 1)                 9         \n",
            "                                                                 \n",
            "=================================================================\n",
            "Total params: 97\n",
            "Trainable params: 81\n",
            "Non-trainable params: 16\n",
            "_________________________________________________________________\n"
          ]
        }
      ]
    },
    {
      "cell_type": "code",
      "source": [
        "# Import the class_weight module from sklearn\n",
        "from sklearn.utils import class_weight"
      ],
      "metadata": {
        "id": "VbevPQjvlyha"
      },
      "execution_count": null,
      "outputs": []
    },
    {
      "cell_type": "code",
      "source": [
        "# Calculate class weights\n",
        "#class_weights = {1:0.832,1:1.005,3:1.25}\n",
        "\n",
        "history=model.fit(X_train,y_train,batch_size=64,epochs=100,verbose=2,validation_data=(X_test,y_test))"
      ],
      "metadata": {
        "colab": {
          "base_uri": "https://localhost:8080/"
        },
        "id": "3EMCU3cQHZ0E",
        "outputId": "b9732122-1a6d-4520-fd0e-170de176b763"
      },
      "execution_count": null,
      "outputs": [
        {
          "output_type": "stream",
          "name": "stdout",
          "text": [
            "Epoch 1/100\n",
            "13/13 - 1s - loss: 0.9136 - accuracy: 0.3009 - val_loss: 1.2166 - val_accuracy: 0.2167 - 916ms/epoch - 70ms/step\n",
            "Epoch 2/100\n",
            "13/13 - 0s - loss: 0.8217 - accuracy: 0.2959 - val_loss: 1.0892 - val_accuracy: 0.2315 - 62ms/epoch - 5ms/step\n",
            "Epoch 3/100\n",
            "13/13 - 0s - loss: 0.7462 - accuracy: 0.2972 - val_loss: 0.9687 - val_accuracy: 0.2512 - 61ms/epoch - 5ms/step\n",
            "Epoch 4/100\n",
            "13/13 - 0s - loss: 0.6842 - accuracy: 0.2836 - val_loss: 0.8531 - val_accuracy: 0.2709 - 46ms/epoch - 4ms/step\n",
            "Epoch 5/100\n",
            "13/13 - 0s - loss: 0.6024 - accuracy: 0.2935 - val_loss: 0.7434 - val_accuracy: 0.2660 - 63ms/epoch - 5ms/step\n",
            "Epoch 6/100\n",
            "13/13 - 0s - loss: 0.5373 - accuracy: 0.3021 - val_loss: 0.6374 - val_accuracy: 0.2660 - 46ms/epoch - 4ms/step\n",
            "Epoch 7/100\n",
            "13/13 - 0s - loss: 0.4235 - accuracy: 0.2848 - val_loss: 0.5352 - val_accuracy: 0.2660 - 66ms/epoch - 5ms/step\n",
            "Epoch 8/100\n",
            "13/13 - 0s - loss: 0.3512 - accuracy: 0.2873 - val_loss: 0.4302 - val_accuracy: 0.2759 - 62ms/epoch - 5ms/step\n",
            "Epoch 9/100\n",
            "13/13 - 0s - loss: 0.2497 - accuracy: 0.2824 - val_loss: 0.3281 - val_accuracy: 0.2857 - 69ms/epoch - 5ms/step\n",
            "Epoch 10/100\n",
            "13/13 - 0s - loss: 0.1820 - accuracy: 0.2762 - val_loss: 0.2240 - val_accuracy: 0.2857 - 48ms/epoch - 4ms/step\n",
            "Epoch 11/100\n",
            "13/13 - 0s - loss: 0.0990 - accuracy: 0.2824 - val_loss: 0.1190 - val_accuracy: 0.2857 - 62ms/epoch - 5ms/step\n",
            "Epoch 12/100\n",
            "13/13 - 0s - loss: -2.0038e-02 - accuracy: 0.2885 - val_loss: 0.0125 - val_accuracy: 0.2759 - 57ms/epoch - 4ms/step\n",
            "Epoch 13/100\n",
            "13/13 - 0s - loss: -1.0542e-01 - accuracy: 0.2848 - val_loss: -9.9607e-02 - val_accuracy: 0.2759 - 46ms/epoch - 4ms/step\n",
            "Epoch 14/100\n",
            "13/13 - 0s - loss: -1.9506e-01 - accuracy: 0.2836 - val_loss: -2.2290e-01 - val_accuracy: 0.2759 - 52ms/epoch - 4ms/step\n",
            "Epoch 15/100\n",
            "13/13 - 0s - loss: -3.0108e-01 - accuracy: 0.2947 - val_loss: -3.3979e-01 - val_accuracy: 0.2759 - 50ms/epoch - 4ms/step\n",
            "Epoch 16/100\n",
            "13/13 - 0s - loss: -3.5850e-01 - accuracy: 0.2910 - val_loss: -4.6104e-01 - val_accuracy: 0.2759 - 47ms/epoch - 4ms/step\n",
            "Epoch 17/100\n",
            "13/13 - 0s - loss: -4.9650e-01 - accuracy: 0.3083 - val_loss: -5.9530e-01 - val_accuracy: 0.2759 - 48ms/epoch - 4ms/step\n",
            "Epoch 18/100\n",
            "13/13 - 0s - loss: -6.9852e-01 - accuracy: 0.2824 - val_loss: -7.3667e-01 - val_accuracy: 0.2759 - 57ms/epoch - 4ms/step\n",
            "Epoch 19/100\n",
            "13/13 - 0s - loss: -8.1775e-01 - accuracy: 0.2959 - val_loss: -8.8799e-01 - val_accuracy: 0.2759 - 65ms/epoch - 5ms/step\n",
            "Epoch 20/100\n",
            "13/13 - 0s - loss: -9.1491e-01 - accuracy: 0.3033 - val_loss: -1.0460e+00 - val_accuracy: 0.2759 - 49ms/epoch - 4ms/step\n",
            "Epoch 21/100\n",
            "13/13 - 0s - loss: -1.0707e+00 - accuracy: 0.2947 - val_loss: -1.2089e+00 - val_accuracy: 0.2857 - 63ms/epoch - 5ms/step\n",
            "Epoch 22/100\n",
            "13/13 - 0s - loss: -1.2892e+00 - accuracy: 0.2873 - val_loss: -1.3732e+00 - val_accuracy: 0.2906 - 62ms/epoch - 5ms/step\n",
            "Epoch 23/100\n",
            "13/13 - 0s - loss: -1.3878e+00 - accuracy: 0.2935 - val_loss: -1.5634e+00 - val_accuracy: 0.3054 - 47ms/epoch - 4ms/step\n",
            "Epoch 24/100\n",
            "13/13 - 0s - loss: -1.5612e+00 - accuracy: 0.3181 - val_loss: -1.7558e+00 - val_accuracy: 0.3153 - 47ms/epoch - 4ms/step\n",
            "Epoch 25/100\n",
            "13/13 - 0s - loss: -1.7956e+00 - accuracy: 0.3046 - val_loss: -1.9577e+00 - val_accuracy: 0.3153 - 50ms/epoch - 4ms/step\n",
            "Epoch 26/100\n",
            "13/13 - 0s - loss: -1.9500e+00 - accuracy: 0.3144 - val_loss: -2.1578e+00 - val_accuracy: 0.3153 - 68ms/epoch - 5ms/step\n",
            "Epoch 27/100\n",
            "13/13 - 0s - loss: -2.1395e+00 - accuracy: 0.3231 - val_loss: -2.3687e+00 - val_accuracy: 0.3399 - 69ms/epoch - 5ms/step\n",
            "Epoch 28/100\n",
            "13/13 - 0s - loss: -2.3502e+00 - accuracy: 0.3218 - val_loss: -2.6009e+00 - val_accuracy: 0.3448 - 63ms/epoch - 5ms/step\n",
            "Epoch 29/100\n",
            "13/13 - 0s - loss: -2.6303e+00 - accuracy: 0.3009 - val_loss: -2.8289e+00 - val_accuracy: 0.3547 - 54ms/epoch - 4ms/step\n",
            "Epoch 30/100\n",
            "13/13 - 0s - loss: -2.7913e+00 - accuracy: 0.3144 - val_loss: -3.0690e+00 - val_accuracy: 0.3596 - 48ms/epoch - 4ms/step\n",
            "Epoch 31/100\n",
            "13/13 - 0s - loss: -3.1227e+00 - accuracy: 0.3157 - val_loss: -3.3090e+00 - val_accuracy: 0.3645 - 48ms/epoch - 4ms/step\n",
            "Epoch 32/100\n",
            "13/13 - 0s - loss: -3.3544e+00 - accuracy: 0.3218 - val_loss: -3.5478e+00 - val_accuracy: 0.3645 - 50ms/epoch - 4ms/step\n",
            "Epoch 33/100\n",
            "13/13 - 0s - loss: -3.5353e+00 - accuracy: 0.3120 - val_loss: -3.8182e+00 - val_accuracy: 0.3645 - 50ms/epoch - 4ms/step\n",
            "Epoch 34/100\n",
            "13/13 - 0s - loss: -3.7799e+00 - accuracy: 0.3194 - val_loss: -4.0950e+00 - val_accuracy: 0.3645 - 47ms/epoch - 4ms/step\n",
            "Epoch 35/100\n",
            "13/13 - 0s - loss: -4.0732e+00 - accuracy: 0.3181 - val_loss: -4.3716e+00 - val_accuracy: 0.3645 - 47ms/epoch - 4ms/step\n",
            "Epoch 36/100\n",
            "13/13 - 0s - loss: -4.2950e+00 - accuracy: 0.3243 - val_loss: -4.6807e+00 - val_accuracy: 0.3645 - 65ms/epoch - 5ms/step\n",
            "Epoch 37/100\n",
            "13/13 - 0s - loss: -4.6250e+00 - accuracy: 0.3305 - val_loss: -4.9697e+00 - val_accuracy: 0.3645 - 64ms/epoch - 5ms/step\n",
            "Epoch 38/100\n",
            "13/13 - 0s - loss: -4.9603e+00 - accuracy: 0.3218 - val_loss: -5.2880e+00 - val_accuracy: 0.3645 - 47ms/epoch - 4ms/step\n",
            "Epoch 39/100\n",
            "13/13 - 0s - loss: -5.1776e+00 - accuracy: 0.3354 - val_loss: -5.5717e+00 - val_accuracy: 0.3645 - 48ms/epoch - 4ms/step\n",
            "Epoch 40/100\n",
            "13/13 - 0s - loss: -5.4712e+00 - accuracy: 0.3342 - val_loss: -5.8712e+00 - val_accuracy: 0.3645 - 48ms/epoch - 4ms/step\n",
            "Epoch 41/100\n",
            "13/13 - 0s - loss: -5.7787e+00 - accuracy: 0.3317 - val_loss: -6.2025e+00 - val_accuracy: 0.3695 - 47ms/epoch - 4ms/step\n",
            "Epoch 42/100\n",
            "13/13 - 0s - loss: -6.0610e+00 - accuracy: 0.3379 - val_loss: -6.5374e+00 - val_accuracy: 0.3695 - 52ms/epoch - 4ms/step\n",
            "Epoch 43/100\n",
            "13/13 - 0s - loss: -6.3026e+00 - accuracy: 0.3465 - val_loss: -6.8930e+00 - val_accuracy: 0.3695 - 48ms/epoch - 4ms/step\n",
            "Epoch 44/100\n",
            "13/13 - 0s - loss: -6.6733e+00 - accuracy: 0.3453 - val_loss: -7.2177e+00 - val_accuracy: 0.3695 - 48ms/epoch - 4ms/step\n",
            "Epoch 45/100\n",
            "13/13 - 0s - loss: -7.1196e+00 - accuracy: 0.3440 - val_loss: -7.5622e+00 - val_accuracy: 0.3695 - 74ms/epoch - 6ms/step\n",
            "Epoch 46/100\n",
            "13/13 - 0s - loss: -7.4492e+00 - accuracy: 0.3391 - val_loss: -7.9030e+00 - val_accuracy: 0.3695 - 67ms/epoch - 5ms/step\n",
            "Epoch 47/100\n",
            "13/13 - 0s - loss: -7.6853e+00 - accuracy: 0.3465 - val_loss: -8.2716e+00 - val_accuracy: 0.3695 - 68ms/epoch - 5ms/step\n",
            "Epoch 48/100\n",
            "13/13 - 0s - loss: -8.2328e+00 - accuracy: 0.3403 - val_loss: -8.6311e+00 - val_accuracy: 0.3744 - 51ms/epoch - 4ms/step\n",
            "Epoch 49/100\n",
            "13/13 - 0s - loss: -8.5339e+00 - accuracy: 0.3514 - val_loss: -9.0015e+00 - val_accuracy: 0.3744 - 66ms/epoch - 5ms/step\n",
            "Epoch 50/100\n",
            "13/13 - 0s - loss: -8.9738e+00 - accuracy: 0.3477 - val_loss: -9.3838e+00 - val_accuracy: 0.3744 - 54ms/epoch - 4ms/step\n",
            "Epoch 51/100\n",
            "13/13 - 0s - loss: -9.2620e+00 - accuracy: 0.3416 - val_loss: -9.7839e+00 - val_accuracy: 0.3744 - 50ms/epoch - 4ms/step\n",
            "Epoch 52/100\n",
            "13/13 - 0s - loss: -9.7570e+00 - accuracy: 0.3465 - val_loss: -1.0231e+01 - val_accuracy: 0.3744 - 52ms/epoch - 4ms/step\n",
            "Epoch 53/100\n",
            "13/13 - 0s - loss: -1.0239e+01 - accuracy: 0.3416 - val_loss: -1.0681e+01 - val_accuracy: 0.3744 - 50ms/epoch - 4ms/step\n",
            "Epoch 54/100\n",
            "13/13 - 0s - loss: -1.0468e+01 - accuracy: 0.3588 - val_loss: -1.1117e+01 - val_accuracy: 0.3744 - 47ms/epoch - 4ms/step\n",
            "Epoch 55/100\n",
            "13/13 - 0s - loss: -1.0893e+01 - accuracy: 0.3477 - val_loss: -1.1568e+01 - val_accuracy: 0.3744 - 63ms/epoch - 5ms/step\n",
            "Epoch 56/100\n",
            "13/13 - 0s - loss: -1.1426e+01 - accuracy: 0.3514 - val_loss: -1.2023e+01 - val_accuracy: 0.3744 - 51ms/epoch - 4ms/step\n",
            "Epoch 57/100\n",
            "13/13 - 0s - loss: -1.1656e+01 - accuracy: 0.3576 - val_loss: -1.2560e+01 - val_accuracy: 0.3793 - 66ms/epoch - 5ms/step\n",
            "Epoch 58/100\n",
            "13/13 - 0s - loss: -1.2196e+01 - accuracy: 0.3564 - val_loss: -1.3048e+01 - val_accuracy: 0.3793 - 51ms/epoch - 4ms/step\n",
            "Epoch 59/100\n",
            "13/13 - 0s - loss: -1.2825e+01 - accuracy: 0.3576 - val_loss: -1.3549e+01 - val_accuracy: 0.3793 - 51ms/epoch - 4ms/step\n",
            "Epoch 60/100\n",
            "13/13 - 0s - loss: -1.3119e+01 - accuracy: 0.3576 - val_loss: -1.4000e+01 - val_accuracy: 0.3793 - 50ms/epoch - 4ms/step\n",
            "Epoch 61/100\n",
            "13/13 - 0s - loss: -1.3778e+01 - accuracy: 0.3527 - val_loss: -1.4472e+01 - val_accuracy: 0.3793 - 50ms/epoch - 4ms/step\n",
            "Epoch 62/100\n",
            "13/13 - 0s - loss: -1.4079e+01 - accuracy: 0.3588 - val_loss: -1.4987e+01 - val_accuracy: 0.3793 - 49ms/epoch - 4ms/step\n",
            "Epoch 63/100\n",
            "13/13 - 0s - loss: -1.4615e+01 - accuracy: 0.3527 - val_loss: -1.5511e+01 - val_accuracy: 0.3793 - 50ms/epoch - 4ms/step\n",
            "Epoch 64/100\n",
            "13/13 - 0s - loss: -1.5114e+01 - accuracy: 0.3477 - val_loss: -1.6025e+01 - val_accuracy: 0.3793 - 55ms/epoch - 4ms/step\n",
            "Epoch 65/100\n",
            "13/13 - 0s - loss: -1.5753e+01 - accuracy: 0.3527 - val_loss: -1.6584e+01 - val_accuracy: 0.3793 - 56ms/epoch - 4ms/step\n",
            "Epoch 66/100\n",
            "13/13 - 0s - loss: -1.6205e+01 - accuracy: 0.3551 - val_loss: -1.7155e+01 - val_accuracy: 0.3793 - 49ms/epoch - 4ms/step\n",
            "Epoch 67/100\n",
            "13/13 - 0s - loss: -1.6671e+01 - accuracy: 0.3551 - val_loss: -1.7753e+01 - val_accuracy: 0.3793 - 49ms/epoch - 4ms/step\n",
            "Epoch 68/100\n",
            "13/13 - 0s - loss: -1.7155e+01 - accuracy: 0.3588 - val_loss: -1.8308e+01 - val_accuracy: 0.3793 - 54ms/epoch - 4ms/step\n",
            "Epoch 69/100\n",
            "13/13 - 0s - loss: -1.7572e+01 - accuracy: 0.3625 - val_loss: -1.8849e+01 - val_accuracy: 0.3793 - 49ms/epoch - 4ms/step\n",
            "Epoch 70/100\n",
            "13/13 - 0s - loss: -1.8235e+01 - accuracy: 0.3613 - val_loss: -1.9391e+01 - val_accuracy: 0.3793 - 63ms/epoch - 5ms/step\n",
            "Epoch 71/100\n",
            "13/13 - 0s - loss: -1.8694e+01 - accuracy: 0.3625 - val_loss: -1.9991e+01 - val_accuracy: 0.3793 - 48ms/epoch - 4ms/step\n",
            "Epoch 72/100\n",
            "13/13 - 0s - loss: -1.9352e+01 - accuracy: 0.3551 - val_loss: -2.0568e+01 - val_accuracy: 0.3793 - 51ms/epoch - 4ms/step\n",
            "Epoch 73/100\n",
            "13/13 - 0s - loss: -1.9611e+01 - accuracy: 0.3477 - val_loss: -2.1168e+01 - val_accuracy: 0.3793 - 50ms/epoch - 4ms/step\n",
            "Epoch 74/100\n",
            "13/13 - 0s - loss: -2.0146e+01 - accuracy: 0.3527 - val_loss: -2.1692e+01 - val_accuracy: 0.3793 - 64ms/epoch - 5ms/step\n",
            "Epoch 75/100\n",
            "13/13 - 0s - loss: -2.1212e+01 - accuracy: 0.3551 - val_loss: -2.2268e+01 - val_accuracy: 0.3793 - 49ms/epoch - 4ms/step\n",
            "Epoch 76/100\n",
            "13/13 - 0s - loss: -2.1555e+01 - accuracy: 0.3539 - val_loss: -2.2871e+01 - val_accuracy: 0.3793 - 64ms/epoch - 5ms/step\n",
            "Epoch 77/100\n",
            "13/13 - 0s - loss: -2.2105e+01 - accuracy: 0.3477 - val_loss: -2.3507e+01 - val_accuracy: 0.3793 - 50ms/epoch - 4ms/step\n",
            "Epoch 78/100\n",
            "13/13 - 0s - loss: -2.2628e+01 - accuracy: 0.3576 - val_loss: -2.4177e+01 - val_accuracy: 0.3793 - 51ms/epoch - 4ms/step\n",
            "Epoch 79/100\n",
            "13/13 - 0s - loss: -2.3722e+01 - accuracy: 0.3391 - val_loss: -2.4759e+01 - val_accuracy: 0.3793 - 52ms/epoch - 4ms/step\n",
            "Epoch 80/100\n",
            "13/13 - 0s - loss: -2.4249e+01 - accuracy: 0.3551 - val_loss: -2.5365e+01 - val_accuracy: 0.3793 - 49ms/epoch - 4ms/step\n",
            "Epoch 81/100\n",
            "13/13 - 0s - loss: -2.4555e+01 - accuracy: 0.3650 - val_loss: -2.5939e+01 - val_accuracy: 0.3793 - 48ms/epoch - 4ms/step\n",
            "Epoch 82/100\n",
            "13/13 - 0s - loss: -2.5141e+01 - accuracy: 0.3539 - val_loss: -2.6567e+01 - val_accuracy: 0.3793 - 69ms/epoch - 5ms/step\n",
            "Epoch 83/100\n",
            "13/13 - 0s - loss: -2.5925e+01 - accuracy: 0.3600 - val_loss: -2.7190e+01 - val_accuracy: 0.3793 - 71ms/epoch - 5ms/step\n",
            "Epoch 84/100\n",
            "13/13 - 0s - loss: -2.6184e+01 - accuracy: 0.3662 - val_loss: -2.7801e+01 - val_accuracy: 0.3793 - 64ms/epoch - 5ms/step\n",
            "Epoch 85/100\n",
            "13/13 - 0s - loss: -2.7125e+01 - accuracy: 0.3588 - val_loss: -2.8510e+01 - val_accuracy: 0.3793 - 51ms/epoch - 4ms/step\n",
            "Epoch 86/100\n",
            "13/13 - 0s - loss: -2.7587e+01 - accuracy: 0.3502 - val_loss: -2.9249e+01 - val_accuracy: 0.3793 - 57ms/epoch - 4ms/step\n",
            "Epoch 87/100\n",
            "13/13 - 0s - loss: -2.8656e+01 - accuracy: 0.3514 - val_loss: -2.9873e+01 - val_accuracy: 0.3793 - 47ms/epoch - 4ms/step\n",
            "Epoch 88/100\n",
            "13/13 - 0s - loss: -2.8953e+01 - accuracy: 0.3514 - val_loss: -3.0547e+01 - val_accuracy: 0.3793 - 50ms/epoch - 4ms/step\n",
            "Epoch 89/100\n",
            "13/13 - 0s - loss: -2.9656e+01 - accuracy: 0.3539 - val_loss: -3.1260e+01 - val_accuracy: 0.3793 - 59ms/epoch - 5ms/step\n",
            "Epoch 90/100\n",
            "13/13 - 0s - loss: -3.0372e+01 - accuracy: 0.3600 - val_loss: -3.1906e+01 - val_accuracy: 0.3793 - 50ms/epoch - 4ms/step\n",
            "Epoch 91/100\n",
            "13/13 - 0s - loss: -3.1019e+01 - accuracy: 0.3625 - val_loss: -3.2554e+01 - val_accuracy: 0.3793 - 48ms/epoch - 4ms/step\n",
            "Epoch 92/100\n",
            "13/13 - 0s - loss: -3.1557e+01 - accuracy: 0.3576 - val_loss: -3.3349e+01 - val_accuracy: 0.3793 - 51ms/epoch - 4ms/step\n",
            "Epoch 93/100\n",
            "13/13 - 0s - loss: -3.2693e+01 - accuracy: 0.3514 - val_loss: -3.4101e+01 - val_accuracy: 0.3842 - 55ms/epoch - 4ms/step\n",
            "Epoch 94/100\n",
            "13/13 - 0s - loss: -3.2814e+01 - accuracy: 0.3551 - val_loss: -3.4786e+01 - val_accuracy: 0.3842 - 55ms/epoch - 4ms/step\n",
            "Epoch 95/100\n",
            "13/13 - 0s - loss: -3.4322e+01 - accuracy: 0.3576 - val_loss: -3.5548e+01 - val_accuracy: 0.3842 - 50ms/epoch - 4ms/step\n",
            "Epoch 96/100\n",
            "13/13 - 0s - loss: -3.4381e+01 - accuracy: 0.3588 - val_loss: -3.6313e+01 - val_accuracy: 0.3842 - 52ms/epoch - 4ms/step\n",
            "Epoch 97/100\n",
            "13/13 - 0s - loss: -3.4889e+01 - accuracy: 0.3527 - val_loss: -3.6944e+01 - val_accuracy: 0.3842 - 47ms/epoch - 4ms/step\n",
            "Epoch 98/100\n",
            "13/13 - 0s - loss: -3.5945e+01 - accuracy: 0.3514 - val_loss: -3.7701e+01 - val_accuracy: 0.3842 - 66ms/epoch - 5ms/step\n",
            "Epoch 99/100\n",
            "13/13 - 0s - loss: -3.6615e+01 - accuracy: 0.3588 - val_loss: -3.8462e+01 - val_accuracy: 0.3842 - 65ms/epoch - 5ms/step\n",
            "Epoch 100/100\n",
            "13/13 - 0s - loss: -3.7365e+01 - accuracy: 0.3539 - val_loss: -3.9222e+01 - val_accuracy: 0.3842 - 49ms/epoch - 4ms/step\n"
          ]
        }
      ]
    },
    {
      "cell_type": "code",
      "source": [
        "accuracy=history.history['accuracy']\n",
        "validation_accuracy=history.history['val_accuracy']\n",
        "\n",
        "plt.plot(accuracy,label='Training Set Accuracy')\n",
        "plt.plot(validation_accuracy,label='Validation Set Accuracy')\n",
        "plt.ylabel('Accuracy')\n",
        "plt.ylim([min(plt.ylim()),0.5])\n",
        "plt.title('Training and validation Accuracy Across Epochs')\n",
        "plt.legend()"
      ],
      "metadata": {
        "colab": {
          "base_uri": "https://localhost:8080/",
          "height": 298
        },
        "id": "yMPNH3H2IPlJ",
        "outputId": "8ffd148d-0e78-4dcc-ea1c-13025b68fd8e"
      },
      "execution_count": null,
      "outputs": [
        {
          "output_type": "execute_result",
          "data": {
            "text/plain": [
              "<matplotlib.legend.Legend at 0x7fc1496cbbb0>"
            ]
          },
          "metadata": {},
          "execution_count": 256
        },
        {
          "output_type": "display_data",
          "data": {
            "text/plain": [
              "<Figure size 432x288 with 1 Axes>"
            ],
            "image/png": "[encoded data removed]"
          },
          "metadata": {
            "needs_background": "light"
          }
        }
      ]
    },
    {
      "cell_type": "code",
      "source": [
        "loss=history.history['loss']\n",
        "validation_loss=history.history['val_loss']\n",
        "\n",
        "plt.plot(loss,label='Training Set Loss')\n",
        "plt.plot(validation_loss,label='Validation Set Loss')\n",
        "plt.ylabel('Loss')\n",
        "plt.ylim([min(plt.ylim()),10])\n",
        "plt.title('Training and Validation Accuracy Across Epochs')\n",
        "plt.legend()"
      ],
      "metadata": {
        "colab": {
          "base_uri": "https://localhost:8080/",
          "height": 298
        },
        "id": "n0CKUDW_ZIhh",
        "outputId": "d7fe1562-cf39-4567-b1bd-b42cc9393264"
      },
      "execution_count": null,
      "outputs": [
        {
          "output_type": "execute_result",
          "data": {
            "text/plain": [
              "<matplotlib.legend.Legend at 0x7fc14a265640>"
            ]
          },
          "metadata": {},
          "execution_count": 257
        },
        {
          "output_type": "display_data",
          "data": {
            "text/plain": [
              "<Figure size 432x288 with 1 Axes>"
            ],
            "image/png": "[encoded data removed]"
          },
          "metadata": {
            "needs_background": "light"
          }
        }
      ]
    },
    {
      "cell_type": "code",
      "source": [
        "y_pred=model.predict(X_test)\n",
        "y_pred=y_pred.argmax(axis=1)"
      ],
      "metadata": {
        "colab": {
          "base_uri": "https://localhost:8080/"
        },
        "id": "7CPtuOfeaxPd",
        "outputId": "1fbe3947-6379-4dcf-c070-63fa7ef3121f"
      },
      "execution_count": null,
      "outputs": [
        {
          "output_type": "stream",
          "name": "stdout",
          "text": [
            "7/7 [==============================] - 0s 5ms/step\n"
          ]
        }
      ]
    },
    {
      "cell_type": "code",
      "source": [
        "# Make predictions on the test set\n",
        "y_pred = model.predict(X_test)\n",
        "\n",
        "# Adjust the decision threshold to optimize for the F1 score\n",
        "threshold = 0.4\n",
        "y_pred = (y_pred > threshold).astype(int)\n",
        "\n",
        "# Calculate the F1 score\n",
        "f1 = f1_score(y_test, y_pred,average='macro')\n",
        "\n",
        "# Print the F1 score\n",
        "print(f'F1 score: {f1:.3f}')\n"
      ],
      "metadata": {
        "colab": {
          "base_uri": "https://localhost:8080/"
        },
        "id": "ktuGoI1kpL2W",
        "outputId": "a306acdc-b932-43f4-908e-d392ae0f5efb"
      },
      "execution_count": null,
      "outputs": [
        {
          "output_type": "stream",
          "name": "stdout",
          "text": [
            "7/7 [==============================] - 0s 4ms/step\n",
            "F1 score: 0.447\n"
          ]
        }
      ]
    },
    {
      "cell_type": "code",
      "source": [
        "cm=metrics.confusion_matrix(y_test,y_pred)\n",
        "\n",
        "ax=sns.heatmap(cm,cmap='flare',annot=True,fmt='d')\n",
        "\n",
        "plt.xlabel(\"Predicted Class,fontsize=12\")\n",
        "plt.ylabel(\"True class,fontsize=12\")\n",
        "plt.title(\"Confusion Matrix\",fontsize=12)\n",
        "plt.show()"
      ],
      "metadata": {
        "colab": {
          "base_uri": "https://localhost:8080/",
          "height": 295
        },
        "id": "_aypsy84dM_8",
        "outputId": "0dce471f-eb3e-45b8-820b-e1fed50d9a0e"
      },
      "execution_count": null,
      "outputs": [
        {
          "output_type": "display_data",
          "data": {
            "text/plain": [
              "<Figure size 432x288 with 2 Axes>"
            ],
            "image/png": "[encoded data removed]"
          },
          "metadata": {
            "needs_background": "light"
          }
        }
      ]
    },
    {
      "cell_type": "code",
      "source": [
        "print(classification_report(y_test,y_pred))"
      ],
      "metadata": {
        "colab": {
          "base_uri": "https://localhost:8080/"
        },
        "id": "HpKihAqjeKMb",
        "outputId": "05339780-ae19-4aab-e7b8-ebca40af1df9"
      },
      "execution_count": null,
      "outputs": [
        {
          "output_type": "stream",
          "name": "stdout",
          "text": [
            "              precision    recall  f1-score   support\n",
            "\n",
            "         0.0       0.00      0.00      0.00       0.0\n",
            "         1.0       0.00      0.00      0.00      81.0\n",
            "         2.0       0.00      0.00      0.00      67.0\n",
            "         3.0       0.00      0.00      0.00      55.0\n",
            "\n",
            "    accuracy                           0.00     203.0\n",
            "   macro avg       0.00      0.00      0.00     203.0\n",
            "weighted avg       0.00      0.00      0.00     203.0\n",
            "\n"
          ]
        },
        {
          "output_type": "stream",
          "name": "stderr",
          "text": [
            "/usr/local/lib/python3.8/dist-packages/sklearn/metrics/_classification.py:1318: UndefinedMetricWarning: Precision and F-score are ill-defined and being set to 0.0 in labels with no predicted samples. Use `zero_division` parameter to control this behavior.\n",
            "  _warn_prf(average, modifier, msg_start, len(result))\n",
            "/usr/local/lib/python3.8/dist-packages/sklearn/metrics/_classification.py:1318: UndefinedMetricWarning: Recall and F-score are ill-defined and being set to 0.0 in labels with no true samples. Use `zero_division` parameter to control this behavior.\n",
            "  _warn_prf(average, modifier, msg_start, len(result))\n",
            "/usr/local/lib/python3.8/dist-packages/sklearn/metrics/_classification.py:1318: UndefinedMetricWarning: Precision and F-score are ill-defined and being set to 0.0 in labels with no predicted samples. Use `zero_division` parameter to control this behavior.\n",
            "  _warn_prf(average, modifier, msg_start, len(result))\n",
            "/usr/local/lib/python3.8/dist-packages/sklearn/metrics/_classification.py:1318: UndefinedMetricWarning: Recall and F-score are ill-defined and being set to 0.0 in labels with no true samples. Use `zero_division` parameter to control this behavior.\n",
            "  _warn_prf(average, modifier, msg_start, len(result))\n",
            "/usr/local/lib/python3.8/dist-packages/sklearn/metrics/_classification.py:1318: UndefinedMetricWarning: Precision and F-score are ill-defined and being set to 0.0 in labels with no predicted samples. Use `zero_division` parameter to control this behavior.\n",
            "  _warn_prf(average, modifier, msg_start, len(result))\n",
            "/usr/local/lib/python3.8/dist-packages/sklearn/metrics/_classification.py:1318: UndefinedMetricWarning: Recall and F-score are ill-defined and being set to 0.0 in labels with no true samples. Use `zero_division` parameter to control this behavior.\n",
            "  _warn_prf(average, modifier, msg_start, len(result))\n"
          ]
        }
      ]
    }
  ]
}